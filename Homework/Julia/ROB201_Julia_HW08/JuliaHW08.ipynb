{
    "cells": [
        {
            "cell_type": "markdown",
            "id": "d886562b",
            "metadata": {},
            "source": [
                "University of Michigan - ROB 201 Calculus for the Modern Engineer\n",
                "\n",
                "---"
            ]
        },
        {
            "cell_type": "markdown",
            "id": "gbnr6cgw11dmuzb81f39h",
            "metadata": {
                "cellIdentifier": "gbnr6cgw11dmuzb81f39h",
                "nbgrader": {
                    "grade": false,
                    "locked": false,
                    "solution": false
                }
            },
            "source": [
                "# Julia HW08: Chapters 8.1-10.4\n",
                "\n",
                "### Topics Covered\n",
                "- Improper Integrans\n",
                "  - Vertical Asymptotes\n",
                "  - Horizontal Asymptotes\n",
                "  - Applications to Probabiliyu\n",
                "- Computing Solutions of ODEs\n",
                "  - Numerically using DifferentialEquations.jl\n",
                "  - Analytically using the Matrix Exponential for Linear ODEs\n",
                "- Understanding Stability of Equilibrium\n",
                "  - Complex Exponentials\n",
                "  - Role of Eigenvalues and Eigenvectors\n",
                "\n",
                "<br>\n",
                "\n",
                "<p align=\"center\">\n",
                "  <img src=\"./data/HW08FuturisticClassRoom.png\", width=\"70%\">\n",
                "</p>\n",
                "\n",
                "### Important\n",
                "Friendly Checks in this file may be less friendly than previous homeworks as they are embeded in Markdown cells rather than runable, Julia cells. Please feel free to modify this notebook how you see fit to test your solutions."
            ]
        },
        {
            "cell_type": "markdown",
            "id": "1fs70xoan1h3wge82rm6d2",
            "metadata": {
                "cellIdentifier": "1fs70xoan1h3wge82rm6d2",
                "nbgrader": {
                    "grade": false,
                    "locked": false,
                    "solution": false
                }
            },
            "source": [
                "# Problem 1: Handling Improper Integrals with QuadGK\n",
                "\n",
                "Run the next cell, and note the try-catch construction that allows ``quadgk`` to fail without crashing the cell. You may want to use this in other circumstances. It is quite useful."
            ]
        },
        {
            "cell_type": "code",
            "execution_count": null,
            "id": "5su9antvj5krztrho5qu",
            "metadata": {
                "cellIdentifier": "5su9antvj5krztrho5qu",
                "nbgrader": {
                    "grade": false,
                    "locked": false,
                    "solution": false
                }
            },
            "outputs": [],
            "source": [
                "using QuadGK\n",
                "using Plots, LaTeXStrings\n",
                "\n",
                "# Define the functions and their integration limits\n",
                "functions = [\n",
                "    (f=x -> 1/sqrt(x), a=0, b=1, title=\"Integral 1: Vertical Asymptote\"),\n",
                "    (f=x -> 1/x^2, a=1, b=Inf, title=\"Integral 2: Horizontal Asymptote\"),\n",
                "    (f=x -> exp(-x)/sqrt(x), a=0, b=Inf, title=\"Integral 3: Combination of Vertical and Horizontal Asymptotes\"),\n",
                "    (f=x -> 1/sqrt(abs(x)), a=-1, b=1, title=\"Integral 4: Integration Around a Singular Point\")\n",
                "]\n",
                "\n",
                "println(\"If a horizontal asymptote is non-zero, then an improper integral \n",
                "    over [a, Inf) is always unbounded.\\n\")\n",
                "println(\" \")\n",
                "\n",
                "\n",
                "# Calculate integrals and prepare plots\n",
                "results = []\n",
                "for (i, func) in enumerate(functions)\n",
                "    try\n",
                "        # Numerical integration\n",
                "        result, error = quadgk(func.f, func.a, isinf(func.b) ? func.a + 10 : func.b)\n",
                "        push!(results, (result=result, error=error))\n",
                "    catch e\n",
                "        # Handle integration error\n",
                "        println(\"Failed to integrate function f$(i): $e\")\n",
                "        push!(results, (result=\"Failed\", error=\"N/A\"))  # Store an indicator of failure\n",
                "    end\n",
                "\n",
                "    # Generate x values for plotting, considering the domain\n",
                "    x_vals = isinf(func.b) ? range(func.a + (iszero(func.a) ? 1e-3 : 0), stop=10, length=100) :\n",
                "             range(func.a + (iszero(func.a) ? 1e-3 : 0), stop=func.b, length=100)\n",
                "\n",
                "    # Plot each function\n",
                "    label_text = isinf(func.b) ? \"over [$(func.a), 10]\" : \"over [$(func.a), $(func.b)]\"\n",
                "    plot(x_vals, func.f.(x_vals), label=L\"f$(i)(x) $label_text\", title=func.title, xlabel=L\"x\", ylabel=L\"f(x)\")\n",
                "    display(plot!(legend=:right))\n",
                "end\n",
                "\n",
                "# Output the results\n",
                "for (i, res) in enumerate(results)\n",
                "    if res.result != \"Failed\"\n",
                "        println(\"Integral f$(i) result: $(res.result) with estimated error: $(res.error)\")\n",
                "    else\n",
                "        println(\"Integral f$(i) could not be computed. Integral may be unbounded.\")\n",
                "    end\n",
                "end\n",
                "\n",
                "println(\" \")\n",
                "println(\"If a horizontal asymptote is non-zero, then an improper integral \n",
                "    over [a, Inf) is always unbounded.\\n\")\n",
                "println(\"If a horizontal asymptote approaches zero too slowly, such as at rate 1/x \n",
                "    or slower, then an improper integral over [a, Inf) will be unbounded.\\n\")\n",
                "\n"
            ]
        },
        {
            "cell_type": "code",
            "execution_count": null,
            "id": "jmf2py4lxgnytwa5kweydd",
            "metadata": {
                "cellIdentifier": "jmf2py4lxgnytwa5kweydd",
                "nbgrader": {
                    "grade": false,
                    "locked": false,
                    "solution": false
                }
            },
            "outputs": [],
            "source": [
                "# Answer the question with true or false\n",
                "\n",
                "I_studied_the_code_in_the_above_cell = false # true\n",
                "\n",
                "### BEGIN SOLUTION \n",
                "I_studied_the_code_in_the_above_cell = true\n",
                "### END SOLUTION \n"
            ]
        },
        {
            "cell_type": "code",
            "execution_count": null,
            "id": "2s7sx5zbdqloo4qpg4uh",
            "metadata": {
                "cellIdentifier": "2s7sx5zbdqloo4qpg4uh",
                "deletable": false,
                "editable": false,
                "nbgrader": {
                    "grade": true,
                    "grade_id": "P01",
                    "locked": true,
                    "points": "1",
                    "solution": false
                }
            },
            "outputs": [],
            "source": [
                "#Grader Cell. Worth one point\n",
                "### BEGIN HIDDEN TESTS\n",
                "@assert I_studied_the_code_in_the_above_cell\n",
                "### END HIDDEN TESTS"
            ]
        },
        {
            "cell_type": "markdown",
            "id": "ou6i7fjb4lm53jpcfpm0jf",
            "metadata": {
                "cellIdentifier": "ou6i7fjb4lm53jpcfpm0jf",
                "nbgrader": {
                    "grade": false,
                    "locked": false,
                    "solution": false
                }
            },
            "source": [
                "# Problem 2: Improper Integrals in Probability\n",
                "\n",
                "<br>\n",
                "\n",
                "<p align=\"center\">\n",
                "  <img src=\"./data/HW08ProbabilityConcepts.png\", width=\"70%\">\n",
                "</p>\n",
                "\n",
                "\n",
                "<br>\n",
                "\n",
                "### What is a Probability Density?\n",
                "\n",
                "In formal courses on Probability and Statistics, you'll explore different ways to model (AKA, mathematically represent) random quantities including: probability measures, distributions, and densities. This section highlights **probability densities**--functions $f: \\mathbb{R} \\to [0, \\infty)$ that are non-negative, sum up (integrate) to one, and where the integral \n",
                "$$\\int_a^b f(x) \\, dx$$\n",
                "signifies the **probability of a random quantity** falling within the range $[a, b]$, such as your exam score being between 86\\% and 93\\%. Some probability densities are defined on bounded sets and others on unbounded sets. Those defined on unbounded sets require improper integrals.\n",
                "\n",
                "### Given Probability Density\n",
                "\n",
                "$$f(x) = \\begin{cases} \\frac{0.8415}{1 + ln(x)^3 \\cdot x^3} & 1 \\le x < \\infty \\\\\\\\\n",
                "0 & \\text{elsewhere} \\end{cases}$$\n",
                "\n",
                "\n",
                "\n",
                "## P.2A: Compute the Mean (aka, Expected Value) for the given Probability Density\n",
                "\n",
                "For a continuous random variable $X$ with a probability density function $f(x)$, the expected value (mean) is defined as:\n",
                "\n",
                "$$\n",
                "     μ:= E(X) := \\int_{-\\infty}^{\\infty} x f(x) \\, dx\n",
                "$$\n",
                "\n"
            ]
        },
        {
            "cell_type": "code",
            "execution_count": null,
            "id": "lr12vgratbi7rkjx113a7j",
            "metadata": {
                "cellIdentifier": "lr12vgratbi7rkjx113a7j",
                "nbgrader": {
                    "grade": false,
                    "locked": false,
                    "solution": false
                }
            },
            "outputs": [],
            "source": [
                "# Compute the mean and call your answer mu and NOT μ\n",
                "\n",
                "# Here is the density for 1 <= x <= infinity\n",
                "\n",
                "f(x) = 0.8415 / (1 + (log(x))^3 * x^3)\n",
                "# mu = \n",
                "\n",
                "### BEGIN SOLUTION \n",
                "using QuadGK\n",
                "gMean(x) = x*f(x)\n",
                "mu, error = quadgk(gMean, 1, Inf)\n",
                "### END SOLUTION \n",
                "using Plots, LaTeXStrings\n",
                "plt = plot(f, 1.0, 6.0, lw=2, color=:blue, guidefont = 15, legend=false,\n",
                "    xlabel=L\"x\", ylabel=L\"f(x)\", title=\"Probability Density\")\n",
                "plot!([mu, mu], [0.0, f(mu)], lw=2, color=:red)\n",
                "annotate!([(mu + 0.1, f(mu), text(\"Mean Value\", :left, 10))])"
            ]
        },
        {
            "cell_type": "code",
            "execution_count": null,
            "id": "6pe9thn46hq6cdapgy9ef",
            "metadata": {
                "cellIdentifier": "6pe9thn46hq6cdapgy9ef",
                "nbgrader": {
                    "grade": false,
                    "locked": false,
                    "solution": false
                }
            },
            "outputs": [],
            "source": [
                "# Friendly Check\n",
                "if abs(cos(mu) - 0.419698488636) > 1e-3\n",
                "    println(\"You likely have an error in the mean.\")\n",
                "else\n",
                "    println(\"Looking promising!\")\n",
                "end"
            ]
        },
        {
            "cell_type": "code",
            "execution_count": null,
            "id": "sskjmewsjfb5kxp4nr1mgh",
            "metadata": {
                "cellIdentifier": "sskjmewsjfb5kxp4nr1mgh",
                "deletable": false,
                "editable": false,
                "nbgrader": {
                    "grade": true,
                    "grade_id": "P02A",
                    "locked": true,
                    "points": "1",
                    "solution": false
                }
            },
            "outputs": [],
            "source": [
                "#Grader Cell. Worth 1 Point\n",
                "### BEGIN HIDDEN TESTS\n",
                "@assert abs(mu - 1.1376832174544242) < 1e-3\n",
                "### END HIDDEN TESTS"
            ]
        },
        {
            "cell_type": "markdown",
            "id": "68k6uicza7d82omtffia7",
            "metadata": {
                "cellIdentifier": "68k6uicza7d82omtffia7",
                "nbgrader": {
                    "grade": false,
                    "locked": false,
                    "solution": false
                }
            },
            "source": [
                "## P.2B:  Compute the variance and the standard deviation for the given probability density\n",
                "\n",
                "The variance ($\\sigma^2$) is defined as:\n",
                "\n",
                "$$\n",
                "\\text{var}(X) = E[(X - \\mu)^2] = \\int_{-\\infty}^{\\infty} (x - \\mu)^2 f(x) \\, dx\n",
                "$$\n",
                "\n",
                "where $\\mu = E(X)$ is the mean. The standard deviation, $\\sigma$, is the square root of the variance. "
            ]
        },
        {
            "cell_type": "code",
            "execution_count": null,
            "id": "1ykc06jemrvemxhc7k98hh",
            "metadata": {
                "cellIdentifier": "1ykc06jemrvemxhc7k98hh",
                "nbgrader": {
                    "grade": false,
                    "locked": false,
                    "solution": false
                }
            },
            "outputs": [],
            "source": [
                "# Call you answers var and sigma\n",
                "\n",
                "# var = \n",
                "\n",
                "# sigma = \n",
                "\n",
                "### BEGIN SOLUTION \n",
                "using QuadGK\n",
                "gMean(x) = x*f(x)\n",
                "mu, error = quadgk(gMean, 1, Inf)\n",
                "gVar(x) = (x-mu)^2*f(x)\n",
                "@show var, error = quadgk(gVar, 1, Inf)\n",
                "sigma = sqrt(var)\n",
                "### END SOLUTION \n"
            ]
        },
        {
            "cell_type": "code",
            "execution_count": null,
            "id": "4auqojtdhsk603t8krqvkq",
            "metadata": {
                "cellIdentifier": "4auqojtdhsk603t8krqvkq",
                "nbgrader": {
                    "grade": false,
                    "locked": false,
                    "solution": false
                }
            },
            "outputs": [],
            "source": [
                "# Friendly Check\n",
                "if abs(sin(var) - 0.413994698987) > 1e-3\n",
                "    println(\"You likely have an error in the variance and if that is wrong, \n",
                "    your standard deviation will be wrong as well.\")\n",
                "else\n",
                "    println(\"Looking promising! On your own, make sure sigma^2 = var.\")\n",
                "end"
            ]
        },
        {
            "cell_type": "code",
            "execution_count": null,
            "id": "f6ehfzn59lpi9f456sr2kf",
            "metadata": {
                "cellIdentifier": "f6ehfzn59lpi9f456sr2kf",
                "deletable": false,
                "editable": false,
                "nbgrader": {
                    "grade": true,
                    "grade_id": "P02B",
                    "locked": true,
                    "points": "1",
                    "solution": false
                }
            },
            "outputs": [],
            "source": [
                "#Grader Cell. Worth 1 Point\n",
                "### BEGIN HIDDEN TESTS\n",
                "@assert abs(var - 0.426) < 1e-1\n",
                "@assert abs(sigma - 0.65) < 1e-1\n",
                "### END HIDDEN TESTS"
            ]
        },
        {
            "cell_type": "markdown",
            "id": "b5mhn7e0tsfmchv3lcrpc",
            "metadata": {
                "cellIdentifier": "b5mhn7e0tsfmchv3lcrpc",
                "nbgrader": {
                    "grade": false,
                    "locked": false,
                    "solution": false
                }
            },
            "source": [
                "## P.2C:  Compute the median for the given probability density\n",
                "\n",
                "The **median** of a probability density function $f(x)$ is the value $m$ such that:\n",
                "\n",
                "$$\n",
                "\\int_{-\\infty}^{m} f(x) dx = 0.5 = \\int_{m}^{\\infty} f(x) dx .\n",
                "$$\n",
                "\n",
                "The value of the random variable is equally likely to be less than or equal to $m$ as greater than or equal to $m$. The median represents the middle value of a data set when arranged in order. It is less sensitive to outliers and skewed data than the mean, making it a more reliable indicator of central tendency in those situations.\n",
                "\n",
                "**Note:** You will need to devise a strategy to estimate the median within an error bound of $\\bm{+/- 0.1}$. \n",
                "\n",
                "**Hint:** Start with m = mu and iterate from there."
            ]
        },
        {
            "cell_type": "code",
            "execution_count": null,
            "id": "hsu01z38rjerikb8w7qzy",
            "metadata": {
                "cellIdentifier": "hsu01z38rjerikb8w7qzy",
                "nbgrader": {
                    "grade": false,
                    "locked": false,
                    "solution": false
                }
            },
            "outputs": [],
            "source": [
                "# Call your answer m\n",
                "\n",
                "# m = \n",
                "\n",
                "### BEGIN SOLUTION \n",
                "using QuadGK\n",
                "@show m = 0.8135*mu\n",
                "integral, error = quadgk(f, 1, m)\n",
                "### END SOLUTION "
            ]
        },
        {
            "cell_type": "code",
            "execution_count": null,
            "id": "mbmuqejn79acd8nxcmbz3",
            "metadata": {
                "cellIdentifier": "mbmuqejn79acd8nxcmbz3",
                "deletable": false,
                "editable": false,
                "nbgrader": {
                    "grade": true,
                    "grade_id": "P02C",
                    "locked": true,
                    "points": "1",
                    "solution": false
                }
            },
            "outputs": [],
            "source": [
                "#Grader Cell. Worth 1 Point\n",
                "### BEGIN HIDDEN TESTS\n",
                "@assert abs(m - 0.92) <= 1e-1\n",
                "### END HIDDEN TESTS"
            ]
        },
        {
            "cell_type": "markdown",
            "id": "jdvy0vcyxgh73e0l22ade",
            "metadata": {
                "cellIdentifier": "jdvy0vcyxgh73e0l22ade",
                "nbgrader": {
                    "grade": false,
                    "locked": false,
                    "solution": false
                }
            },
            "source": [
                "# ODEs Describe Important Physical Phenomena (e.g. Bipedal Walking)\n",
                "\n",
                "  - Building an ODE model requires knowledge of a given domain; here we highight robotics and biomechanics.\n",
                "  - By solving the ODE model, we learn facts about the system being modeled that one cannot see directly from the ODE itself. \n",
                "  - The 3-link model (on the right) represets walking on stilts or a ballerina walking tip-toe. There is no torque being applied at the bottom of the stance \"foot\". The torque about the stance foot arises from the center of gravity of the model being ahead of the mid-point of the two feet. This is accomplished by the torso being commanded to lean forward.\n",
                "  - If you have ever walked on stilts, you will understand this phenomenon. If you have never walked on stilts, you are now prepared to give it a try. Please start with short stilts!\n",
                "\n",
                "\n",
                "<br>\n",
                "\n",
                "\n",
                "<p align=\"center\">\n",
                "    \n",
                " <img src=\"./data/HW08_Atalante.png\" width=\"18%\" style=\"display: inline-block; vertical-align: middle; margin-right: 80px\">\n",
                "    \n",
                "<img src=\"./data/HW08_3LinkWalkerFrom1999.png\" width=\"30%\" style=\"display: inline-block; vertical-align: middle;\">\n",
                "</p>\n",
                "\n",
                "\n",
                "**Left Image:** Wandercraft's exoskeleton [Atalante](https://en.wandercraft.eu/) allows patients with paraplegia to walk again; it provides all of the power for moving the patient's legs and contains an algorithm for balancing the exo+human. The first controllers used in Atalante came from Michigan's Bipedal Robotics Lab. \n",
                "\n",
                "**Right Image:** The 3-link walker is one of the simplest walking models that captures the essentials of the human gait. Michigan's foray into bipedal locomotion in 1999 began with the study of the 3-link walker, and over the years, progressed to Cassie and collaborating with Wandercraft. Video documentation of the journey is availale at \n",
                "[Bipedal Robotics Lab](https://www.youtube.com/user/DynamicLegLocomotion).\n",
                "\n",
                "---\n",
                "\n",
                "The cells below simulate the 3-Link model of bipedal walking. You have access to all of the code in the file ``HW08_DynamicModelUtilities.jl``.\n",
                "\n",
                "> The underlying theory in 2007 was advanced PhD level:  https://grizzle.robotics.umich.edu/files/Westervelt_biped_control_book_15_May_2007.pdf\n",
                "  \n",
                "> Thanks to Dr. Yukai Gong, since 2022 the control algorithms developed in the Bipedal Robotics Lab can be learned by any Robotics MS student; see https://arxiv.org/abs/2105.08170. Yukai made a huge breakthrough that resulted in the overall control design being much more robust AND easier to understand. That is impact!"
            ]
        },
        {
            "cell_type": "code",
            "execution_count": null,
            "id": "g7l74t8x79dqxcvd52y4r",
            "metadata": {
                "cellIdentifier": "g7l74t8x79dqxcvd52y4r",
                "nbgrader": {
                    "grade": false,
                    "locked": false,
                    "solution": false
                }
            },
            "outputs": [],
            "source": [
                "# Import useful packages\n",
                "using DifferentialEquations, LinearAlgebra\n",
                "using Plots \n",
                "gr()\n",
                "\n",
                "include(\"HW08_DynamicModelUtilities.jl\")\n",
                "\n",
                "# set the initial state\n",
                "x0 = [pi/16,  -pi/16, pi/6, 1.0, -1.0, 0.5]\n",
                "\n",
                "# set the simulation time \n",
                "T = (0.0, 10.0)  # start at time 0.0s, end at time 10.0s\n",
                "\n",
                "# set up the ODE problem\n",
                "problem = ODEProblem(threeLinkDynamics, x0, T, 0.0)\n",
                "\n",
                "# assemble the collision detection and jump map functions into a callback\n",
                "cb = ContinuousCallback(condition, affect!);\n",
                "\n",
                "# solve the ODE problem using the Runge Kutta Tsitouras 5/4 Integrator\n",
                "bipedSol = solve(problem, Tsit5(), dt=0.001,  callback=cb);\n",
                "\n",
                "println(\"\\n\\nThe only thing to observe here is that the trajectories are converging\n",
                "to periodic functions. Each jump is the start of a new step. The steady-state \n",
                "motion of the robot is called a stable limit cycle.\")\n",
                "pSol = plot(bipedSol)"
            ]
        },
        {
            "cell_type": "code",
            "execution_count": null,
            "id": "dk06o0kfqfiqrhlbiyhjm",
            "metadata": {
                "cellIdentifier": "dk06o0kfqfiqrhlbiyhjm",
                "nbgrader": {
                    "grade": false,
                    "locked": false,
                    "solution": false
                },
                "scrolled": true
            },
            "outputs": [],
            "source": [
                "using Plots\n",
                "include(\"HW08_DynamicModelUtilities.jl\")\n",
                "\n",
                "# Define the new time vector with evenly spaced points\n",
                "t_new = range(bipedSol.t[1], stop=bipedSol.t[end], length=15*ceil(Int64, bipedSol.t[end]))  # Adjust 'length' as needed\n",
                "\n",
                "# Use broadcasting to get interpolated values for all new time points\n",
                "states = bipedSol.(t_new)\n",
                "\n",
                "# Extract individual components from states\n",
                "th1 = getindex.(states, 1)  # Extract first component (th1) from each state\n",
                "th2 = getindex.(states, 2)  # Extract second component (th2) from each state\n",
                "th3 = getindex.(states, 3)  # Extract third component (th3) from each state\n",
                "\n",
                "# Call an animation function with the model's parameters\n",
                "g, r, L, m, Mh, Mt, th3Des = modelParameters3LinkWalker()\n",
                "anim = animate_biped(th1, th2, th3, r, L)\n",
                "\n",
                "println(\"\\n  The biped is being simulated with the Julia package DifferentialEquations.jl, \n",
                "the same package you will use shortly!\")\n",
                "println(\"\\n  In 2001, the proof of the correctness of the control law used in the biped model \n",
                "merited the Axelby Award for Best Paper in the IEEE Transactions on Automatic Control.\n",
                "Today, the same material is being mastered by undergrads; see https://wamiogunbi.com/biped-bootcamp\")\n",
                "\n",
                "println(\"\\nWhen knees are included, the gait is more realistic, of course, and avoids dragging the feet.\")\n",
                "\n",
                "\n",
                "gif(anim, \"biped_animation.gif\", fps=15)  # Save as GIF\n"
            ]
        },
        {
            "cell_type": "markdown",
            "id": "stpu4kgmboqr16rc5htd",
            "metadata": {
                "cellIdentifier": "stpu4kgmboqr16rc5htd",
                "nbgrader": {
                    "grade": false,
                    "locked": false,
                    "solution": false
                }
            },
            "source": [
                "## Tutorial: How to Use the Package `DifferentialEquations.jl`\n",
                "\n",
                "### Preface\n",
                "\n",
                "The Van der Pol oscillator is an asypototically stable oscillator with nonlinear damping. It evolves according to the second-order differential equation:\n",
                "\n",
                "$$ \\ddot{x} - \\mu (1 - x^2) \\dot{x} + x = 0 $$\n",
                "\n",
                "where $ x $ is the position and $ \\mu $ is a scalar parameter indicating the **nonlinearity and the strength of the damping**.\n",
                "\n",
                "  - When $x>1$, the term $\\mu (1 - x^2) \\dot{x}$ removes energy from the system, causing the solution to contract and when $x<1$, the term $\\mu (1 - x^2) \\dot{x}$ adds energy to the system, causing the solution to expand.\n",
                "\n",
                "  - The result of the continual expanding and contracting is that the solution covergers to a periodic trajectory.\n",
                "\n",
                "  - The van der Pol ODE is interesting in the study of nonlinear dynamics and chaos theory and has applications in various fields such as biology, electrical engineering, and physics.\n",
                "\n",
                "In the follwoing cells, you will learn how to simulate the Van der Pol oscillator, extract the solution, and analyze it through visualization.\n"
            ]
        },
        {
            "cell_type": "code",
            "execution_count": null,
            "id": "mqg4iepfgyblsp128j9hs",
            "metadata": {
                "cellIdentifier": "mqg4iepfgyblsp128j9hs",
                "nbgrader": {
                    "grade": false,
                    "locked": false,
                    "solution": false
                }
            },
            "outputs": [],
            "source": [
                "# Importing Necessary Packages\n",
                "\n",
                "using DifferentialEquations, Plots\n"
            ]
        },
        {
            "cell_type": "markdown",
            "id": "1toccnd2jilib3s6g51r71h",
            "metadata": {
                "cellIdentifier": "1toccnd2jilib3s6g51r71h",
                "nbgrader": {
                    "grade": false,
                    "locked": false,
                    "solution": false
                }
            },
            "source": [
                "## Step 1: Defining the Van der Pol Differential Equation\n",
                "\n",
                "To simulate the Van der Pol oscillator, we first need to define it as a system of first-order ordinary differential equations (ODEs). We convert the second-order equation into two first-order equations: \n",
                "\n",
                "1. $ \\dot{x} = y $\n",
                "2. $ \\dot{y} = \\mu (1 - x^2) y - x $\n",
                "\n",
                "Let's define this in Julia.\n"
            ]
        },
        {
            "cell_type": "code",
            "execution_count": null,
            "id": "05u49dukxj94c6f0e24uznq",
            "metadata": {
                "cellIdentifier": "05u49dukxj94c6f0e24uznq",
                "nbgrader": {
                    "grade": false,
                    "locked": false,
                    "solution": false
                }
            },
            "outputs": [],
            "source": [
                "# Defining the ODE\n",
                "\n",
                "function van_der_pol!(du, u, p, t)\n",
                "    x, y = u\n",
                "    mu = p\n",
                "    du[1] = y\n",
                "    du[2] = mu * (1 - x^2) * y - x\n",
                "end\n"
            ]
        },
        {
            "cell_type": "markdown",
            "id": "ywlo3cvsuuhpofy5lc9q",
            "metadata": {
                "cellIdentifier": "ywlo3cvsuuhpofy5lc9q",
                "nbgrader": {
                    "grade": false,
                    "locked": false,
                    "solution": false
                }
            },
            "source": [
                "## Step 2: Set Initial Conditions and Parameters\n",
                "\n",
                "- **Initial Conditions**: Choose initial values for $ x $ and $ y $. For instance, $ x(0) = 0.2 $ and $ y(0) = 0.0 $.\n",
                "- **Parameter $ \\mu $**: This parameter controls the nonlinearity and the damping. We'll start with $\\mu = 0.5 $.\n",
                "\n",
                "Now, let's set these values and define the time span for our simulation.\n"
            ]
        },
        {
            "cell_type": "code",
            "execution_count": null,
            "id": "f1pv4vxdu2izekfwqz418i",
            "metadata": {
                "cellIdentifier": "f1pv4vxdu2izekfwqz418i",
                "nbgrader": {
                    "grade": false,
                    "locked": false,
                    "solution": false
                }
            },
            "outputs": [],
            "source": [
                "# Initial Conditions\n",
                "\n",
                "u0 = [0.2, 0.0]  # Initial condition [x(0), y(0)]\n",
                "tspan = (0.0, 60.0)  # Time span from t=0 to t=60\n",
                "params = 0.5  # mu parameter\n"
            ]
        },
        {
            "cell_type": "markdown",
            "id": "4vh6x0w4c27yvt7syv628",
            "metadata": {
                "cellIdentifier": "4vh6x0w4c27yvt7syv628",
                "nbgrader": {
                    "grade": false,
                    "locked": false,
                    "solution": false
                }
            },
            "source": [
                "## Step 3: Solve the Differential Equation\n",
                "\n",
                "We use the `DifferentialEquations.jl` package to numerically solve this equation. \n"
            ]
        },
        {
            "cell_type": "code",
            "execution_count": null,
            "id": "x02tgihpcd8p6j360ybd2l",
            "metadata": {
                "cellIdentifier": "x02tgihpcd8p6j360ybd2l",
                "nbgrader": {
                    "grade": false,
                    "locked": false,
                    "solution": false
                }
            },
            "outputs": [],
            "source": [
                "# Solving the ODE\n",
                "\n",
                "prob = ODEProblem(van_der_pol!, u0, tspan, params)\n",
                "sol = solve(prob, TRBDF2())  # TRBDF2 and Tsit5 are commonly used solvers for nonlinear ODEs\n"
            ]
        },
        {
            "cell_type": "markdown",
            "id": "7o0zbinee423c71vrziec2",
            "metadata": {
                "cellIdentifier": "7o0zbinee423c71vrziec2",
                "nbgrader": {
                    "grade": false,
                    "locked": false,
                    "solution": false
                }
            },
            "source": [
                "## Step 4: Visualize the Solution\n",
                "\n",
                "We can plot the trajectories of $ x $ and $y$ over time to observe the behavior of the system. Additionally, a phase plot of $ x $ versus $ y $ provides insight into the system's dynamics.\n"
            ]
        },
        {
            "cell_type": "code",
            "execution_count": null,
            "id": "ldb0p8m80mmk71xtrkobh",
            "metadata": {
                "cellIdentifier": "ldb0p8m80mmk71xtrkobh",
                "nbgrader": {
                    "grade": false,
                    "locked": false,
                    "solution": false
                }
            },
            "outputs": [],
            "source": [
                "# Plotting the Solution\n",
                "\n",
                "plt1 = plot(sol, xlabel=\"Time\", ylabel=\"x and y\", title=\"Van der Pol Oscillator\", legend=false)\n",
                "\n",
                "plt2 = plot(sol, idxs=(1,2), xlabel=\"x\", ylabel=\"y\", lw=2, color=:brown, title=\"Phase Plot\", legend=false)\n",
                "\n",
                "display(plt1)\n",
                "display(plt2)\n"
            ]
        },
        {
            "cell_type": "markdown",
            "id": "1txddxt8e2y9j4fb8zp36q",
            "metadata": {
                "cellIdentifier": "1txddxt8e2y9j4fb8zp36q",
                "nbgrader": {
                    "grade": false,
                    "locked": false,
                    "solution": false
                }
            },
            "source": [
                " ## Optional: How to Make Nicer Plots"
            ]
        },
        {
            "cell_type": "code",
            "execution_count": null,
            "id": "b4cus65kmckqlyawu4tsfr",
            "metadata": {
                "cellIdentifier": "b4cus65kmckqlyawu4tsfr",
                "nbgrader": {
                    "grade": false,
                    "locked": false,
                    "solution": false
                }
            },
            "outputs": [],
            "source": [
                "using Plots\n",
                "\n",
                "# Assuming `sol` is your solution object from the ODE solver\n",
                "# Define the new time vector with evenly spaced points\n",
                "t_new = range(sol.t[1], stop=sol.t[end], length=15*ceil(Int64, sol.t[end]))  # Adjust 'length' as needed\n",
                "\n",
                "# Use broadcasting to get interpolated values for all new time points\n",
                "states = sol.(t_new)\n",
                "\n",
                "# Extract x and y components from states\n",
                "x = getindex.(states, 1)  # Extract first component (x) from each state\n",
                "y = getindex.(states, 2)  # Extract second component (y) from each state\n",
                "\n",
                "# Plotting the first variable 'x' over the new time vector\n",
                "plt1 = plot(t_new, x, lw=2, color=:red, xlabel=\"Time\", ylabel=\"x\", title=\"Interpolated Solution of x(t) over Time\")\n",
                "\n",
                "plt2 = plot(t_new, y, lw=2, color=:blue, xlabel=\"Time\", ylabel=\"y\", title=\"Interpolated Solution of y(t) over Time\")\n",
                "\n",
                "plt3 = plot(x, y, lw=1.5, color=:black, legend=false, title=\"Phase Plot: x(t) vs y(t)\", xlabel=\"x\", ylabel=\"y\")\n",
                "      scatter!([u0[1]], [u0[2]], color=:black, markersize=10)\n",
                "# Adding an arrow using quiver!\n",
                "quiver!([u0[1]], [u0[2]], quiver=([x[15]-x[1]], [y[15]-y[1]]), color=:red, label=\"Direction of Change\")\n",
                "\n",
                "\n",
                "display(plt1)\n",
                "display(plt2)\n",
                "display(plt3)\n"
            ]
        },
        {
            "cell_type": "markdown",
            "id": "38xofyoxc8vm3vmsh4sdnp",
            "metadata": {
                "cellIdentifier": "38xofyoxc8vm3vmsh4sdnp",
                "nbgrader": {
                    "grade": false,
                    "locked": false,
                    "solution": false
                }
            },
            "source": [
                "While the Above Ends the Tutorial on the ``DifferentialEquations`` Package, We Show one more Property of the van der Pol Oscillator:\n",
                "\n",
                "  - For $\\mu>0$, the van der Pol Oscillator has a stable LIMIT CYCLE, similar to our model for bipedal walking"
            ]
        },
        {
            "cell_type": "code",
            "execution_count": null,
            "id": "3hscemafaqrlm1m2yjkcn",
            "metadata": {
                "cellIdentifier": "3hscemafaqrlm1m2yjkcn",
                "nbgrader": {
                    "grade": false,
                    "locked": false,
                    "solution": false
                }
            },
            "outputs": [],
            "source": [
                "u0 = [2.0, -2.0]  # Initial condition [x(0), y(0)]\n",
                "prob = ODEProblem(van_der_pol!, u0, tspan, params)\n",
                "sol= solve(prob, Tsit5())  # TRBDF2 and Tsit5 are commonly used solvers for nonlinear ODEs\n",
                "\n",
                "# vector of new time points\n",
                "t_new = range(sol.t[1], stop=sol.t[end], length=15*ceil(Int64, sol.t[end]))  # Adjust 'length' as needed\n",
                "\n",
                "# Use broadcasting to get interpolated values for all new time points\n",
                "states = sol.(t_new)\n",
                "\n",
                "# Extract x and y components from states\n",
                "x = getindex.(states, 1)  # Extract first component (x) from each state\n",
                "y = getindex.(states, 2)  # Extract second component (y) from each state\n",
                "\n",
                "# Make plots\n",
                "plot!(plt3, x, y, lw=1.5, color=:blue, legend=false, title=\"Phase Plot: x(t) vs y(t)\", xlabel=\"x\", ylabel=\"y\",\n",
                "linestyle=:dashdot)\n",
                "      scatter!([u0[1]], [u0[2]], color=:blue, markersize=10)\n",
                "xLimitCyle = x[450:end]; yLimitCyle = y[450:end]\n",
                "plot!(plt3, xLimitCyle, yLimitCyle, lw=3, color=:red, legend=false)\n",
                "scatter!([u0[1]], [u0[2]], color=:blue, markersize=10)\n",
                "# Adding an arrow using quiver!\n",
                "quiver!([u0[1]], [u0[2]], quiver=([x[3]-x[1]], [y[3]-y[1]]), color=:red, label=\"Direction of Change\")\n",
                "\n",
                "println(\"The boxy ellipse in red is called a LIMIT CYCLE. For the van der Pol Oscillator,\n",
                "solutions starting inside the limit cycle coverge to it without ever crossing to the\n",
                "outside, and solutions that start outside of the limit cycle coverge to it without\n",
                "ever crossing to the inside. Hence, if the oscillator is perturbed away from the\n",
                "limit cycle, it quickly returns to it.\")\n",
                "\n",
                "println(\"\\nYour PC contains a Quartz Oscillator that drives the clock generator, a circuit within \n",
                "the PC, that produces various frequencies needed by different parts of the system. This \n",
                "includes the CPU clock, memory bus clock, and clocks for various peripherals. The Quartz Oscillator \n",
                "behaves like a van der Pol Oscillator: if perturbed, it quickly converges back to the nominal path.\\n\")\n",
                "\n",
                "\n",
                "display(plt3)"
            ]
        },
        {
            "cell_type": "markdown",
            "id": "czthrh0e91sp4y2k7k8h5m",
            "metadata": {
                "cellIdentifier": "czthrh0e91sp4y2k7k8h5m",
                "nbgrader": {
                    "grade": false,
                    "locked": false,
                    "solution": false
                }
            },
            "source": [
                "# P.3A: ODE Multiple Choice\n",
                "Below are four multiple-choice questions designed to test understanding of using the `DifferentialEquations.jl` package in Julia for simulating ordinary differential equations (ODEs). These questions include one question on the Van der Pol oscillator.\n",
                "\n",
                "---\n",
                "\n",
                "**Q1:** Which is the correct way to define a range to then interpolate?\n",
                "1) `new_time_vector = range(start_value, stop_value, length=length_value)`\n",
                "2) `new_time_vector = range_vector(start_value, start_value + length_value)`\n",
                "3) `interpolate(sol, new_time_points)`\n",
                "4) `states = sol.(new_time_vector)`\n",
                "\n",
                "**A)** 1 and 3 \\\n",
                "**B)** 1 and 4 \\\n",
                "**C)** 2 and 3 \\\n",
                "**D)** 2 and 4 \n",
                "\n",
                "**Q2:** Which of the following statements are true?\n",
                "1) `getstate.(state, n)` can be used to extract the nth component from the state. \\\n",
                "2) `TRBDF2` and `Tsit5` are commonly used solvers for differential equations. \\\n",
                "3) `solve(equation_name, solver)` is the correct notation to find a solution to an differential equation.\n",
                "\n",
                "**A)** 1 \\\n",
                "**B)** 1 and 2 \\\n",
                "**C)** 2 and 3 \\\n",
                "**D)** 1, 2, and 3 \n",
                "\n",
                "\n",
                "**Q3:** In the context of simulating the Van der Pol oscillator, which term correctly describes the role of the parameter $ \\mu $? \n",
                "\n",
                "**A)** Mu was Van der Pol's first name and his middle name, leading his friends to call him Mu-mu.  \n",
                "**B)** It controls the amplitude of the oscillations.  \n",
                "**C)** It adjusts the frequency of the steady-state solution.  \n",
                "**D)** It influences the nonlinearity and the damping strength of the oscillator.\n",
                "\n",
                "\n",
                "**Q4:** What is the correct syntax to define an ODE problem in Julia using `DifferentialEquations.jl`?\n",
                "\n",
                "**A)** `defineODE(function, start, end, initial_conditions)`  \n",
                "**B)** `ODESetup(ODEfunction, start_time, end_time, init_cond)`  \n",
                "**C)** `ODEProblem(function, initial_conditions, time_span, parameters)`  \n",
                "**D)** `ProblemODE(ODEfunction, parameters, init_conditions, t_range)`  \n",
                "\n",
                "### Instructions\n",
                "\n",
                "Replace X with A, B, C, or D."
            ]
        },
        {
            "cell_type": "code",
            "execution_count": null,
            "id": "1lj9wy42nux83k7z5b2u5c",
            "metadata": {
                "cellIdentifier": "1lj9wy42nux83k7z5b2u5c",
                "nbgrader": {
                    "grade": false,
                    "locked": false,
                    "solution": false
                }
            },
            "outputs": [],
            "source": [
                "# Your answers\n",
                "Answer1 = \"X\"\n",
                "Answer2 = \"X\"\n",
                "Answer3 = \"X\"\n",
                "Answer4 = \"X\"\n",
                "\n",
                "### BEGIN SOLUTION \n",
                "Answer1 = \"A\"\n",
                "Answer2 = \"A\"\n",
                "Answer3 = \"D\"\n",
                "Answer4 = \"B\";\n",
                "### END SOLUTION "
            ]
        },
        {
            "cell_type": "code",
            "execution_count": null,
            "id": "46p3ekacwlsudpn552v3ql",
            "metadata": {
                "cellIdentifier": "46p3ekacwlsudpn552v3ql",
                "nbgrader": {
                    "grade": false,
                    "locked": false,
                    "solution": false
                }
            },
            "outputs": [],
            "source": [
                "# FriendlyCheck\n",
                "include(\"HW08_DynamicModelUtilities.jl\")\n",
                "CheckAnswers = Answer1*Answer2*Answer3*Answer4\n",
                "num_correct = evaluate_answers(CheckAnswers)\n",
                "println(\"You currently have $num_correct correct answers out of 4.\")\n"
            ]
        },
        {
            "cell_type": "code",
            "execution_count": null,
            "id": "cnelya3g2i8lrz8mjoqn",
            "metadata": {
                "cellIdentifier": "cnelya3g2i8lrz8mjoqn",
                "deletable": false,
                "editable": false,
                "nbgrader": {
                    "grade": true,
                    "grade_id": "P03A1",
                    "locked": true,
                    "points": "0.5",
                    "solution": false
                }
            },
            "outputs": [],
            "source": [
                "#Grader Cell. Worth 1/2 Point\n",
                "### BEGIN HIDDEN TESTS\n",
                "# Answer1 = \"A\"\n",
                "# Answer2 = \"A\"\n",
                "# Answer3 = \"D\"\n",
                "# Answer4 = \"B\";\n",
                "\n",
                "@assert Answer1 == \"A\"\n",
                "### END HIDDEN TESTS"
            ]
        },
        {
            "cell_type": "code",
            "execution_count": null,
            "id": "3vspo5w43zl6wu4kecr7o",
            "metadata": {
                "cellIdentifier": "3vspo5w43zl6wu4kecr7o",
                "deletable": false,
                "editable": false,
                "nbgrader": {
                    "grade": true,
                    "grade_id": "P03A2",
                    "locked": true,
                    "points": "0.5",
                    "solution": false
                }
            },
            "outputs": [],
            "source": [
                "#Grader Cell. Worth 1/2 Point\n",
                "### BEGIN HIDDEN TESTS\n",
                "# Answer1 = \"A\"\n",
                "# Answer2 = \"A\"\n",
                "# Answer3 = \"D\"\n",
                "# Answer4 = \"B\";\n",
                "\n",
                "@assert Answer2 == \"A\"\n",
                "### END HIDDEN TESTS"
            ]
        },
        {
            "cell_type": "code",
            "execution_count": null,
            "id": "yd3ae8jd9iefnmz5iu0qgk",
            "metadata": {
                "cellIdentifier": "yd3ae8jd9iefnmz5iu0qgk",
                "deletable": false,
                "editable": false,
                "nbgrader": {
                    "grade": true,
                    "grade_id": "P03A3",
                    "locked": true,
                    "points": "0.5",
                    "solution": false
                }
            },
            "outputs": [],
            "source": [
                "#Grader Cell. Worth 1/2 Point\n",
                "### BEGIN HIDDEN TESTS\n",
                "# Answer1 = \"A\"\n",
                "# Answer2 = \"A\"\n",
                "# Answer3 = \"D\"\n",
                "# Answer4 = \"B\";\n",
                "\n",
                "@assert Answer3 == \"D\"\n",
                "### END HIDDEN TESTS"
            ]
        },
        {
            "cell_type": "code",
            "execution_count": null,
            "id": "z3gtw7k61nn9y4tfycgo05",
            "metadata": {
                "cellIdentifier": "z3gtw7k61nn9y4tfycgo05",
                "deletable": false,
                "editable": false,
                "nbgrader": {
                    "grade": true,
                    "grade_id": "P03A4",
                    "locked": true,
                    "points": "0.5",
                    "solution": false
                }
            },
            "outputs": [],
            "source": [
                "#Grader Cell. Worth 1/2 Point\n",
                "### BEGIN HIDDEN TESTS\n",
                "# Answer1 = \"A\"\n",
                "# Answer2 = \"A\"\n",
                "# Answer3 = \"D\"\n",
                "# Answer4 = \"B\";\n",
                "\n",
                "@assert Answer4 == \"B\"\n",
                "### END HIDDEN TESTS"
            ]
        },
        {
            "cell_type": "markdown",
            "id": "j54mhhvvam8ijrnwsrygh",
            "metadata": {
                "cellIdentifier": "j54mhhvvam8ijrnwsrygh",
                "nbgrader": {
                    "grade": false,
                    "locked": false,
                    "solution": false
                }
            },
            "source": [
                "# Problem 3: More Fun with ODEs\n",
                "## P.3B: Use the `DifferentialEquations.jl` package to solve the ODE \n",
                "\n",
                "Solve based on the information given in the next cell when the ODEs initial conditions are \n",
                "\n",
                "```Julia\n",
                "x0 = 7.0\n",
                "y0 = 15.0\n",
                "```\n",
                "\n",
                "and you need to know the solution's values over\n",
                "\n",
                "```Julia\n",
                "tspan = (0.0, 5.0) \n",
                "```\n",
                "\n",
                "> ### Friendly Check\n",
                "> \n",
                "> If you use the solver:\n",
                "> ```Julia\n",
                "> # Solve the ODE problem\n",
                "> sol = solve(prob, Tsit5())  # Using Tsit5 solver, a common choice for nonlinear problems\n",
                "> ```\n",
                "> The answer will be:\n",
                "> ```Julia\n",
                "> sol[:, end]\n",
                "> 2-element Vector{Float64}:\n",
                ">   3.7305123678595633\n",
                ">  -0.7785974658864031\n",
                "> ```\n"
            ]
        },
        {
            "cell_type": "code",
            "execution_count": null,
            "id": "78slrnn6r3hr8pv67mb4p",
            "metadata": {
                "cellIdentifier": "78slrnn6r3hr8pv67mb4p",
                "nbgrader": {
                    "grade": false,
                    "locked": false,
                    "solution": false
                }
            },
            "outputs": [],
            "source": [
                "# Importing Necessary Packages\n",
                "using DifferentialEquations, Plots\n",
                "\n",
                "# Your and my ODE \n",
                "\n",
                "function myODE!(du, u, p, t)\n",
                "    x, y = u\n",
                "    du[1] = y\n",
                "    du[2] = -5*y - x\n",
                "end\n",
                "\n",
                "# Put your code here\n",
                "# call the solution by the generic name, sol\n",
                "\n",
                "### BEGIN SOLUTION \n",
                "\n",
                "# Set initial conditions\n",
                "u0 = [7.0, 15.0]  # Initial values for x and y\n",
                "tspan = (0.0, 5.0)  # Time span from t=0 to t=10\n",
                "\n",
                "# Create an ODE problem\n",
                "prob = ODEProblem(myODE!, u0, tspan)\n",
                "\n",
                "# Solve the ODE problem\n",
                "sol = solve(prob, Tsit5())  # Using Tsit5 solver, a common choice for nonlinear problems\n",
                "\n",
                "### END SOLUTION \n",
                "\n",
                "# Friendly Check\n",
                "sol[:, end]"
            ]
        },
        {
            "cell_type": "code",
            "execution_count": null,
            "id": "8gdbciz4jutj2x9cjygaj",
            "metadata": {
                "cellIdentifier": "8gdbciz4jutj2x9cjygaj",
                "deletable": false,
                "editable": false,
                "nbgrader": {
                    "grade": true,
                    "grade_id": "P03B",
                    "locked": true,
                    "points": "3",
                    "solution": false
                }
            },
            "outputs": [],
            "source": [
                "#Grader Cell. Worth 3 Points\n",
                "### BEGIN HIDDEN TESTS\n",
                "using LinearAlgebra\n",
                "@assert norm(sol[:, end] - [3.7305123678595633; -0.7785974658864031]) < 5e-3\n",
                "### END HIDDEN TESTS"
            ]
        },
        {
            "cell_type": "markdown",
            "id": "uv6umbbctwcnp43wjq3f",
            "metadata": {
                "cellIdentifier": "uv6umbbctwcnp43wjq3f",
                "nbgrader": {
                    "grade": false,
                    "locked": false,
                    "solution": false
                }
            },
            "source": [
                "## Analyzing the Solutions of ODEs\n",
                "\n",
                "We’ve seen that solving ODEs numerically is not too difficult, while solving them analytically is often only possible in special cases. In practice, each field — Robotics, Aerospace Engineering, Chemical Engineering, Physics, Economics, etc. — develops its own models of systems using ODEs.  \n",
                "\n",
                "A key **domain-independent skill** is determining the **local stability** of equilibrium points.\n",
                "\n",
                "### Definitions\n",
                "\n",
                "- An **equilibrium point** $x_e \\in \\mathbb{R}^n$ of the system $\\dot{x} = f(x)$ is any point where $f(x_e) = 0_{n \\times 1}$.\n",
                "\n",
                "- **Local asymptotic stability (informal):** An equilibrium point $x_e$ is locally asymptotically stable if, when starting close enough to $x_e$, the system trajectories converge to $x_e$ as $t \\to \\infty$.\n",
                "\n",
                "- **Local asymptotic stability (formal):** An equilibrium point $x_e$ is locally asymptotically stable if there exists some $\\delta > 0$ such that, for all initial conditions $x_0$ with $\\|x_0 - x_e\\| < \\delta$, we have $\\lim_{t \\to \\infty} x(t) = x_e$.\n",
                "\n",
                "### Illustration\n",
                "\n",
                "Consider the **Van der Pol Oscillator run backward in time**.  \n",
                "For this system, trajectories with initial conditions inside the limit cycle converge to the origin.  \n",
                "\n",
                "This shows that the neighborhood size $\\delta$ in the definition does not have to be extremely small. The definition only guarantees that $\\delta$ is some positive number, but in practice it can often be fairly large.\n",
                "\n",
                "---\n",
                "\n",
                "**Note:** The next example cell uses `xLimitCycle` and `yLimitCycle` from the Van der Pol demonstration.\n"
            ]
        },
        {
            "cell_type": "code",
            "execution_count": null,
            "id": "zmhgqoeorshwhiaimowv5n",
            "metadata": {
                "cellIdentifier": "zmhgqoeorshwhiaimowv5n",
                "nbgrader": {
                    "grade": false,
                    "locked": false,
                    "solution": false
                }
            },
            "outputs": [],
            "source": [
                "function backwardVanDerPol!(du, u, p, t)\n",
                "    x, y = u\n",
                "    # backward van der Pol: origin is now attractive\n",
                "    mu = p\n",
                "    du[1] = -y\n",
                "    du[2] = -(mu * (1 - x^2) * y - x)\n",
                "end\n",
                "\n",
                "# Set initial conditions\n",
                "u0 = [1.1, 1.7]  # Initial values for x and y\n",
                "tspan = (0.0, 30.0)  # Time span from t=0 to t=10\n",
                "params = 0.5  # mu parameter\n",
                "\n",
                "# Create an ODE problem\n",
                "prob = ODEProblem(backwardVanDerPol!, u0, tspan, params)\n",
                "\n",
                "# Solve the ODE problem\n",
                "sol = solve(prob, Tsit5())  # Using Tsit5 solver, a common choice for nonlinear problems\n",
                "\n",
                "t_new = range(sol.t[1], stop=sol.t[end], length=15*ceil(Int64, sol.t[end]))  # Adjust 'length' as needed\n",
                "\n",
                "# Use broadcasting to get interpolated values for all new time points\n",
                "states = sol.(t_new)\n",
                "\n",
                "# Extract x and y components from states\n",
                "x = getindex.(states, 1)  # Extract first component (x) from each state\n",
                "y = getindex.(states, 2)  # Extract second component (y) from each state\n",
                "\n",
                "plt4 = plot(xLimitCyle, yLimitCyle, lw=3, color=:red, legend=false)\n",
                "plot!(x, y, lw=1.5, color=:black, legend=false, title=\"Phase Plot: x(t) vs y(t)\", xlabel=\"x\", ylabel=\"y\")\n",
                "      scatter!([u0[1]], [u0[2]], color=:black, markersize=10)\n",
                "\n",
                "# Adding an arrow using quiver!\n",
                "quiver!([u0[1]], [u0[2]], quiver=([x[3]-x[1]], [y[3]-y[1]]), color=:red, label=\"Direction of Change\")\n",
                "\n",
                "println(\"\\nWhy does this version of van der Pol converge to the origin, an equilibirum point, whereas \n",
                "the previous version spirals away from the equilibirum point? Inquiring minds want to know! \\n\")\n",
                "\n",
                "\n",
                "display(plt4)"
            ]
        },
        {
            "cell_type": "markdown",
            "id": "fa4g5iizo0bbufuo6zgj9",
            "metadata": {
                "cellIdentifier": "fa4g5iizo0bbufuo6zgj9",
                "nbgrader": {
                    "grade": false,
                    "locked": false,
                    "solution": false
                }
            },
            "source": [
                "# Problem 4: Eigenvalues, Eigenvectors, and the Matrix Exponential \n",
                "\n",
                "<br>\n",
                "\n",
                "<p align=\"center\">\n",
                "  <img src=\"./data/HW08ExponentialStabilityLinearSystems.png\", width=\"90%\">\n",
                "</p>\n",
                "\n",
                "**Note:** Later in the HW, we'll provide code that allows you to explore why the above result is true. Next, we tie linear ODEs to nonlinear ODES through their (Jacobian) linearization.\n",
                "\n",
                "<br>\n",
                "\n",
                "\n",
                "<p align=\"center\">\n",
                "  <img src=\"./data/HW08LinearizationAboutEquilibriumPoint.png\", width=\"90%\">\n",
                "</p>\n",
                "\n",
                "### Important\n",
                "\n",
                "Because $x_e + \\delta x(t)$ is an approximate solution to the nonlinear model, if the Jacobian matrix of the linearization $A:=\\frac{\\partial f(x_e)}{\\partial x} $ has all eigenvalues with negative real parts, then $x_e + \\delta x(t)$ will converge to $x_e$ as $t$ tends to infinity."
            ]
        },
        {
            "cell_type": "markdown",
            "id": "ydzpagfas49zlxdantnlxh",
            "metadata": {
                "cellIdentifier": "ydzpagfas49zlxdantnlxh",
                "nbgrader": {
                    "grade": false,
                    "locked": false,
                    "solution": false
                }
            },
            "source": [
                "## P.4A: Compute the Eigenvalues of the Jacobian Linearization of the Van der Pol Oscillator\n",
                "\n",
                "We consider the linearized system $\\delta \\dot{x} = A \\, \\delta x,$ where $A := \\frac{\\partial f(x_e)}{\\partial x}, \\qquad x_e = \\begin{bmatrix} 0 \\\\ 0 \\end{bmatrix}.$\n",
                "\n",
                "Even though this problem is set up for you to use **ForwardDiff** to compute the Jacobian, you may use another method if you prefer.  \n",
                "\n",
                "In the end, you must ensure that:\n",
                "\n",
                "- $A$ is a $2 \\times 2$ real-valued matrix, and  \n",
                "- You correctly compute both $A$ and its eigenvalues.\n"
            ]
        },
        {
            "cell_type": "code",
            "execution_count": null,
            "id": "plk7wt4xa90f7ubxuybjaa",
            "metadata": {
                "cellIdentifier": "plk7wt4xa90f7ubxuybjaa",
                "nbgrader": {
                    "grade": false,
                    "locked": false,
                    "solution": false
                }
            },
            "outputs": [],
            "source": [
                "using ForwardDiff, LinearAlgebra\n",
                "\n",
                "# right-hand side of the van der Pol oscillator\n",
                "# Define the function f(x, y) returning a vector\n",
                "function f(z)\n",
                "    x, y = z\n",
                "    return [y, 0.5 * (1 - x^2) * y - x]\n",
                "end\n",
                "\n",
                "## Compute the Jacobian matrix at the origin\n",
                "# A = ??\n",
                "\n",
                "## Compute the eigenvalues of the Jacobian matrix\n",
                "# eigenvalues = ??\n",
                "\n",
                "### BEGIN SOLUTION \n",
                "\n",
                "# Compute the Jacobian matrix at the origin\n",
                "xe = [0.0; 0.0]\n",
                "A = ForwardDiff.jacobian(f, xe)\n",
                "\n",
                "# Compute the eigenvalues of the Jacobian matrix\n",
                "E = eigen(A)\n",
                "eigenvalues = E.values\n",
                "\n",
                "### END SOLUTION"
            ]
        },
        {
            "cell_type": "code",
            "execution_count": null,
            "id": "3hnekh4tqqynhzxm7qaxg",
            "metadata": {
                "cellIdentifier": "3hnekh4tqqynhzxm7qaxg",
                "nbgrader": {
                    "grade": false,
                    "locked": false,
                    "solution": false
                }
            },
            "outputs": [],
            "source": [
                "# friendly check\n",
                "# if the value of is_it_correct_checkN is \"Yes\", then your answer is LIKELY correct. \n",
                "# If the value of is_it_correct_checkN is \"No\", then your answer is DEFINITELY wrong\n",
                "#\n",
                "RealParts = real.(eigenvalues)\n",
                "ImagParts = imag.(eigenvalues)\n",
                "\n",
                "# Run Test\n",
                "is_it_correct_check1 = abs( abs(RealParts[1]*ImagParts[2]) - 0.24206145913796354 ) < 1e-4 ? \"Yes\" : \"No\"\n",
                "@show is_it_correct_check1;"
            ]
        },
        {
            "cell_type": "code",
            "execution_count": null,
            "id": "24h03s5g941f3mrq34c4or",
            "metadata": {
                "cellIdentifier": "24h03s5g941f3mrq34c4or",
                "deletable": false,
                "editable": false,
                "nbgrader": {
                    "grade": true,
                    "grade_id": "P04A",
                    "locked": true,
                    "points": "1",
                    "solution": false
                }
            },
            "outputs": [],
            "source": [
                "# Grader Cell. Worth 1 Point\n",
                "### BEGIN HIDDEN TESTS\n",
                "RealParts = real.(eigenvalues)\n",
                "@assert norm(A - [0.0 1.0; -1.0 0.5]) < 1e-2\n",
                "@assert abs(RealParts[1] - 0.25) < 1e-2\n",
                "###END HIDDEN TESTS"
            ]
        },
        {
            "cell_type": "markdown",
            "id": "z57pwqq76d7math1mllsj",
            "metadata": {
                "cellIdentifier": "z57pwqq76d7math1mllsj",
                "nbgrader": {
                    "grade": false,
                    "locked": false,
                    "solution": false
                }
            },
            "source": [
                "## P.4B: Compute the Eigenvalues of the Jacobian Linearization of the \"Backward-Running\" Van der Pol Oscillator\n",
                "\n",
                "We consider the linearized system $\\delta \\dot{x} = A \\, \\delta x,$ where $A := \\frac{\\partial f(x_e)}{\\partial x}, \\qquad x_e = \\begin{bmatrix} 0 \\\\ 0 \\end{bmatrix}.$\n",
                "\n",
                "As before, this problem is set up for you to use **ForwardDiff** to compute the Jacobian, but you may use other methods if you prefer.  \n",
                "\n",
                "In the end, you must ensure that:\n",
                "\n",
                "- $A$ is a $2 \\times 2$ real-valued matrix, and  \n",
                "- You correctly compute both $A$ and its eigenvalues.\n",
                "\n",
                "**Hint:** The eigenvalues of the *backward-running* Van der Pol oscillator will be the **negatives** of the eigenvalues of the *forward-running* Van der Pol oscillator.\n"
            ]
        },
        {
            "cell_type": "code",
            "execution_count": null,
            "id": "k1uinghlctzezvghk501",
            "metadata": {
                "cellIdentifier": "k1uinghlctzezvghk501",
                "nbgrader": {
                    "grade": false,
                    "locked": false,
                    "solution": false
                }
            },
            "outputs": [],
            "source": [
                "using ForwardDiff, LinearAlgebra\n",
                "\n",
                "# right-hand side of the backward van der Pol oscillator\n",
                "# Define the function f(x, y) returning a vector\n",
                "function f(z)\n",
                "    x, y = z\n",
                "    return [y, 0.5 * (1 - x^2) * y - x]\n",
                "end\n",
                "\n",
                "\n",
                "## Compute the Jacobian matrix at the origin\n",
                "# A = ??\n",
                "\n",
                "## Compute the eigenvalues of the Jacobian matrix\n",
                "# eigenvalues = ??\n",
                "\n",
                "### BEGIN SOLUTION \n",
                "\n",
                "# Compute the Jacobian matrix at the origin\n",
                "xe = [0.0; 0.0]\n",
                "A = ForwardDiff.jacobian(f, xe)\n",
                "\n",
                "# Compute the eigenvalues of the Jacobian matrix\n",
                "E = eigen(A)\n",
                "eigenvalues = E.values\n",
                "\n",
                "### END SOLUTION\n",
                "\n",
                "# We are checking both A and eigenvalues"
            ]
        },
        {
            "cell_type": "code",
            "execution_count": null,
            "id": "yrb47i5edoeplh1dxxmo2",
            "metadata": {
                "cellIdentifier": "yrb47i5edoeplh1dxxmo2",
                "deletable": false,
                "editable": false,
                "nbgrader": {
                    "grade": true,
                    "grade_id": "P04B",
                    "locked": true,
                    "points": "1",
                    "solution": false
                }
            },
            "outputs": [],
            "source": [
                "# Grader Cell. Worth 1 Point\n",
                "### BEGIN HIDDEN TESTS\n",
                "RealParts = real.(eigenvalues)\n",
                "@assert norm(A) - 1.5 < 1e-2\n",
                "@assert abs(sum(RealParts) - 0.5) < 1e-2\n",
                "###END HIDDEN TESTS"
            ]
        },
        {
            "cell_type": "markdown",
            "id": "d1e9bxv1j0f0bp67jo7y3ju",
            "metadata": {
                "cellIdentifier": "d1e9bxv1j0f0bp67jo7y3ju",
                "nbgrader": {
                    "grade": false,
                    "locked": false,
                    "solution": false
                }
            },
            "source": [
                "# Understanding Eigenvalues \n",
                "\n",
                "How and why do eigenvalues determine whether initial conditions near an equilibrium lead to solutions that coverge to the equlibrium or diverge from it? \n",
                "\n",
                "### Key Topics\n",
                "- Complex Exponentials\n",
                "- Matrix Exponentials\n",
                "- $e^{A \\, t} \\cdot v = e^{\\lambda t} \\cdot v$ when $A \\cdot v = \\lambda \\cdot v$:\n",
                "  * Hence, if $v$ and $\\lambda$ are real, then $ e^{\\lambda t} \\cdot v$ is a vector of real exponentials and easy to understand.\n",
                "  * However, if $v$ and $\\lambda$ are complex, then $ e^{\\lambda t} \\cdot v$ is a vector of complex exponentials, so what does that mean, exactly? \n"
            ]
        },
        {
            "cell_type": "markdown",
            "id": "mwszrzc3hsc2x3bguj00pc",
            "metadata": {
                "cellIdentifier": "mwszrzc3hsc2x3bguj00pc",
                "nbgrader": {
                    "grade": false,
                    "locked": false,
                    "solution": false
                }
            },
            "source": [
                "## Optional: Primer on Complex Numbers\n",
                "\n",
                "If you are good with complex numbers, you can skip this.\n",
                "\n",
                "<p align=\"center\">\n",
                "  <img src=\"./data/HW08ReviewComplexNumbers.png\", width=\"95%\">\n",
                "</p>\n",
                "\n",
                "<br>\n",
                "\n",
                "Here's a mini-tutorial on complex numbers in Julia that covers the basics, including creating a complex number, performing arithmetic operations, extracting real and complex parts, and more:\n",
                "\n",
                "#### 1. Creating a Complex Number\n",
                "In Julia, complex numbers are created using the `Complex` type. A complex number $z$ is represented as $a + bi$, where $a$ is the real part and $b$ is the imaginary part.\n",
                "\n",
                "```julia\n",
                "z = 3 + 4im  # 'im' denotes the imaginary unit in Julia\n",
                "```\n",
                "\n",
                "#### 2. Adding and Multiplying\n",
                "You can perform arithmetic operations like addition, subtraction, multiplication, and division on complex numbers just like on real numbers.\n",
                "\n",
                "```julia\n",
                "z1 = 3 + 4im\n",
                "z2 = 1 + 2im\n",
                "\n",
                "# Addition\n",
                "addition = z1 + z2  # Outputs 4 + 6im\n",
                "\n",
                "# Multiplication\n",
                "multiplication = z1 * z2  # Outputs -5 + 10im\n",
                "```\n",
                "\n",
                "#### 3. Real and Imaginary Parts\n",
                "To extract the real or imaginary parts of a complex number, use the `real()` and `imag()` functions, respectively.\n",
                "\n",
                "```julia\n",
                "real_part = real(z1)  # Outputs 3\n",
                "imaginary_part = imag(z1)  # Outputs 4\n",
                "```\n",
                "\n",
                "#### 4. Complex Conjugate\n",
                "The complex conjugate of a complex number $a + bi$ is $a - bi$. You can get the conjugate in Julia using the `conj()` function.\n",
                "\n",
                "```julia\n",
                "conjugate = conj(z1)  # Outputs 3 - 4im\n",
                "```\n",
                "\n",
                "#### 5. Magnitude and Angle\n",
                "The magnitude (or absolute value) of a complex number can be found using `abs()`, and the angle (or phase) can be obtained with `angle()`.\n",
                "\n",
                "```julia\n",
                "magnitude = abs(z1)  # Outputs 5\n",
                "angle = angle(z1)  # Outputs approximately 0.927 radians\n",
                "```\n",
                "If you recall **polar coordinates** in the plane, then you understand that you can represent a pair of numbers (x, y) as ($\\rho$, $\\theta$), where $\\rho$ is the magnitude, $\\sqrt{x^2 + y^2}$, and $\\theta$ is the phase, ``atan2(x,y)``. The same is true for a complex number $z:=x + i y$ which can be though of as a pair $(x, y)$ where $x$ is the real part of $z$ and $y$ is the imaginary part.\n",
                "\n",
                "#### Additional Operations\n",
                "Julia also supports other complex number functions like `abs2()` for the square of the absolute value and `cis(theta)` to create a complex number given an angle $\\theta$ ( $e^{i\\theta}$ ).\n",
                "\n",
                "```julia\n",
                "# Square of the absolute value\n",
                "square_magnitude = abs2(z1)  # Outputs 25\n",
                "\n",
                "# Create complex number from an angle\n",
                "theta = pi / 4\n",
                "complex_from_angle = cis(theta)  # Outputs approximately 0.707 + 0.707im\n",
                "```\n"
            ]
        },
        {
            "cell_type": "code",
            "execution_count": null,
            "id": "4w4oniynwrhbgvwa3kgsxh",
            "metadata": {
                "cellIdentifier": "4w4oniynwrhbgvwa3kgsxh",
                "nbgrader": {
                    "grade": false,
                    "locked": false,
                    "solution": false
                }
            },
            "outputs": [],
            "source": [
                "# Use this cell to practice with complex numbers. Nothing here is graded.\n",
                "#\n",
                "@show im^2 #  remains a complex TYPE with zero imaginary part\n",
                "@show real(im^2)  # becomes a real number\n",
                "@show imag(im^2)  # becomes a real number\n",
                "@show z = -3 + 4im # im = sqrt(-1)\n",
                "@show rho = abs(z)  # magnitude, similar to polar coordinates\n",
                "@show theta = angle(z)  # angle, similar to polar coordinates\n",
                "display([z;   rho*exp(im*theta)]); # z = |z|*exp(im * angle(z))\n",
                "\n",
                "# Add your commands"
            ]
        },
        {
            "cell_type": "markdown",
            "id": "6jq7lxuv5c53bi6vph5blu",
            "metadata": {
                "cellIdentifier": "6jq7lxuv5c53bi6vph5blu",
                "nbgrader": {
                    "grade": false,
                    "locked": false,
                    "solution": false
                }
            },
            "source": [
                "# Problem 5: Complex Exponentials and the Matrix Exponential\n",
                "\n",
                "<p align=\"center\">\n",
                "  <img src=\"./data/HW08ComplexExponentials.png\", width=\"90%\">\n",
                "</p>\n",
                "\n",
                "Study the code and play with the values of a and w in the following cell. Use your observatons to answer the next question."
            ]
        },
        {
            "cell_type": "code",
            "execution_count": null,
            "id": "pjl1mdr8xxekee2u1rt1uc",
            "metadata": {
                "cellIdentifier": "pjl1mdr8xxekee2u1rt1uc",
                "nbgrader": {
                    "grade": false,
                    "locked": false,
                    "solution": false
                }
            },
            "outputs": [],
            "source": [
                "using Plots, LinearAlgebra\n",
                "\n",
                "# Define constants a and w\n",
                "a = 0.25  # Real coefficient\n",
                "w = 2.0  # Imaginary coefficient\n",
                "\n",
                "# Define the time vector t from 0 to 10 in steps of 0.01\n",
                "t = 0:0.01:10\n",
                "\n",
                "# Calculate the complex exponential e^(z*t) \n",
                "z = a + im*w  # Define the complex number z = a + iw\n",
                "exp_zt = exp.(z .* t)  # Element-wise exponentiation\n",
                "\n",
                "# Compute the magnitude\n",
                "magnitude_exp_zt = norm.( exp.(z .* t) )\n",
                "\n",
                "# Extract real and imaginary parts\n",
                "real_part = real.(exp_zt)\n",
                "imaginary_part = imag.(exp_zt)\n",
                "\n",
                "# Plotting: We must plot the real and imaginary parts separately.\n",
                "# Plots does not know what to do with complex numbers\n",
                "plt1 = plot(t, 0*t, label=\"\", lw=2, color=:gold, title=\"Understanding exp((a + iw)t)\")\n",
                "plot!(t, real_part, label=\"Real part\", color=:blue, lw=2)\n",
                "plot!(t, imaginary_part, color=:red, lw=2, label=\"Imaginary part\")\n",
                "plot!(t, magnitude_exp_zt, label=\"Magnitude = exp(at)\", color=:black, lw=2, linestyle=:dash)\n",
                "plot!(t, -magnitude_exp_zt, label=\"Negative of Magnitude\", color=:gray, lw=2, linestyle=:dash)\n",
                "\n",
                "xlabel!(\"Time (t)\")\n",
                "ylabel!(\"Value\")\n",
                "\n",
                "# Display the plot\n",
                "display(plt1)\n",
                "\n",
                "# Compute exp(at) for all t\n",
                "exp_at = exp.(a .* t)\n",
                "\n",
                "# Compute the required functions\n",
                "exp_at_cos_wt = exp_at .* cos.(w .* t)\n",
                "exp_at_sin_wt = exp_at .* sin.(w .* t)\n",
                "\n",
                "# Plotting the components and exp(at)\n",
                "plt2 = plot(t, exp_at_cos_wt, label=\"exp(at)*cos(wt)\", color=:blue, lw=2, title=\"Component Functions of exp((a + iw)t)\")\n",
                "plot!(t, exp_at_sin_wt, label=\"exp(at)*sin(wt)\", color=:red, lw=2)\n",
                "plot!(t, exp_at, label=\"exp(at)\", color=:black, lw=2, linestyle=:dash)\n",
                "plot!(t, -exp_at, label=\"-exp(at)\", color=:gray, lw=2, linestyle=:dash)\n",
                "\n",
                "xlabel!(\"Time (t)\")\n",
                "ylabel!(\"Value\")\n",
                "\n",
                "# Display the plot\n",
                "display(plt2)\n"
            ]
        },
        {
            "cell_type": "markdown",
            "id": "xblp3v4y4klkpo79p4ku8",
            "metadata": {
                "cellIdentifier": "xblp3v4y4klkpo79p4ku8",
                "nbgrader": {
                    "grade": false,
                    "locked": false,
                    "solution": false
                }
            },
            "source": [
                "<!-- \n",
                "<p align=\"center\">\n",
                "  <img src=\"HW08ComplexExponentialsProperties.png\", width=\"90%\">\n",
                "</p>\n",
                " -->"
            ]
        },
        {
            "cell_type": "markdown",
            "id": "5ur08ngx4a3331fwm23r2",
            "metadata": {
                "cellIdentifier": "5ur08ngx4a3331fwm23r2",
                "nbgrader": {
                    "grade": false,
                    "locked": false,
                    "solution": false
                }
            },
            "source": [
                "## P.5A: Multiple choice questions on complex exponential functions\n",
                "\n",
                "These questions cover various scenarios involving the parameters $a$ and $w$ in the complex exponential, $ e^{(a + i w) t},$\n",
                "to enhance your understanding of how the real and imaginary parts of the complex exponential function behave under different conditions.\n",
                "\n",
                "**Q1:** What can we control by adjusting the value of a in $e^{(a + iw)t}$?\n",
                "\n",
                "A) The oscilation frequency of the function.  \n",
                "B) The rate of exponential growth or decay.  \n",
                "C) The initial phase shift.  \n",
                "D) The chance that you will get an A in this class.\n",
                "\n",
                "**Q2:** What is the behavior of the real and imaginary parts of $e^{(a + iw)t}$ as $t$ approaches infinity if $a < 0$?\n",
                "\n",
                "A) Both parts approach zero.  \n",
                "B) The real part approaches zero but the imaginary part approaches infinity.  \n",
                "C) Both parts approach infinity.  \n",
                "D) The real part approaches infinity but the imaginary part approaches zero.\n",
                "\n",
                "**Q3:** If $w \\neq 0$ and the limit as $t$ approaches infinity of the real part of $e^{(a + iw)t}$ goes to zero, what happens to the imaginary part?\n",
                "\n",
                "A) The imaginary part can do whatever it wants.  \n",
                "B) The imaginary part also goes to zero. \n",
                "C) The imaginary part remains constant.  \n",
                "D) The imaginary part converges to plus infinity or minus infinity. \n",
                "\n",
                "**Q4:** When $a = 0$ and $w \\neq 0$, what is the nature of $e^{(a + iw)t}$?\n",
                "\n",
                "A) It is purely real for all $t$.  \n",
                "B) It is purely imaginary for all $t$.  \n",
                "C) Its real and imaginary parts oscillate with a magnitude of 1.   \n",
                "D) It remains constant with a magnitude of 1. \n"
            ]
        },
        {
            "cell_type": "code",
            "execution_count": null,
            "id": "psq5cgnf2km2v027rdcts",
            "metadata": {
                "cellIdentifier": "psq5cgnf2km2v027rdcts",
                "nbgrader": {
                    "grade": false,
                    "locked": false,
                    "solution": false
                }
            },
            "outputs": [],
            "source": [
                "# Replace X with A, B, C, or D. Do not remove the double quote marks\n",
                "\n",
                "Answer1 = \"X\"\n",
                "Answer2 = \"X\"\n",
                "Answer3 = \"X\"\n",
                "Answer4 = \"X\"\n",
                "\n",
                "### BEGIN SOLUTION \n",
                "\n",
                "Answer1 = \"B\"\n",
                "Answer2 = \"A\"\n",
                "Answer3 = \"B\"\n",
                "Answer4 = \"C\";\n",
                "\n",
                "### END SOLUTION\n"
            ]
        },
        {
            "cell_type": "code",
            "execution_count": null,
            "id": "uyvqvksw8bi0maia8aa2ykd",
            "metadata": {
                "cellIdentifier": "uyvqvksw8bi0maia8aa2ykd",
                "nbgrader": {
                    "grade": false,
                    "locked": false,
                    "solution": false
                }
            },
            "outputs": [],
            "source": [
                "# FriendlyCheck\n",
                "include(\"HW08_DynamicModelUtilities.jl\")\n",
                "CheckAnswers = Answer1*Answer2*Answer3*Answer4\n",
                "num_correct = evaluate_answers02(CheckAnswers)\n",
                "\n",
                "println(\"You currently have $num_correct correct answers out of 4. \n",
                "    They are worth 0.5 points each.\")"
            ]
        },
        {
            "cell_type": "code",
            "execution_count": null,
            "id": "9nw6er14bonr2xdh7t6aa",
            "metadata": {
                "cellIdentifier": "9nw6er14bonr2xdh7t6aa",
                "deletable": false,
                "editable": false,
                "nbgrader": {
                    "grade": true,
                    "grade_id": "P05a",
                    "locked": true,
                    "points": "0.5",
                    "solution": false
                }
            },
            "outputs": [],
            "source": [
                "#Grader Cell. 0.5 points\n",
                "### BEGIN HIDDEN TESTS\n",
                "# Answer1 = \"C\"\n",
                "# Answer2 = \"A\"\n",
                "# Answer3 = \"D\"\n",
                "# Answer4 = \"D\";\n",
                "@assert (Answer1==\"B\")\n",
                "### END HIDDEN TESTS"
            ]
        },
        {
            "cell_type": "code",
            "execution_count": null,
            "id": "1vi69ajts1jb1i2my8as4t",
            "metadata": {
                "cellIdentifier": "1vi69ajts1jb1i2my8as4t",
                "deletable": false,
                "editable": false,
                "nbgrader": {
                    "grade": true,
                    "grade_id": "P05b",
                    "locked": true,
                    "points": "0.5",
                    "solution": false
                }
            },
            "outputs": [],
            "source": [
                "#Grader Cell. 0.5 points\n",
                "### BEGIN HIDDEN TESTS\n",
                "@assert (Answer2==\"A\")\n",
                "### END HIDDEN TESTS"
            ]
        },
        {
            "cell_type": "code",
            "execution_count": null,
            "id": "y7p622w6gcml8lwku15w",
            "metadata": {
                "cellIdentifier": "y7p622w6gcml8lwku15w",
                "deletable": false,
                "editable": false,
                "nbgrader": {
                    "grade": true,
                    "grade_id": "P05c",
                    "locked": true,
                    "points": "0.5",
                    "solution": false
                }
            },
            "outputs": [],
            "source": [
                "#Grader Cell. 0.5 points\n",
                "### BEGIN HIDDEN TESTS\n",
                "@assert (Answer3==\"B\")\n",
                "### END HIDDEN TESTS"
            ]
        },
        {
            "cell_type": "code",
            "execution_count": null,
            "id": "y73z9ass2klluf6kz58s",
            "metadata": {
                "cellIdentifier": "y73z9ass2klluf6kz58s",
                "deletable": false,
                "editable": false,
                "nbgrader": {
                    "grade": true,
                    "grade_id": "P05d",
                    "locked": true,
                    "points": "0.5",
                    "solution": false
                }
            },
            "outputs": [],
            "source": [
                "#Grader Cell. 0.5 points\n",
                "### BEGIN HIDDEN TESTS\n",
                "@assert (Answer4==\"C\")\n",
                "### END HIDDEN TESTS"
            ]
        },
        {
            "cell_type": "markdown",
            "id": "692kx3ngjurbnp7upp2fxf",
            "metadata": {
                "cellIdentifier": "692kx3ngjurbnp7upp2fxf",
                "nbgrader": {
                    "grade": false,
                    "locked": false,
                    "solution": false
                }
            },
            "source": [
                "<p align=\"center\">\n",
                "  <img src=\"./data/HW08MatrixExponentialDefinition.png\", width=\"90%\">\n",
                "</p>\n",
                "<br>\n",
                "\n",
                "<br>\n",
                "<p align=\"center\">\n",
                "  <img src=\"./data/HW08Solution2LinearODEs.png\", width=\"90%\">\n",
                "</p>\n",
                "<br>\n",
                "\n",
                "To make things concrete, consider:\n",
                "\n",
                "<br>\n",
                "<p align=\"center\">\n",
                "  <img src=\"./data/HW08MassSpringDamper.png\", width=\"40%\">\n",
                "</p>\n",
                "<br>\n",
                "the classic mass-spring-damper. If you were to rotate the image with the mass on top and the wall being the ground, the system would become a simplified version of a shock absorber in a car (after adding in gravity). The spring compresses to absorb shocks, but on its own, it would continue to oscillate. The role of the damper is to remove energy from the system (similar to friction), causing the oscillations to die out. As derived in the textbook, the differential equation model is\n",
                "\n",
                "$$\\left[\\begin{array}{c} \\dot{x}_{1}  \\\\\\\\ \\dot{x}_2 \\end{array} \\right] = \\left[\\begin{array}{cc} 0 & 1 \\\\\\\\ - \\frac{k}{m} & -\\frac{b}{m} \\end{array}\\right] \\left[ \\begin{array}{c} x_1  \\\\\\\\ x_2 \\end{array}\\right],$$\n",
                "\n",
                "where $x_1$ is the position of the mass (relative to the rest position of the spring and the wall) and $x_2$ is the velocity of the mass. The parameters are $m$ the mass of the vehicle, $k$ the spring constant, and $b$ the damping constant.\n",
                "\n",
                "The initial conditions for the ODE come from the initial position of the mass (relative to the rest position of the spring and the wall) and the initial velocity of the mass.\n",
                "\n",
                "---\n",
                "\n",
                "A numerical solution is given first using ``DifferentialEquations.jl``:\n",
                "\n",
                "```julia\n",
                "# Nominal parameters\n",
                "m = 7.0   # Mass in kg\n",
                "k = 2.0   # Spring constant in N/m\n",
                "b = 4.0   # Damping coefficient in Ns/m\n",
                "```"
            ]
        },
        {
            "cell_type": "code",
            "execution_count": null,
            "id": "1yps45ryea1v74629b7ye",
            "metadata": {
                "cellIdentifier": "1yps45ryea1v74629b7ye",
                "nbgrader": {
                    "grade": false,
                    "locked": false,
                    "solution": false
                }
            },
            "outputs": [],
            "source": [
                "# Model and simulate the mass spring damper system\n",
                "# dx/dt = A*x(t)\n",
                "\n",
                "using DifferentialEquations, Plots\n",
                "\n",
                "# Parameters\n",
                "m = 7.0   # Mass in kg\n",
                "k = 2.0   # Spring constant in N/m\n",
                "b = 4.0   # Damping coefficient in Ns/m\n",
                "\n",
                "# Package the parameters for passing them to DifferentialEquations\n",
                "params = (m, k, b)  # m, k, b\n",
                "\n",
                "# Differential equation du/dt = A*u\n",
                "# You can use x, but u is the default notation with ODEProblem.\n",
                "function mass_spring_damper!(du, u, p, t)\n",
                "    m, k, b = p  # unpack parameters\n",
                "    # Various methods to formulate the ODE\n",
                "    if false # first two methods work\n",
                "        du[1] = u[2]\n",
                "        du[2] = -(k/m) * u[1] - (b/m) * u[2]\n",
                "    elseif true\n",
                "        A = [0 1; -k/m -b/m]\n",
                "        temp = A * u  # Calculate the product of A and u\n",
                "        du[1] = temp[1]  # Assign the first component to du[1]\n",
                "        du[2] = temp[2]  # Assign the second component to du[2]\n",
                "    else # This method does not work with ODEProblem\n",
                "        # You can ask your favorite LLM why.\n",
                "        A = [0 1; -k/m -b/m]\n",
                "        du = A*du\n",
                "    end\n",
                "end\n",
                "\n",
                "\n",
                "# Initial conditions: assuming initial displacement of 1 meter and initial velocity of 0 m/s\n",
                "u0 = [1.0, 0.0]\n",
                "\n",
                "# Time span for the simulation\n",
                "tspan = (0.0, 20.0)\n",
                "\n",
                "# Solve the ODE\n",
                "prob = ODEProblem(mass_spring_damper!, u0, tspan, params) # (odeModel, initialConditions, timespan, parameters)\n",
                "sol = solve(prob, Tsit5(), reltol=1e-8, abstol=1e-8)\n",
                "\n",
                "\n",
                "A=[0 1; -k/m -b/m]\n",
                "println(\"In the next cell, we'll relate the response to the eigenvalues of the matrix A, $A\")\n",
                "\n",
                "display(A)\n",
                "\n",
                "# Plot the solution. Several different ways to make the plot are illustrated\n",
                "# Find one you like and stick with it.\n",
                "if true\n",
                "    # Plot the results\n",
                "    plt1 = plot(sol.t, [x[1] for x in sol.u], label=\"Displacement (m)\", xlabel=\"Time (s)\", ylabel=\"Displacement (m)\", \n",
                "        title=\"Mass-Spring-Damper Initial Condition Response\")\n",
                "    plot!(sol.t, [x[2] for x in sol.u], label=\"Velocity (m/s)\", ylabel=\"Velocity (m/s)\", legend=:topright)\n",
                "elseif true\n",
                "    plt1 = plot(sol, xlabel=\"Time (s)\", ylabel=\"State\", title=\"Mass-Spring-Damper System Response\", legend=:topright)\n",
                "else\n",
                "    plt1 = plot(sol, xlabel=\"Time (s)\", ylabel=\"State\", title=\"Mass-Spring-Damper System Response\", legend=:topright)\n",
                "    plot!(sol.t, [x[1] for x in sol.u], label=\"Displacement (m)\")\n",
                "    plot!(sol.t, [x[2] for x in sol.u], label=\"Velocity (m/s)\")\n",
                "end\n",
                "\n",
                "display(plt1)\n"
            ]
        },
        {
            "cell_type": "code",
            "execution_count": null,
            "id": "jqkgpid9dq1w8afwfzvx",
            "metadata": {
                "cellIdentifier": "jqkgpid9dq1w8afwfzvx",
                "nbgrader": {
                    "grade": false,
                    "locked": false,
                    "solution": false
                }
            },
            "outputs": [],
            "source": [
                "using LinearAlgebra\n",
                "\n",
                "# Mass spring damper default values. \n",
                "# Change b in the previous cell and run it for b = 3, 1 and 10\n",
                "# Then run this cell and see that we get the same results.\n",
                "\n",
                "A = [0 1; -k/m -b/m]\n",
                "println(\"Here is the matrix A:\")\n",
                "display(A)\n",
                "F = eigen(A)\n",
                "println(\"Here are the eigenvalues of matrix A:\")\n",
                "display(F.values)\n",
                "if norm(imag.(F.values)) < 1e-6\n",
                "    println(\"Note they are real valued, which yields monontonic trajectories\")\n",
                "else\n",
                "    println(\"Note they are complex valued, which yields oscillations\")\n",
                "end\n",
                "println(\"\\nHere is the matrix exp(A):\")\n",
                "expA = exp(A)\n",
                "display(expA)\n",
                "G = eigen(expA)\n",
                "println(\"Here are the eigenvalues of matrix exp(A):\")\n",
                "display(G.values)\n",
                "println(\"They are equal to the exponential of the eigenvalues of matrix A:\")\n",
                "expEigenValuesA = exp.(F.values)\n",
                "display(expEigenValuesA)\n",
                "\n",
                "# data from the previous cell\n",
                "t = range(tspan[1], tspan[2], 1000)\n",
                "x0 = u0 \n",
                "traj = x0\n",
                "for k = 1:length(t)-1\n",
                " traj = [traj exp(A*t[k])*x0]\n",
                "end\n",
                "\n",
                "println(\"\\nSolving dx/dx = Ax, x(t0)=x0 via x(t) = exp(A*t)*x0. Because we know the exact solution\n",
                "to the ODE, we can analyze its properties to understand when it oscillates while \n",
                "exponentially decaying, when it is decays monotonically, and when it blows up.\\n\\n\")\n",
                "\n",
                "plt2 = plot(t, traj[1,:], xlabel=\"Time (s)\", ylabel=\"State\", title=\"Mass-Spring-Damper exp(At)*x0\", \n",
                "    legend=:topright, label=\"Displacement (m)\")\n",
                "    plot!(t, traj[2,:], label=\"Velocity (m/s)\")\n",
                "display(plt2)\n",
                "println(\"Go back two cells, change b and the then re-run these last two cells. Focus on\n",
                "whether the eigenvalues are real or complex. If you set the damping  b to a negative number\n",
                "you can make the solution explode.\")"
            ]
        },
        {
            "cell_type": "markdown",
            "id": "9du2lcit8aeoiypshgpsr",
            "metadata": {
                "cellIdentifier": "9du2lcit8aeoiypshgpsr",
                "nbgrader": {
                    "grade": false,
                    "locked": false,
                    "solution": false
                }
            },
            "source": [
                "## What Do Eigenvectors Do?\n",
                "\n",
                "Eigenvectors define subspaces for initial conditions $x_0$ that create solutions that are vector versions of a single complex exponential, $e^{\\lambda t} \\cdot x_0$.\n",
                "\n",
                "**Fundamental Relation:** $A v = \\lambda v$\n",
                "\n",
                "#### Case 1: $\\lambda$ is a Real Eigenvalue of $A$\n",
                "\n",
                "- For any $x_0 \\in \\text{span}\\{v\\}$, $x(t) = e^{\\lambda t} \\, x_0$\n",
                "- Behavior depends on $\\lambda$:\n",
                "  - Increasing exponentially if $\\lambda > 0$\n",
                "  - Decreasing exponentially if $\\lambda < 0$\n",
                "  - Constant if $\\lambda = 0$\n",
                "\n",
                "#### Case 2: $\\lambda$ is a Complex Eigenvalue of $A$\n",
                "\n",
                "- $\\lambda = \\lambda_R + i \\lambda_I$\n",
                "- $v = v_R + i v_I$\n",
                "- For any $x_0 \\in \\text{span}\\{v_R, v_I\\}$, the response involves complex exponentials (see Proposition 9.54).  \n",
                "\n",
                "<br>\n",
                "<p align=\"center\">\n",
                "  <img src=\"./data/HW08MatrixExponentialEigenvectors.png\" width=\"90%\">\n",
                "</p>\n",
                "<br>\n",
                "\n",
                "**Note:** Everything in equation (9.68) is a **real vector-valued function of time**. This can be verified by plotting $e^{At} v_R$ and $e^{At} v_I$.\n"
            ]
        },
        {
            "cell_type": "code",
            "execution_count": null,
            "id": "9kakditcti6eaukpnxb96q",
            "metadata": {
                "cellIdentifier": "9kakditcti6eaukpnxb96q",
                "nbgrader": {
                    "grade": false,
                    "locked": false,
                    "solution": false
                }
            },
            "outputs": [],
            "source": [
                "using LinearAlgebra, Plots\n",
                "\n",
                "\n",
                "println(\"Here are the eigenvalues and eigenvectors of A\")\n",
                "display(F)\n",
                "\n",
                "\n",
                "# Correctly handling trajectory calculations and plotting\n",
                "if norm(imag.(F.values)) < 1e-6\n",
                "    println(\"\\n For real eigenvectors, we use thenm directly as initial conditions \n",
                "    for dx/dt = Ax, x(t0) = x0\\n\\n\")\n",
                "    for k = 1:size(F.vectors, 2)\n",
                "        x0 = real(F.vectors[:, k])\n",
                "        println(\"\\nx0 is chosen as v$k, x0 = $x0\")\n",
                "        \n",
                "        traj = [exp(A*t[i])*x0 for i in eachindex(t)]  # Efficient matrix computation for each time point\n",
                "        traj = reduce(hcat, traj)  # Concatenating column-wise correctly\n",
                "        \n",
                "        plt = plot(t, traj', label=[\"Displacement (m)\" \"Velocity (m/s)\"], legend=:topright, \n",
                "            xlabel=\"Time (s)\", ylabel=\"State\", guidefont=15)\n",
                "        display(plt)\n",
                "    end\n",
                "else\n",
                "    println(\"\\n For complex eigenvectors, we use their real and imaginary parts \n",
                "    as initial conditions for dx/dt = Ax, x(t0) = x0\\n\\n\")\n",
                "    for i = 1:size(F.vectors, 2)\n",
                "        if i == 1\n",
                "            x0 = real(F.vectors[:, i])\n",
                "        else\n",
                "            x0 = imag(F.vectors[:, i])\n",
                "        end\n",
                "        println(\"\\nx0 = $x0\")\n",
                "        \n",
                "        traj = [exp(A*t[i])*x0 for i in eachindex(t)]  # Efficient matrix computation for each time point\n",
                "        traj = reduce(hcat, traj)  # Concatenating column-wise correctly\n",
                "        \n",
                "        plt = plot(t, traj', label=[\"Displacement (m)\" \"Velocity (m/s)\"], legend=:topright, \n",
                "            xlabel=\"Time (s)\", ylabel=\"State\", guidefont=15)\n",
                "        display(plt)\n",
                "    end\n",
                "end\n"
            ]
        },
        {
            "cell_type": "markdown",
            "id": "ttp8bl51pbs5jqsf2ybipc",
            "metadata": {
                "cellIdentifier": "ttp8bl51pbs5jqsf2ybipc",
                "nbgrader": {
                    "grade": false,
                    "locked": false,
                    "solution": false
                }
            },
            "source": [
                "Relating Solutions of $\\dot{x} = Ax$, $x(0)=x_0$ to Eigenvalues and Eigenvectors of $A$.\n",
                "\n"
            ]
        },
        {
            "cell_type": "code",
            "execution_count": null,
            "id": "r3w593jdcc9v7bw2hs9dya",
            "metadata": {
                "cellIdentifier": "r3w593jdcc9v7bw2hs9dya",
                "nbgrader": {
                    "grade": false,
                    "locked": false,
                    "solution": false
                }
            },
            "outputs": [],
            "source": [
                "# Run Me. Do NOT change me.\n",
                "\n",
                "using LinearAlgebra\n",
                "\n",
                "A = [-1.20765   -0.576936  -4.65319  -1.30087\n",
                " -5.11041    0.866501  -9.48172  -4.64823\n",
                "  0.841043  -0.389652  -1.39981   0.214517\n",
                " -1.12432    1.35583    4.62568  -0.259039]\n",
                "\n",
                "F = eigen(A)\n",
                "\n",
                "\n",
                "println(\"\\n Eigenvalues Follow \\n\")\n",
                "display(F.values)\n",
                "\n",
                "println(\"\\n Eigenvectors Follow, 1 through 4 \\n\")\n",
                "\n",
                "for i = 1:size(A,1)\n",
                "    display(F.vectors[:,i])\n",
                "end\n",
                "\n"
            ]
        },
        {
            "cell_type": "markdown",
            "id": "t13xoig0s88kyss1eo9gf",
            "metadata": {
                "cellIdentifier": "t13xoig0s88kyss1eo9gf",
                "nbgrader": {
                    "grade": false,
                    "locked": false,
                    "solution": false
                }
            },
            "source": [
                "\n",
                "## P.5B: Give an initial condition $x_0 \\in \\mathbb{R}^4$ such that the norm of the solution $e^{A t} \\cdot x_0$ converges to zero without oscillations\n",
                "\n",
                "### Notes\n",
                "- Norm of solution is $||e^{A t} \\cdot x_0|| $.\n",
                "- While your answers should be real vectors, if their imaginary part is zero (to numerical precision), our grading will still count you as correct. If you REALLY want to make sure your answer is a real vector, use the `real.()` and `imag.()` commands in Julia. It's totally optional. \n",
                "- If you are not using the eigenvectorrs, or parts of them in your solutions, then you are missing a crucial part of the problem.\n"
            ]
        },
        {
            "cell_type": "code",
            "execution_count": null,
            "id": "dw65zkorcivdi7tfejq3cl",
            "metadata": {
                "cellIdentifier": "dw65zkorcivdi7tfejq3cl",
                "nbgrader": {
                    "grade": false,
                    "locked": false,
                    "solution": false
                }
            },
            "outputs": [],
            "source": [
                "# x0 = \n",
                "\n",
                "### BEGIN SOLUTION \n",
                "\n",
                "x0 = F.vectors[:, 1]\n",
                "\n",
                "if false\n",
                "    # Here is  how JWG built the A matrix\n",
                "    Lambda = diagm([1, -1, -1+im, -1-im])\n",
                "    using Random\n",
                "    Random.seed!(123456)\n",
                "    M = randn(4,4)\n",
                "    display(M)\n",
                "    @show cond(M)\n",
                "    v1 = M[:,1]\n",
                "    v2 = M[:,2]\n",
                "    v3 = M[:,3] + im*M[:,4]\n",
                "    v4 = M[:,3] - im*M[:,4]\n",
                "    V = [v1 v2 v3 v4]\n",
                "    A = V * Lambda * inv(V)\n",
                "    display(A)\n",
                "    A = real.(A)\n",
                "end\n",
                "\n",
                "### END SOLUTION\n"
            ]
        },
        {
            "cell_type": "code",
            "execution_count": null,
            "id": "i2o7na72ryiw4i1uvr5joa",
            "metadata": {
                "cellIdentifier": "i2o7na72ryiw4i1uvr5joa",
                "nbgrader": {
                    "grade": false,
                    "locked": false,
                    "solution": false
                }
            },
            "outputs": [],
            "source": [
                "# Second way to do your own friendly check\n",
                "using Plots\n",
                "t = 0:0.01:5  # no need to collect, range itself can be operated on directly\n",
                "\n",
                "# Calculate norm of solutions using broadcasting and matrix operations\n",
                "norm_sol = [norm(exp(A * tk) * real.(x0)) for tk in t]\n",
                "\n",
                "plot(t, norm_sol, label=\"Norm of solution to dx/dt = Ax, x(0)=x0\", xlabel=\"t\", ylabel=\"||exp(A*t) x0||\")\n"
            ]
        },
        {
            "cell_type": "code",
            "execution_count": null,
            "id": "wcvlwk3iopgd9c7bp8x3vp",
            "metadata": {
                "cellIdentifier": "wcvlwk3iopgd9c7bp8x3vp",
                "deletable": false,
                "editable": false,
                "nbgrader": {
                    "grade": true,
                    "grade_id": "P05AA",
                    "locked": true,
                    "points": "1",
                    "solution": false
                }
            },
            "outputs": [],
            "source": [
                "#Grader Cell. 1 point\n",
                "### BEGIN HIDDEN TESTS\n",
                "@assert rank([x0 F.vectors[:, 1]], atol=1e-3) == 1\n",
                "### END HIDDEN TESTS"
            ]
        },
        {
            "cell_type": "markdown",
            "id": "4b1kvw3yl7b2vdjt53s9ak",
            "metadata": {
                "cellIdentifier": "4b1kvw3yl7b2vdjt53s9ak",
                "nbgrader": {
                    "grade": false,
                    "locked": false,
                    "solution": false
                }
            },
            "source": [
                "\n",
                "## P.5C: Give an initial condition $x_0 \\in \\mathbb{R}^4$ such that the norm of the solution $e^{A t} \\cdot x_0$ converges to zero with \"oscillations\" (not monotonic)\n",
                "\n",
                "**Note:** The norm can never be less than zero, so the term \"oscillations\" is at best approximate here, as illustrated in the image below. \n",
                "\n",
                "<br> \n",
                "<p align=\"center\">\n",
                "  <img src=\"./data/HW08NormSolutionDecayingExponentialWithSinusoid.png\", width=\"60%\">\n",
                "</p>\n",
                "<br>\n"
            ]
        },
        {
            "cell_type": "code",
            "execution_count": null,
            "id": "ptfde13ml9a478w7fklrdb",
            "metadata": {
                "cellIdentifier": "ptfde13ml9a478w7fklrdb",
                "nbgrader": {
                    "grade": false,
                    "locked": false,
                    "solution": false
                }
            },
            "outputs": [],
            "source": [
                "# x0 = \n",
                "\n",
                "### BEGIN SOLUTION \n",
                "\n",
                "x0 = real.(F.vectors[:,2])\n",
                "\n",
                "# using Plots\n",
                "# t = 0:0.01:5  # no need to collect, range itself can be operated on directly\n",
                "\n",
                "# # Calculate norm of solutions using broadcasting and matrix operations\n",
                "# norm_sol = [norm(exp(A * tk) * real.(x0)) for tk in t]\n",
                "\n",
                "# plot(t, norm_sol, label=\"Norm of solution to dx/dt = Ax, x(0)=x0\", xlabel=\"t\", ylabel=\"||exp(A*t) x0||\")\n",
                "\n",
                "### END SOLUTION\n",
                "\n",
                "\n"
            ]
        },
        {
            "cell_type": "code",
            "execution_count": null,
            "id": "jbaam508wssg8cpcf301",
            "metadata": {
                "cellIdentifier": "jbaam508wssg8cpcf301",
                "nbgrader": {
                    "grade": false,
                    "locked": false,
                    "solution": false
                }
            },
            "outputs": [],
            "source": [
                "# Do your own checking here\n",
                "\n"
            ]
        },
        {
            "cell_type": "code",
            "execution_count": null,
            "id": "qlibhl4o4bnxh1by59i4s",
            "metadata": {
                "cellIdentifier": "qlibhl4o4bnxh1by59i4s",
                "deletable": false,
                "editable": false,
                "nbgrader": {
                    "grade": true,
                    "grade_id": "P05BB",
                    "locked": true,
                    "points": "1",
                    "solution": false
                }
            },
            "outputs": [],
            "source": [
                "#Grader Cell. 1 point\n",
                "### BEGIN HIDDEN TESTS\n",
                "@assert norm(imag.(x0))<1e-4\n",
                "@assert rank([x0 F.vectors[:, 2:3]],  atol=1e-3) == 3\n",
                "### END HIDDEN TESTS"
            ]
        },
        {
            "cell_type": "markdown",
            "id": "93skbfszx44ouxovjb1ye",
            "metadata": {
                "cellIdentifier": "93skbfszx44ouxovjb1ye",
                "nbgrader": {
                    "grade": false,
                    "locked": false,
                    "solution": false
                }
            },
            "source": [
                "## P.5D: Give an initial condition $x_0 \\in \\mathbb{R}^4$ such that the norm of the solution $e^{A t} \\cdot x_0$ converges to infinity with NO oscillations "
            ]
        },
        {
            "cell_type": "code",
            "execution_count": null,
            "id": "s00jcknpp1ic61o3376ocw",
            "metadata": {
                "cellIdentifier": "s00jcknpp1ic61o3376ocw",
                "nbgrader": {
                    "grade": false,
                    "locked": false,
                    "solution": false
                }
            },
            "outputs": [],
            "source": [
                "# x0 = \n",
                "\n",
                "### BEGIN SOLUTION \n",
                "\n",
                "x0 = real.(F.vectors[:,4])\n",
                "\n",
                "# using Plots\n",
                "# t = 0:0.01:5  # no need to collect, range itself can be operated on directly\n",
                "\n",
                "# # Calculate norm of solutions using broadcasting and matrix operations\n",
                "# norm_sol = [norm(exp(A * tk) * real.(x0)) for tk in t]\n",
                "\n",
                "# plot(t, norm_sol, label=\"Norm of solution to dx/dt = Ax, x(0)=x0\", xlabel=\"t\", ylabel=\"||exp(A*t) x0||\")\n",
                "\n",
                "\n",
                "### END SOLUTION"
            ]
        },
        {
            "cell_type": "code",
            "execution_count": null,
            "id": "37v2i2r2pe5z2vm4bnntwg",
            "metadata": {
                "cellIdentifier": "37v2i2r2pe5z2vm4bnntwg",
                "nbgrader": {
                    "grade": false,
                    "locked": false,
                    "solution": false
                }
            },
            "outputs": [],
            "source": [
                "# Do your own checking here\n",
                "\n",
                "x0 = real.(F.vectors[:,4])"
            ]
        },
        {
            "cell_type": "code",
            "execution_count": null,
            "id": "3moucxw9k5xztpwf8m8dko",
            "metadata": {
                "cellIdentifier": "3moucxw9k5xztpwf8m8dko",
                "deletable": false,
                "editable": false,
                "nbgrader": {
                    "grade": true,
                    "grade_id": "P05CC",
                    "locked": true,
                    "points": "1",
                    "solution": false
                }
            },
            "outputs": [],
            "source": [
                "#Grader Cell. 1 point\n",
                "### BEGIN HIDDEN TESTS\n",
                "# It's still correct if x0 is a linear combination of the two real eigenvectors\n",
                "@assert rank([x0 F.vectors[:, [1,4]]],  atol=1e-3) == 2\n",
                "### END HIDDEN TESTS"
            ]
        },
        {
            "cell_type": "markdown",
            "id": "0f82933b",
            "metadata": {},
            "source": [
                "# Problem 6: Using Code to Solve  $\\dot{x}(t) = A \\cdot x(t), x(0) = x_0 \\in \\mathbb{R}^n$ via Laplace Transforms\n",
                "\n",
                "Or, how to compute $e^{At} \\cdot x_0$ in closed form. \n",
                "\n",
                "### Laplace Transform Setup\n",
                "\n",
                "The Laplace transform is a linear operation and extends naturally to vectors and matrices.  \n",
                "\n",
                "If we define\n",
                "$$\n",
                "X(s) = \\mathcal{L}\\{ x(t) \\} \n",
                "= \\begin{bmatrix} \n",
                "\\mathcal{L}\\{ x_1(t) \\}  \\\\ \n",
                "\\vdots \\\\ \n",
                "\\mathcal{L}\\{ x_n(t) \\} \n",
                "\\end{bmatrix},\n",
                "$$\n",
                "then\n",
                "$$\n",
                "\\begin{aligned}\n",
                "\\mathcal{L}\\{ \\dot{x}(t) \\} &= s X(s) - x(0^-) \\\\\n",
                "\\mathcal{L}\\{ A x(t) \\} &= A X(s).\n",
                "\\end{aligned}\n",
                "$$\n",
                "\n",
                "### Derivation\n",
                "\n",
                "$$\n",
                "\\begin{aligned}\n",
                "s X(s) - x(0^-) &= A X(s) \\\\\n",
                "\\Updownarrow \\\\\n",
                "(sI_n - A) X(s) &= x(0^-) \\\\\n",
                "\\Updownarrow \\\\\n",
                "X(s) &= (sI_n - A)^{-1} \\, x(0^-).\n",
                "\\end{aligned}\n",
                "$$\n",
                "\n",
                "Taking the inverse Laplace transform gives\n",
                "$$\n",
                "x(t) = \\mathcal{L}^{-1}\\{ X(s) \\} \n",
                "= \\mathcal{L}^{-1}\\{ (sI_n - A)^{-1} x(0^-) \\} \n",
                "= e^{At} \\, x_0.\n",
                "$$\n",
                "\n",
                "### Practical Note\n",
                "\n",
                "Doing this by hand is tedious even for $2 \\times 2$ systems. The textbook shows examples with **SymPy**, but beyond small systems SymPy struggles. That is why we provide you with a custom function:\n",
                "\n",
                "```julia\n",
                "F = Laplace(A, x0, s, t)   # in HW08_LaplaceTransformUtilities.jl\n",
                "```\n",
                "This function returns:\n",
                "  - `F.X_s` = X(s) is the vector of Laplace transforms\n",
                "  - `F.x_t` = x(t) = exp(At) x0 is the closed-form time-domain solution in three forms:\n",
                "    1. A vector of time functions\n",
                "    2. Each component separately as a function of $t$\n",
                "    3. A Julia function to evaluate $x(t)$ at a specific time or broadcast over a vector of times\n",
                "\n",
                "You will find the first two forms to be useful in your courses that use Laplace transforms, such as EECS 216, ME 360, EECS 460, and ME 461.\n",
                "\n",
                "### Unit Step Function\n",
                "\n",
                "SymPy uses $\\theta(t)$ to denote the unit step function: $$\\theta(t):= \\begin{cases} 1.0 & t > 0 \\\\\\\\ 0.0 & t < 0 \\\\\\\\ \\text{don't care} & t = 0\\end{cases} $$\n",
                "\n",
                "In this course we’ve been using $u_{\\text{stp}}(t)$. Mathematicians call this the **Heaviside function**.\n",
                "\n",
                "#### Example: Mass-Spring-Damper System\n",
                "\n",
                "We consider $\\dot{x} = A x$, with $x_0 \\in \\mathbb{R}^2$.\n",
                "\n",
                "```julia\n",
                "# Parameters\n",
                "m = 5.0   # Mass (kg)\n",
                "k = 2.0   # Spring constant (N/m)\n",
                "b = 3.0   # Damping coefficient (Ns/m)\n",
                "\n",
                "A = [0 1; -k/m -b/m]\n",
                "```\n",
                "\n",
                "---\n",
                "\n",
                "### Instructions\n",
                "\n",
                "1. Compute $X(s)$, the Laplace transform of the state vector\n",
                "2. Compute its inverse Laplace transform to obtain the closed-form solution of the ODE\n",
                "3. Build functions from the solution for evaluation and plotting\n",
                "\n",
                "**Note:** `SymPy` and `PyCall` allow Julia to use Python’s symbolic math library. The syntax looks like Python and is not standard Julia.\n"
            ]
        },
        {
            "cell_type": "code",
            "execution_count": null,
            "id": "r7xejuswg3jf4gi3arq6q",
            "metadata": {
                "cellIdentifier": "r7xejuswg3jf4gi3arq6q",
                "nbgrader": {
                    "grade": false,
                    "locked": false,
                    "solution": false
                }
            },
            "outputs": [],
            "source": [
                "using SymPy, PyCall, LinearAlgebra\n",
                "\n",
                "# Import Python's SymPy for using its inverse Laplace transform functionality\n",
                "sympy = pyimport(\"sympy\")\n",
                "\n",
                "# Define 's' as a complex symbol and 't' as a real symbol\n",
                "s = symbols(\"s\")\n",
                "t = symbols(\"t\", real=True)\n",
                "\n",
                "#Include custom functions developed by JWG\n",
                "include(\"HW08_LaplaceTransformUtilities.jl\")\n",
                "\n",
                "# Parameters for the mass spring damper system\n",
                "m = 5.0   # Mass in kg\n",
                "k = 2.0   # Spring constant in N/m\n",
                "b = 3.0   # Damping coefficient in Ns/m\n",
                "\n",
                "# Define the matrix A and initial condition vector x0 for the system dx/dt = Ax, x(0) = x0\n",
                "A = [0 1; -k/m -b/m]\n",
                "x0 = [1, 0]          # Change the initial conditions as desired\n",
                "\n",
                "# Use a custom function to compute the Laplace transform of the solution \n",
                "# vector X_s, and its inverse Laplace transform, x_t\n",
                "F = Laplace(A, x0, s, t)\n",
                "\n",
                "# Vector of Laplace Transforms\n",
                "X_s = F.X_s\n",
                "\n",
                "println(\"Laplace Transform\\n\")\n",
                "display(X_s)\n",
                "\n",
                "# Display each component of X_s\n",
                "println(\"Print each component in a more readable form: \\n\")\n",
                "for (i, comp) in enumerate(X_s)\n",
                "    println(\"Component $i of X_s: \", simplify(comp))\n",
                "end"
            ]
        },
        {
            "cell_type": "markdown",
            "id": "3tanly5qjnte45zet11a0n",
            "metadata": {
                "cellIdentifier": "3tanly5qjnte45zet11a0n",
                "nbgrader": {
                    "grade": false,
                    "locked": false,
                    "solution": false
                }
            },
            "source": [
                "We next extract and display the time-domain solution."
            ]
        },
        {
            "cell_type": "code",
            "execution_count": null,
            "id": "y4bswd3vb1msxcp3wr2nh",
            "metadata": {
                "cellIdentifier": "y4bswd3vb1msxcp3wr2nh",
                "nbgrader": {
                    "grade": false,
                    "locked": false,
                    "solution": false
                }
            },
            "outputs": [],
            "source": [
                "# Vector of time fuctions\n",
                "x_t = F.x_t\n",
                "println(\"\\nx(t): Inverse Laplace Transform as a Vector of Time Functions\\n\")\n",
                "display(x_t)\n",
                "\n",
                "# Display the inverse Laplace transform of each individual component\n",
                "println(\"\\n x(t): Inverse Laplace Transform one Component at a Time: \\n\")\n",
                "for (idx, solution) in enumerate(x_t)\n",
                "    println(\"Component $idx: $solution \\n\")\n",
                "    #display(cleanUpExpression(solution))\n",
                "end"
            ]
        },
        {
            "cell_type": "markdown",
            "id": "m4s7auws72lvr294pwufk",
            "metadata": {
                "cellIdentifier": "m4s7auws72lvr294pwufk",
                "nbgrader": {
                    "grade": false,
                    "locked": false,
                    "solution": false
                }
            },
            "source": [
                "In your engineering courses, it may be useful to copy and paste the \"text\" after each i-th-Component to create a function as shown below:"
            ]
        },
        {
            "cell_type": "code",
            "execution_count": null,
            "id": "3qoetxvr35bdbr1gf6qob",
            "metadata": {
                "cellIdentifier": "3qoetxvr35bdbr1gf6qob",
                "nbgrader": {
                    "grade": false,
                    "locked": false,
                    "solution": false
                }
            },
            "outputs": [],
            "source": [
                "import SymPy: Heaviside\n",
                "\n",
                "# Redefine the Heaviside function\n",
                "Heaviside(t) = t >= 0 ? 1.0 : 0.0 # same as our unit step function in lecture\n",
                "\n",
                "# x1(t) = \"copy and paste from the output of the above cell\"\n",
                "x1(t) =  (0.538815906080325*sin(0.556776436283002*t) + 1.0*cos(0.556776436283002*t))*exp(-0.3*t)*Heaviside(t)  \n",
                "\n",
                "# evaluate on a vector of points\n",
                "tValues = 0:0.1:25\n",
                "\n",
                "x1.(tValues) # use broadcasting"
            ]
        },
        {
            "cell_type": "markdown",
            "id": "5tjkpd1x4rxqrg9sz6r0lq",
            "metadata": {
                "cellIdentifier": "5tjkpd1x4rxqrg9sz6r0lq",
                "nbgrader": {
                    "grade": false,
                    "locked": false,
                    "solution": false
                }
            },
            "source": [
                "As an alternative, we have created a custom function that transforms the entire vector of time functions ```x_t``` into a Julia function as illustrated next.\n",
                "\n",
                "**Notes:** If all you need is the solution evaluated at a vector of points, then solving the ODE via `DifferntialEqualtions.jl` is more efficient. The function ``mySolution`` is useful if you want to make a plot to go along with your closed-form solution, x_t "
            ]
        },
        {
            "cell_type": "code",
            "execution_count": null,
            "id": "iwaq406bueb9qsf2d92dc",
            "metadata": {
                "cellIdentifier": "iwaq406bueb9qsf2d92dc",
                "nbgrader": {
                    "grade": false,
                    "locked": false,
                    "solution": false
                }
            },
            "outputs": [],
            "source": [
                "#Include custom functions developped by JWG\n",
                "include(\"HW08_LaplaceTransformUtilities.jl\")"
            ]
        },
        {
            "cell_type": "code",
            "execution_count": null,
            "id": "8lqvt5atk6tfr7xtwy3g8k",
            "metadata": {
                "cellIdentifier": "8lqvt5atk6tfr7xtwy3g8k",
                "nbgrader": {
                    "grade": false,
                    "locked": false,
                    "solution": false
                }
            },
            "outputs": [],
            "source": [
                "# Example of transforming x_t into a Julia function named mySolution\n",
                "# You can name the function anything you want.\n",
                "# Here, we called it mySolution\n",
                "#\n",
                "mySolution = mySolutionFactory(x_t)\n",
                "\n",
                "# Example usage: Evaluate the solution at a range of times\n",
                "tValues = 0:0.1:25\n",
                "\n",
                "println(\"Each row is a solution component evaluated on tValues\")\n",
                "solution_matrix = mySolution(tValues)\n",
                "display(solution_matrix)\n",
                "\n",
                "using Plots, LaTeXStrings\n",
                "x_1 = solution_matrix[1, :]\n",
                "plot(tValues, x_1, lw=2, color=:blue, xlabel=\"t (sec)\", ylabel=L\"x_1(t)\", legend=false)"
            ]
        },
        {
            "cell_type": "markdown",
            "id": "yvu8etaqsp1774ncqoxr1",
            "metadata": {
                "cellIdentifier": "yvu8etaqsp1774ncqoxr1",
                "nbgrader": {
                    "grade": false,
                    "locked": false,
                    "solution": false
                }
            },
            "source": [
                "## P.6A: For the linear ODE, $ \\dot{x} = A x,  x(0)=x_0,$ compute the laplace transformation of $e^{At} \\cdot x_0$ \n",
                "\n",
                "Given: \n",
                "\n",
                "```julia\n",
                "A = [-0.283447   2.32283    0.302781   -2.85082\n",
                "  0.163857  -0.642933  -0.228616   -0.596354\n",
                " -1.01479    1.38138    0.0542474  -0.302595\n",
                " -0.345692   0.661838   0.769124   -1.12787]\n",
                "\n",
                "F = eigen(A)\n",
                "\n",
                "x0 = real(F.vectors[:,2])\n",
                "```\n",
                "\n",
                "You are to find $X(s) = (s I - A)^{-1} \\cdot x0$. Follow the process used for the mass-spring-damper ODE."
            ]
        },
        {
            "cell_type": "code",
            "execution_count": null,
            "id": "ngkq1ly66m5f3l1wz5cdb",
            "metadata": {
                "cellIdentifier": "ngkq1ly66m5f3l1wz5cdb",
                "nbgrader": {
                    "grade": false,
                    "locked": false,
                    "solution": false
                }
            },
            "outputs": [],
            "source": [
                "# X_s = ??\n",
                "\n",
                "\n",
                "### BEGIN SOLUTION \n",
                "using SymPy, PyCall, LinearAlgebra\n",
                "\n",
                "# Import Python's SymPy for using its inverse Laplace transform functionality\n",
                "sympy = pyimport(\"sympy\")\n",
                "\n",
                "# Define 's' as a complex symbol and 't' as a real symbol\n",
                "s = symbols(\"s\")\n",
                "t = symbols(\"t\", real=True)\n",
                "\n",
                "A = [-1.20765   -0.576936  -4.65319  -1.30087\n",
                " -5.11041    0.866501  -9.48172  -4.64823\n",
                "  0.841043  -0.389652  -1.39981   0.214517\n",
                " -1.12432    1.35583    4.62568  -0.259039]\n",
                "\n",
                "\n",
                "F = eigen(A)\n",
                "x0 = real(F.vectors[:,2])\n",
                "\n",
                "#Include custom functions developped by JWG\n",
                "include(\"HW08_LaplaceTransformUtilities.jl\")\n",
                "\n",
                "\n",
                "# Compute the Laplace transform of the solution vector, X_s\n",
                "# Compute the Laplace transform of the solution vector, X_s, and its inverse Laplace transform, x_t\n",
                "F = Laplace(A, x0, s, t)\n",
                "\n",
                "X_s = F.X_s\n",
                "println(\"Laplace Transform\")\n",
                "display(X_s)\n",
                "### END SOLUTION\n",
                "\n",
                "println(\"\\nFirst component of the Laplace transform\")\n",
                "println(X_s[1])"
            ]
        },
        {
            "cell_type": "markdown",
            "id": "yc18fgx3nflol1vs7lwva",
            "metadata": {
                "cellIdentifier": "yc18fgx3nflol1vs7lwva",
                "nbgrader": {
                    "grade": false,
                    "locked": false,
                    "solution": false
                }
            },
            "source": [
                "> ### Friendly Check\n",
                "> \n",
                "> After a bit of rounding,\n",
                "> \n",
                "> ```julia\n",
                "> X_s[1] = (-0.7553*s - 0.7553)/(1.0*s^2 + 2.0000*s + 2.0000)\n",
                "> ```\n",
                "> \n",
                "> The four denominators are the same."
            ]
        },
        {
            "cell_type": "code",
            "execution_count": null,
            "id": "2v7z0oykck62gydps34z19",
            "metadata": {
                "cellIdentifier": "2v7z0oykck62gydps34z19",
                "deletable": false,
                "editable": false,
                "nbgrader": {
                    "grade": true,
                    "grade_id": "P06A",
                    "locked": true,
                    "points": "1",
                    "solution": false
                }
            },
            "outputs": [],
            "source": [
                "#Grader Cell. 1 point\n",
                "### BEGIN HIDDEN TESTS\n",
                "num = sympy.numer(X_s[1])\n",
                "# Convert numerator to polynomial and get its coefficients\n",
                "num_poly = sympy.Poly(num, s)\n",
                "coeffs = num_poly.coeffs()\n",
                "#print(coeffs)\n",
                "Answer = Sym[-0.755346574801414, -0.755347040065316]\n",
                "@assert(sum(abs.(coeffs - Answer)) < 1e-3)\n",
                "### END HIDDEN TESTS"
            ]
        },
        {
            "cell_type": "markdown",
            "id": "fm0qt71lrmob6xv1nxoaxl",
            "metadata": {
                "cellIdentifier": "fm0qt71lrmob6xv1nxoaxl",
                "nbgrader": {
                    "grade": false,
                    "locked": false,
                    "solution": false
                }
            },
            "source": [
                "## P.6B: Compute a closed-form solution to $ \\dot{x} = A x,~~x(0)=x_0$\n",
                "\n",
                "Given:\n",
                "```julia\n",
                "A = [-1.20765   -0.576936  -4.65319  -1.30087\n",
                " -5.11041    0.866501  -9.48172  -4.64823\n",
                "  0.841043  -0.389652  -1.39981   0.214517\n",
                " -1.12432    1.35583    4.62568  -0.259039]\n",
                "\n",
                "F = eigen(A)\n",
                "\n",
                "x0 = real(F.vectors[:,2])\n",
                "```\n",
                "\n",
                "You are to find x_t. If you have computed x_t in the previous problem, then this part can be one line."
            ]
        },
        {
            "cell_type": "code",
            "execution_count": null,
            "id": "0qjwdcaqeczip0tli7a4br",
            "metadata": {
                "cellIdentifier": "0qjwdcaqeczip0tli7a4br",
                "nbgrader": {
                    "grade": false,
                    "locked": false,
                    "solution": false
                }
            },
            "outputs": [],
            "source": [
                "\n",
                "# x_t =  ??\n",
                "\n",
                "### BEGIN SOLUTION \n",
                "\n",
                "using SymPy, PyCall, LinearAlgebra\n",
                "# Import Python's SymPy for using its inverse Laplace transform functionality\n",
                "sympy = pyimport(\"sympy\")\n",
                "\n",
                "#Include custom functions developped by JWG\n",
                "include(\"HW08_LaplaceTransformUtilities.jl\")\n",
                "\n",
                "\n",
                "# Define 's' as a complex symbol and 't' as a real symbol\n",
                "s = symbols(\"s\")\n",
                "t = symbols(\"t\", real=True)\n",
                "\n",
                "A = [-1.20765   -0.576936  -4.65319  -1.30087\n",
                " -5.11041    0.866501  -9.48172  -4.64823\n",
                "  0.841043  -0.389652  -1.39981   0.214517\n",
                " -1.12432    1.35583    4.62568  -0.259039]\n",
                "\n",
                "\n",
                "F = eigen(A)\n",
                "display(F.values)\n",
                "\n",
                "x0 = real.(F.vectors[:,2]) \n",
                "\n",
                "F = Laplace(A, x0, s, t)\n",
                "\n",
                "x_t = F.x_t\n",
                "\n",
                "\n",
                "### END SOLUTION\n",
                "\n",
                "# Assumes you have called your answer x_t\n",
                "x_t = simplify(x_t)\n",
                "# Display the inverse Laplace transform of each individual component\n",
                "println(\"\\n x(t): Inverse Laplace Transform one Component at a Time: \\n\")\n",
                "for (idx, solution) in enumerate(x_t)\n",
                "    println(\"Component $idx: $solution \\n\")\n",
                "    #display(solution)\n",
                "end"
            ]
        },
        {
            "cell_type": "markdown",
            "id": "sooqbvwxxlg4sq770otwu",
            "metadata": {
                "cellIdentifier": "sooqbvwxxlg4sq770otwu",
                "nbgrader": {
                    "grade": false,
                    "locked": false,
                    "solution": false
                }
            },
            "source": [
                "> ### Friendly Check\n",
                "> \n",
                "> After a bit of rounding\n",
                "> \n",
                "> ```julia\n",
                "> Component 1: -0.7553*exp(-1.0000*t)*cos(1.0000*t)*Heaviside(t) \n",
                "> \n",
                "> Component 4: -(0.1236*sin(1.0000*t) + 0.2977*cos(1.0000*t))*exp(-1.0000*t)*Heaviside(t) \n",
                "> \n",
                "> # Note: 0.297677875141958 rounds to 0.2977\n",
                "> ```\n"
            ]
        },
        {
            "cell_type": "code",
            "execution_count": null,
            "id": "g6xbu9544lnvfnq4gvaapi",
            "metadata": {
                "cellIdentifier": "g6xbu9544lnvfnq4gvaapi",
                "deletable": false,
                "editable": false,
                "nbgrader": {
                    "grade": true,
                    "grade_id": "P06B",
                    "locked": true,
                    "points": "1",
                    "solution": false
                }
            },
            "outputs": [],
            "source": [
                "#Grader Cell. 1 point\n",
                "### BEGIN HIDDEN TESTS\n",
                "mySolutionProb6B = mySolutionFactory(x_t)\n",
                "print(mySolutionProb6B(1))\n",
                "Answer = [-0.1501369220494081; 0.03024350815079123; -0.021840070087866467; -0.09743466868040462]\n",
                "@assert(norm(mySolutionProb6B(1) -Answer) < 1e-3)\n",
                "### END HIDDEN TESTS"
            ]
        },
        {
            "cell_type": "markdown",
            "id": "3qngk0i5rmwgne5sdd40ed",
            "metadata": {
                "cellIdentifier": "3qngk0i5rmwgne5sdd40ed",
                "nbgrader": {
                    "grade": false,
                    "locked": false,
                    "solution": false
                }
            },
            "source": [
                "# Problem 7: Return of the Mass-Spring-Damper\n",
                "\n",
                "For the Linear ODE, $ \\dot{x} = A x$, compute the matrix exponential $e^{At}$ in closed form.\n",
                "\n",
                "<br>\n",
                "<p align=\"center\">\n",
                "  <img src=\"./data/HW08MassSpringDamper.png\", width=\"40%\">\n",
                "</p>\n",
                "<br>\n",
                "\n",
                "$$\n",
                "\\left[ \\begin{array}{c} \\dot{x}_1  \\\\\\\\ \\dot{x}_2 \\end{array} \\right] = \\left[ \\begin{array}{cc} 0 & 1\\\\\\\\- \\frac{k}{m} & -\\frac{b}{m} \\end{array}\\right] \\left[ \\begin{array}{c} x_1  \\\\\\ x_2 \\end{array}\\right],\n",
                "$$\n",
                "\n",
                "Given:\n",
                "```julia\n",
                "# Parameters\n",
                "m = 5.0   # Mass in kg\n",
                "k = 2.0   # Spring constant in N/m\n",
                "b = 3.0   # Damping coefficient in Ns/m\n",
                "\n",
                "A = [0 1; -k/m -b/m]\n",
                "```\n",
                "\n",
                "You are to find $e^{At}$ in closed form. Call you answer `expAt`.\n",
                "\n",
                "**Hint:** With the tools you have been given, you can compute it column by column."
            ]
        },
        {
            "cell_type": "code",
            "execution_count": null,
            "id": "n7ka7salotd10rfd99l7",
            "metadata": {
                "cellIdentifier": "n7ka7salotd10rfd99l7",
                "nbgrader": {
                    "grade": false,
                    "locked": false,
                    "solution": false
                }
            },
            "outputs": [],
            "source": [
                "\n",
                "# expAt =  ?? $ should be a 2 x 2 matrix of time functions\n",
                "\n",
                "\n",
                "### BEGIN SOLUTION \n",
                "\n",
                "using SymPy, PyCall, LinearAlgebra\n",
                "# Import Python's SymPy for using its inverse Laplace transform functionality\n",
                "sympy = pyimport(\"sympy\")\n",
                "\n",
                "#Include custom functions developped by JWG\n",
                "include(\"HW08_LaplaceTransformUtilities.jl\")\n",
                "\n",
                "\n",
                "# Define 's' as a complex symbol and 't' as a real symbol\n",
                "s = symbols(\"s\")\n",
                "t = symbols(\"t\", real=True)\n",
                "\n",
                "# A matrix\n",
                "m = 5.0   # Mass in kg\n",
                "k = 2.0   # Spring constant in N/m\n",
                "b = 3.0   # Damping coefficient in Ns/m\n",
                "A = [0 1; -k/m -b/m]\n",
                "\n",
                "# Define the identity matrix and initialize expAt\n",
                "n, m = size(A)\n",
                "myI = I(n)\n",
                "\n",
                "expAt = Sym[Sym(\"f_$(i)_$(j)(t)\") for i in 1:n, j in 1:n]\n",
                "#display(expAt)\n",
                "\n",
                "\n",
                "for k = 1:n\n",
                "    x0 = myI[:,k]\n",
                "    F = Laplace(A, x0, s, t)\n",
                "    expAt[:, k] = F.x_t\n",
                "end\n",
                "\n",
                "\n",
                "### END SOLUTION\n",
                "println(\"\\n\\n expAt[1,2] =\", expAt[1,2], \"\\n\\n\")\n",
                "display(expAt)"
            ]
        },
        {
            "cell_type": "markdown",
            "id": "guvtp2ydj9ktcpivcshaxf",
            "metadata": {
                "cellIdentifier": "guvtp2ydj9ktcpivcshaxf",
                "nbgrader": {
                    "grade": false,
                    "locked": false,
                    "solution": false
                }
            },
            "source": [
                "> ## Friendly Check: \n",
                "> \n",
                "> $e^{At}\\big|_{t=0} = I$\n",
                ">\n",
                "> ```julia\n",
                "> expAt[1,2] = 1.796*exp(-0.3*t)*sin(0.557*t)*Heaviside(t) # After some rounding \n",
                "> ```\n",
                "\n"
            ]
        },
        {
            "cell_type": "code",
            "execution_count": null,
            "id": "cyc4frwjj3asmidyku33zn",
            "metadata": {
                "cellIdentifier": "cyc4frwjj3asmidyku33zn",
                "deletable": false,
                "editable": false,
                "nbgrader": {
                    "grade": true,
                    "grade_id": "P07",
                    "locked": true,
                    "points": "1",
                    "solution": false
                }
            },
            "outputs": [],
            "source": [
                "#Grader Cell. 1 point\n",
                "### BEGIN HIDDEN TESTS\n",
                "mySolutionProb7 = mySolutionFactory(expAt)\n",
                "#print(mySolutionProb7(1))\n",
                "Answer = [0.8398667301464158; -0.2812526097708068; 0.7031315244270181; 0.4179878154902049]\n",
                "@assert(norm(mySolutionProb7(1) - Answer) < 1e-3)\n",
                "### END HIDDEN TESTS"
            ]
        },
        {
            "cell_type": "markdown",
            "id": "j3yht3vzqtemmy2csez57o",
            "metadata": {
                "cellIdentifier": "j3yht3vzqtemmy2csez57o",
                "nbgrader": {
                    "grade": false,
                    "locked": false,
                    "solution": false
                }
            },
            "source": [
                "<p align=\"center\">\n",
                "  <img src=\"./data/HW08FuturisticClassRoomMarch2025.png\", width=\"70%\">\n",
                "</p>\n"
            ]
        },
        {
            "attachments": {},
            "cell_type": "markdown",
            "id": "n4m2vwt5nwh8x50ndbfvcj",
            "metadata": {
                "cellIdentifier": "n4m2vwt5nwh8x50ndbfvcj",
                "nbgrader": {
                    "grade": false,
                    "locked": false,
                    "solution": false
                },
                "vocVersion": "1.1"
            },
            "source": [
                "# Extra: Improved Means to Compute exp(At)"
            ]
        },
        {
            "cell_type": "code",
            "execution_count": null,
            "id": "vgr47nl68jhaqm42k3k7t",
            "metadata": {
                "cellIdentifier": "vgr47nl68jhaqm42k3k7t",
                "nbgrader": {
                    "grade": false,
                    "locked": false,
                    "solution": false
                },
                "vocVersion": "1.1"
            },
            "outputs": [],
            "source": [
                "#=\n",
                "Main script to solve a linear ODE system dx/dt = Ax, x(0) = x0\n",
                "using the real basis eigenvalue method implemented in the utility file.\n",
                "\n",
                "You have a choice of a mass-spring-damper system or \n",
                "a randomly selected 12 dimensional model\n",
                "=#\n",
                "\n",
                "example = \"massSpringDamper\" \n",
                "\n",
                "example = \"alternative\"\n",
                "Nsize = 8 # size of alternative random example\n",
                "\n",
                "using SymPy       # For symbolic math\n",
                "using PyCall      # To interact with Python's SymPy\n",
                "using LinearAlgebra # For matrix operations etc.\n",
                "\n",
                "# Import Python's SymPy via PyCall (optional if not used directly elsewhere)\n",
                "# sympy = pyimport(\"sympy\")\n",
                "\n",
                "# Define symbolic variable for time 't'\n",
                "# Ensure real=True for exp, sin, cos to work correctly in symbolic results\n",
                "t = SymPy.symbols(\"t\", real=True)\n",
                "# Laplace variable 's' is NOT needed for this method\n",
                "\n",
                "# \n",
                "include(\"RealBasisMatrixExponentialUtilities.jl\")\n",
                "\n",
                "\n",
                "# --- Problem Definition ---\n",
                "# Parameters for the mass-spring-damper system (Example)\n",
                "m = 5.0   # Mass (kg)\n",
                "k = 2.0   # Spring constant (N/m)\n",
                "b = 3.0   # Damping coefficient (Ns/m)\n",
                "\n",
                "if example == \"massSpringDamper\"\n",
                "    # Define the system matrix A for dx/dt = Ax\n",
                "    # (State variables: x = [position; velocity])\n",
                "    A = [0.0 1.0; -k/m -b/m]\n",
                "\n",
                "    # Define the initial condition vector x(0) = x0\n",
                "    x0 = [1.0, 0.0] # Example: Initial position = 1, Initial velocity = 0\n",
                "else\n",
                "    A = randn(Nsize,Nsize)\n",
                "    x0 = randn(Nsize)\n",
                "end\n",
                "\n",
                "println(\"System Matrix A:\")\n",
                "display(A)\n",
                "println(\"\\nInitial Condition x0:\")\n",
                "display(x0)\n",
                "\n",
                "println(\"\\nEigenvalues and Eigenvectors\")\n",
                "F = eigen(A)\n",
                "display(F)\n",
                "\n",
                "# --- Solve the ODE System ---\n",
                "# Call the solver function (note: only 't' is passed, not 's')\n",
                "solution = solve_ode_real_basis(A, x0, t)\n",
                "\n",
                "# --- Display Results ---\n",
                "# Check if the solution was successful (solver returns NamedTuple or nothing)\n",
                "if !isnothing(solution)\n",
                "    # Unpack the result - ONLY 'x_t' is returned by this solver\n",
                "    x_t = solution.x_t\n",
                "\n",
                "    # --- Display Time Domain Solution x(t) ---\n",
                "    println(\"\\n--- Time Domain Solution x(t) ---\")\n",
                "    println(\"Vector x(t):\")\n",
                "    display(x_t) # Displays the symbolic vector solution\n",
                "\n",
                "    println(\"\\nComponents of x(t): \\n\")\n",
                "    for (idx, sol_comp) in enumerate(x_t)\n",
                "        println(\"Component $idx: \", sol_comp, \"\\n\")\n",
                "    end\n",
                "\n",
                "else\n",
                "    # Message if the solver function returned 'nothing'\n",
                "    println(\"\\nFailed to solve the ODE system using the real basis method.\")\n",
                "end"
            ]
        },
        {
            "cell_type": "markdown",
            "id": "7062c974",
            "metadata": {},
            "source": [
                "<p align=\"center\" style=\"font-size:48px;\"><strong>The End! </strong></p>"
            ]
        }
    ],
    "metadata": {
        "@webio": {
            "lastCommId": null,
            "lastKernelId": null
        },
        "kernel_id": "4c3af116-4b12-4f18-bfc7-3a07bfa40117",
        "kernelspec": {
            "display_name": "Julia 1.11.6",
            "language": "julia",
            "name": "julia-1.11"
        },
        "language_info": {
            "file_extension": ".jl",
            "mimetype": "application/julia",
            "name": "julia",
            "version": "1.11.6"
        }
    },
    "nbformat": 4,
    "nbformat_minor": 5
}
