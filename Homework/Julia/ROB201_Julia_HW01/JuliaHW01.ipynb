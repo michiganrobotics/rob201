{
    "cells": [
        {
            "cell_type": "markdown",
            "metadata": {},
            "source": [
                "University of Michigan - ROB 201 Calculus for the Modern Engineer\n",
                "\n",
                "---\n"
            ]
        },
        {
            "cell_type": "markdown",
            "metadata": {
                "cellIdentifier": "c6p7ukh5ij8q3fyq0kzlwi",
                "nbgrader": {
                    "grade": false,
                    "locked": false,
                    "solution": false
                }
            },
            "source": [
                "# Julia HW01: Chapters 1–2.5\n",
                "\n",
                "### Topics Covered\n",
                "- Julia Refresher\n",
                "- Injective and Surjective Functions\n",
                "- The Bisection Algorithm\n",
                "- The Approximation Principle\n",
                "- Feedback Control of a 3-Link Manipulator\n",
                "\n",
                "<br>\n",
                "\n",
                "<p align=\"center\">\n",
                "  <img src=\"data/HW01WordSaladImageSmall.png\" width=\"40%\">\n",
                "</p>\n",
                "\n",
                "<h6><a href=\"https://medium.com/@n4l2/pre-calculus-a-bridge-to-calculus-and-beyond-95b0f4560e7e\" target=\"_blank\">Image credit: [Pre-calculus: A Bridge to Calculus and Beyond]</a></h6>\n",
                "\n"
            ]
        },
        {
            "cell_type": "markdown",
            "metadata": {
                "cellIdentifier": "bq8vrxzhy5b7kzwsyufsce",
                "nbgrader": {
                    "grade": false,
                    "locked": false,
                    "solution": false
                }
            },
            "source": [
                "# Problem 1: Refresher on Notation & Math in Julia\n",
                "\n",
                "In the code boxes below, you will find a summary of how to use Julia to perform operations on numbers and create CUSTOM mathematical functions.\n",
                "\n",
                "<h6><a href=\"https://docs.julialang.org/en/v1/manual/mathematical-operations/\" target=\"_blank\">A more in depth compilation of Julia operations is available here.</a></h6>\n",
                "\n",
                "\n"
            ]
        },
        {
            "cell_type": "code",
            "execution_count": null,
            "metadata": {
                "cellIdentifier": "yo9mbp9tktgz1lewap4xce"
            },
            "outputs": [],
            "source": [
                "# Run me. I show some common mathematical operations in Julia:\n",
                "\n",
                "println(\"4 + 2 = \", 4 + 2)\n",
                "println(\"4 - 2 = \", 4 - 2)\n",
                "\n",
                "println(\"4 * 2 = \", 4 * 2)\n",
                "println(\"4 / 2 = \", 4 / 2)\n",
                "\n",
                "println(\"e ^ 2 = \", ℯ ^ 2) # you can get euler's constant by typing \\euler tab\n",
                "                          # or you can use e=exp(1)\n",
                "\n",
                "println(\"log(e) = \", log(ℯ)) #natural log aka base-e log\n",
                "println(\"log10(e) = \", log10(ℯ)) #base-10 log\n",
                "\n",
                "println(\"sqrt(4) = \", sqrt(4)) # also, 4^0.5\n",
                "\n",
                "println(\"sin(pi) = \", sin(pi)) # Assumes radians\n",
                "println(\"cos(π) = \", cos(π)) # You can obtain the pi symbol by typing\n",
                "println(\"tan(pi) = \", tan(pi)) # \\pi tab"
            ]
        },
        {
            "cell_type": "markdown",
            "metadata": {
                "cellIdentifier": "j67e2y2zvhi4hydwpg8u"
            },
            "source": [
                "## You Can Create Functions Two Ways in Julia\n",
                "Julia allows you to define custom functions in multiple ways, offering flexibility in how you write and organize your code. Below are two commonly used methods:\n",
                "\n",
                "### a) Inline (or One-liner) Function Definition\n",
                "\n",
                "Inline function definitions provide a concise way to create functions for simple operations. This method is especially useful for short expressions. The syntax includes the function name, argument(s), an equals sign, and the return expression.\n",
                "\n",
                "**Example:**\n",
                "\n",
                "```julia\n",
                "f(x) = x^2 * sin(x)\n",
                "```\n",
                "\n",
                "This defines a function `f` that takes one argument `x` and returns the value of `x^2 * sin(x)`. Inline functions are great for simple calculations but can be less readable for complex expressions.\n",
                "\n",
                "### b) Using the `function` Keyword\n",
                "\n",
                "For more complex functions or when you need more readability and structure (e.g., multiple lines, loops, conditionals), you can use the `function` keyword. This method allows for the function body to span multiple lines between `function` and `end` keywords.\n",
                "\n",
                "**Example:**\n",
                "\n",
                "```julia\n",
                "function myFun(x)\n",
                "    y = x^2\n",
                "    z = sin(y) + cos(x)\n",
                "    return z\n",
                "end\n",
                "```\n",
                "\n",
                "This defines a function `myFun` that takes an argument `x`, performs intermediate calculations, and returns the result `z`. The `function` keyword is recommended when your logic doesn't fit neatly on a single line.\n",
                "\n",
                "Both methods are equally valid in Julia, and the choice between them usually depends on the complexity of the function you're defining and your personal preferences."
            ]
        },
        {
            "cell_type": "markdown",
            "metadata": {
                "cellIdentifier": "10cstly4fpdh46brfjsvpu"
            },
            "source": [
                "## P.1A\n",
                "\n",
                "**Living your best Babylonian life!** Write a function `g(x)` from the following textual description: \n",
                ">The function g is equal to the square root of five times the sum of x and the sine of x, all divided by three times x."
            ]
        },
        {
            "cell_type": "code",
            "execution_count": null,
            "metadata": {
                "cellIdentifier": "ulbi8ln25p15ixjxmd0ig"
            },
            "outputs": [],
            "source": [
                "# g(x) = \n",
                "\n",
                "###\n",
                "### YOUR CODE HERE\n",
                "###"
            ]
        },
        {
            "cell_type": "code",
            "execution_count": null,
            "metadata": {
                "cellIdentifier": "4lrwm1kex0pk4153z0y"
            },
            "outputs": [],
            "source": [
                "#= Friendly check =#\n",
                "test = g(π/4)\n",
                "# if the value of is_it_correct_checkN is \"Yes\", then your answer is LIKELY correct. \n",
                "# If the value of is_it_correct_checkN is \"No\", then your answer is DEFINITELY wrong\n",
                "\n",
                "is_it_correct_check1a = abs(test - 1.15939) < 1e-2 ? \"Yes\" : \"No\"\n",
                "if is_it_correct_check1a == \"No\" && abs(test - 1.77966) < 1e-2 \n",
                "    println(\"Move the two times x OUTSIDE the square root. Now you see why we like formulas!\")\n",
                "elseif is_it_correct_check1a == \"No\"\n",
                "    println(\"Not sure where you went wrong! Try again to channel your inner-Babylonian, and\n",
                "        after that, get help from ChatGPT. It may be better at thinking in Babylonian!\")\n",
                "end\n",
                "@show is_it_correct_check1a\n"
            ]
        },
        {
            "cell_type": "markdown",
            "metadata": {
                "cellIdentifier": "2uwx7jw8mgrnxslvvpfz8h"
            },
            "source": [
                "## P.1B\n",
                "\n",
                "In a vector `fValues`, provide the value of `f(x)` at each of the following values of $x$:  \n",
                "$$\n",
                "f(x) = \\dfrac{3x+2}{3x-2} \\text{ , }\n",
                "\\{x \\in \\texttt{Z | } 10 \\le x < 15\\}\n",
                "$$\n",
                "\n",
                "**Hint:** Review Chapter 1 for mathematical notation."
            ]
        },
        {
            "cell_type": "code",
            "execution_count": null,
            "metadata": {
                "cellIdentifier": "xux4q39k8s5bsu09m3cno",
                "nbgrader": {
                    "grade": false,
                    "locked": false,
                    "solution": false
                }
            },
            "outputs": [],
            "source": [
                "f(x) = (3x+2)/(3x-2)\n",
                "\n",
                "# Uncomment and fill in the values so as to create a COLUMN vector\n",
                "#fValues = [ ]\n",
                "\n",
                "### \n",
                "### YOUR CODE HERE\n",
                "###"
            ]
        },
        {
            "cell_type": "code",
            "execution_count": null,
            "metadata": {
                "cellIdentifier": "o6pzphvgsyqok3z2xr6j6n"
            },
            "outputs": [],
            "source": [
                "#= Friendly check =#\n",
                "if fValues isa Vector\n",
                "    println(\"You properly formatted gValues as a vector in Julia.\")\n",
                "else\n",
                "    println(\"You need to use semicolons or commas to separate values and not spaces \n",
                "        when creating a (column) vector in Julia. Your current answer may\n",
                "        fail following check.\")\n",
                "end\n",
                "\n",
                "fValuesAns = sort([1.1428571428571428; 1.1290322580645162; 1.1176470588235294; 1.1081081081081081; 1.1])\n",
                "fValues = sort(fValues)\n",
                "\n",
                "is_it_correct_check1b = sum(abs.(fValues-fValuesAns)) < 1e-3 ? \"Yes\" : \"No\"\n",
                "\n",
                "@show is_it_correct_check1b"
            ]
        },
        {
            "cell_type": "markdown",
            "metadata": {
                "cellIdentifier": "9r84fb3cl9d4wxuyd638vh"
            },
            "source": [
                "## P.1C\n",
                "\n",
                "Create a function `h(x)` that evaluates\n",
                "\n",
                "```julia\n",
                "w = cos(x^3 + x + 6)\n",
                "e = exp(1)\n",
                "y = e^tan(x^2)\n",
                "z = (w - 6)/ (y^2 - 2y -7)\n",
                "```\n",
                "\n",
                "and returns `z`.\n",
                "\n",
                "**Note:** You can copy the above code."
            ]
        },
        {
            "cell_type": "code",
            "execution_count": null,
            "metadata": {
                "cellIdentifier": "ildou6dicvbub3vuu4pz4g"
            },
            "outputs": [],
            "source": [
                "# build your function here and call it h(x)\n",
                "\n",
                "###\n",
                "### YOUR CODE HERE\n",
                "###"
            ]
        },
        {
            "cell_type": "code",
            "execution_count": null,
            "metadata": {
                "cellIdentifier": "9f7v2bjney5y4496bm813"
            },
            "outputs": [],
            "source": [
                "#= Friendly check =#\n",
                "\n",
                "# if the value of is_it_correct_checkN is \"Yes\", then your answer is LIKELY correct. \n",
                "# If the value of is_it_correct_checkN is \"No\", then your answer is DEFINITELY wrong\n",
                "is_it_correct_check1c = abs(h(3.14) - 0.880648) <= 1e-2 ? \"Yes\" : \"No\"\n",
                "\n",
                "@show is_it_correct_check1c;\n"
            ]
        },
        {
            "cell_type": "code",
            "execution_count": null,
            "metadata": {},
            "outputs": [],
            "source": [
                "# ========== PROBLEM 1 SAMPLE SOLUTION ==========\n",
                "# You can use this as a reference to check your answer.\n",
                "\n",
                "### 1A BEGIN SOLUTION\n",
                "g(x) = sqrt(5*(x + sin(x))) / (3*x)\n",
                "### 1A END SOLUTION\n",
                "\n",
                "### 1B BEGIN SOLUTION\n",
                "fValues = [f(10), f(11), f(12), f(13), f(14)]\n",
                "### 1B END SOLUTION\n",
                "\n",
                "### 1C BEGIN SOLUTION\n",
                "function h(x)\n",
                "    w = cos(x^3 + x + 6)\n",
                "    e = exp(1)\n",
                "    y = e^tan(x^2)\n",
                "    z = (w - 6)/ (y^2 - 2y -7)\n",
                "    return z\n",
                "end\n",
                "### 1C END SOLUTION\n",
                "h(pi/2)"
            ]
        },
        {
            "cell_type": "code",
            "execution_count": null,
            "metadata": {},
            "outputs": [],
            "source": [
                "# ====================================================\n",
                "# 🔒 GRADER CELL — Problem 1 (Do Not Edit)\n",
                "# ====================================================\n",
                "# This cell required previous Friendly checks to be run first.\n",
                "# Please run this cell before going to the next problem to avoid variable errors.\n",
                "\n",
                "point_1A = is_it_correct_check1a == \"Yes\" && abs(g(pi/2) - 0.7608126163433311) <= 1e-5 ? 1 : 0\n",
                "point_1B = is_it_correct_check1b == \"Yes\" ? 1 : 0\n",
                "point_1C = is_it_correct_check1c == \"Yes\" && abs(h(pi/2) - 0.7228762569699793) <= 1e-5 ? 1 : 0\n",
                "total_score_1 = point_1A + point_1B + point_1C\n",
                "\n",
                "# Show score\n",
                "println(\"Problem 1 Score: $total_score_1 / 3\")"
            ]
        },
        {
            "cell_type": "markdown",
            "metadata": {
                "cellIdentifier": "yba8ya3btth1c7giwuio6"
            },
            "source": [
                "# Problem 2: Matrices, Vectors, and Indexing\n",
                "\n",
                "To succeed in this course, we need you to be comfortable with the proper syntax and different properties of objects in Julia as compared to other programming languages you may have used or are using in other courses.\n"
            ]
        },
        {
            "cell_type": "code",
            "execution_count": null,
            "metadata": {
                "cellIdentifier": "13l9m90h7a8xaikaenlqx"
            },
            "outputs": [],
            "source": [
                "# Below you will see the initialization of a column vector of size 10, \n",
                "# with all its values set to one\n",
                "v = ones(10)"
            ]
        },
        {
            "cell_type": "code",
            "execution_count": null,
            "metadata": {
                "cellIdentifier": "mpxdemggpv1m2bwhcfit6h"
            },
            "outputs": [],
            "source": [
                "# We can find the size and the length of the vector with the following functions:\n",
                "#\n",
                "vector_size = size(v) # not recommended; best to only use size on matrices\n",
                "vector_length = length(v)\n",
                "\n",
                "# Why? Note that the size and length functions return different types \n",
                "@show typeof(vector_size)\n",
                "@show typeof(vector_length)\n",
                "\n",
                "# If you try to use size(vect) when indexing a for loop, you will have problems\n",
                "\n",
                "# Works\n",
                "Sum = 0.0\n",
                "for k = 1:length(v)\n",
                "    Sum += v[k]\n",
                "end\n",
                "println(\"\\nThe sum of the elements equals $Sum\")\n",
                "\n",
                "# Fails. Will produce an error message.\n",
                "Sum = 0.0\n",
                "for k = 1:size(v)\n",
                "    Sum += v[k]\n",
                "end\n",
                "println(\"The sum of the elements equals $Sum\")\n"
            ]
        },
        {
            "cell_type": "code",
            "execution_count": null,
            "metadata": {
                "cellIdentifier": "iak44qc4yyc548oxkt8pf"
            },
            "outputs": [],
            "source": [
                "# This is also important when using comparators. \n",
                "# You want to make sure you are comparing the correct types \n",
                "# or you will obtain unexpected results/errors!\n",
                "#\n",
                "if (vector_size == 10) \n",
                "    print(\"This should not print!\\n\") \n",
                "else \n",
                "    print(\"Tuple cannot be compared with Int64, so the if statement reults in false :-(\\n\")\n",
                "end\n",
                "\n",
                "if (vector_length == 10) \n",
                "    println(\"\\nAlways use length when comparing to Int64!\") \n",
                "else \n",
                "    println(\"This should not print!\\n\")\n",
                "end\n",
                "\n",
                "# Remark print(\"This should not print!\\n\") and println(\"This should not print!\") \n",
                "# have the same functionality. \\n means line return. It's your choice."
            ]
        },
        {
            "cell_type": "code",
            "execution_count": null,
            "metadata": {
                "cellIdentifier": "cjmalbof625qmmabsx0qv"
            },
            "outputs": [],
            "source": [
                "# Separating the 1's using semicolons, as in ; to signify a new row will also produce a column vector:\n",
                "vect2 = [1; 1; 1; 1; 1; 1; 1; 1; 1; 1]\n",
                "@show vect2\n",
                "\n",
                "# Using the apostrophe ', we can also transpose the column vector \n",
                "# into a row vector, which in Julia, is a 1 x n matrix\n",
                "vect3 = vect2'\n",
                "@show vect3\n",
                "\n",
                "# We can also use\n",
                "transpose(vect2)"
            ]
        },
        {
            "cell_type": "code",
            "execution_count": null,
            "metadata": {
                "cellIdentifier": "mn3p55xfhe82qe8bbugh38"
            },
            "outputs": [],
            "source": [
                "# Matrices follow the same principles, but are 2-dimensional.\n",
                "# ones(row, col)\n",
                "using LinearAlgebra\n",
                "matrix = ones(3, 5)\n",
                "matrix[1,3]=2.0; matrix[3,5] = pi\n",
                "@show matrix \n",
                "\n",
                "matrix_transposed = matrix'\n",
                "# You can also use the display command. Sometimes, its formatting is handier\n",
                "# than @show\n",
                "display(matrix_transposed)\n",
                "\n",
                "# We can also multiply matrices together if they have the correct sizes: * \n",
                "matrix2 = [1 2 3; 4 5 6; 7 8 9; 10 11 12; 13 14 15]\n",
                "\n",
                "# 3x5 * 5x3 = 3x3\n",
                "@show matrix3 = matrix*matrix2\n",
                "\n",
                "# or multiply scalars into matrices element by element: .*\n",
                "@show matrix4 = matrix.*3 \n",
                "\n",
                "# This also works\n",
                "@show matrix4 = 3*matrix\n",
                "\n",
                "# or add scalars to matrices element by element: .+\n",
                "matrix5 = matrix .+ pi/3 # The result from the last executed command in a \n",
                "                         # Jupyter cell is printed unless you end it with ;\n",
                "\n",
                "# Hint: make sure you understand all of the code above because \n",
                "# you will apply the concepts in later parts of the HW"
            ]
        },
        {
            "cell_type": "code",
            "execution_count": null,
            "metadata": {
                "cellIdentifier": "qaojiocjeipedzewp7xn"
            },
            "outputs": [],
            "source": [
                "# In programming, a language is considered 1-indexed if its arrays, lists, or similar \n",
                "# data structures start counting from 1. Julia is 1-indexed as are Matlab and R. \n",
                "# Launguages such as C, Python, and Java are 0-indexed.\n",
                "\n",
                "# Create an array with elements\n",
                "@show array = [10, 20, 30, 40, 50]\n",
                "\n",
                "# Access elements of the array\n",
                "first_element = array[1]  # Accesses the first element (10)\n",
                "second_element = array[2]  # Accesses the second element (20)\n",
                "\n",
                "println(\"The first element is: \", first_element)\n",
                "println(\"The second element is: \", second_element, \"\\n\")\n",
                "\n",
                "# Create a 2x3 matrix\n",
                "@show B = [1 2 3; 4 5 6]\n",
                "\n",
                "# Access elements from the matrix\n",
                "first_row_first_col = B[1, 1]  # Element at first row, first column (1)\n",
                "second_row_third_col = B[2, 3]  # Element at second row, third column (6)\n",
                "\n",
                "println(\"Element at (1,1): \", first_row_first_col)\n",
                "println(\"Element at (2,3): \", second_row_third_col)\n"
            ]
        },
        {
            "cell_type": "code",
            "execution_count": null,
            "metadata": {
                "cellIdentifier": "bzndsvbxj9tqb6916ajzin"
            },
            "outputs": [],
            "source": [
                "# Extracting columns and rows of matrices\n",
                "C = [1 2 3; 4 5 6; 7 8 9; 10 11 12]\n",
                "display(C)\n",
                "\n",
                "# extract the second column of C\n",
                "second_column = C[:,2]\n",
                "println(\"Second Column of the matrix\")\n",
                "display(second_column)\n",
                "\n",
                "# extract the third row of C\n",
                "third_row = C[3:3,:] # <--note the 3:3 and not just 3\n",
                "println(\"Third Row of the matrix\")\n",
                "display(third_row)\n",
                "\n",
                "# extract the third row of C as a column\n",
                "third_row_as_column = C[3,:] # <--note the 3 and not 3:3\n",
                "println(\"Third Row as Column\")\n",
                "display(third_row_as_column)"
            ]
        },
        {
            "cell_type": "markdown",
            "metadata": {
                "cellIdentifier": "owtjy9pupfb3e2hwpsopyx"
            },
            "source": [
                "## P.2A\n",
                "\n",
                "Apply the syntax discussed above to create a matrix that, when multiplied by its transpose, results in\n",
                "\n",
                "$$\n",
                "\\begin{bmatrix}\n",
                "9 & 9 & 9 \\\\\n",
                "9 & 9 & 9 \\\\\n",
                "9 & 9 & 9 \n",
                "\\end{bmatrix}\n",
                "$$\n",
                "\n",
                "**Hint:** If you get stuck, ask your favorite LLM the following: \"Can you give me a matrix that when multiplied by its transpose produces a 3 x 3 matrix with all entries equal to 9?\""
            ]
        },
        {
            "cell_type": "code",
            "execution_count": null,
            "metadata": {
                "cellIdentifier": "4eqzyiu8g9nemd1q2nanea",
                "nbgrader": {
                    "grade": false,
                    "locked": false,
                    "solution": false
                }
            },
            "outputs": [],
            "source": [
                "# use mat1 for your answer\n",
                "# mat1 = \n",
                "\n",
                "###\n",
                "### YOUR CODE HERE\n",
                "###\n",
                "\n",
                "mat1 * mat1'\n"
            ]
        },
        {
            "cell_type": "code",
            "execution_count": null,
            "metadata": {
                "cellIdentifier": "sn9a4oqww2m0gz0bd0w8g7m",
                "deletable": false,
                "editable": false,
                "execution": {
                    "iopub.execute_input": "2024-06-20T21:28:37.513000Z",
                    "iopub.status.busy": "2024-06-20T21:28:37.513000Z",
                    "iopub.status.idle": "2024-06-20T21:28:37.518000Z",
                    "shell.execute_reply": "2024-06-20T21:28:37.518000Z"
                },
                "nbgrader": {
                    "grade": true,
                    "grade_id": "P02A",
                    "locked": true,
                    "points": "1",
                    "solution": false
                }
            },
            "outputs": [],
            "source": [
                "#= Friendly check =#\n",
                "using LinearAlgebra\n",
                "ans = [9 9 9; 9 9 9; 9 9 9]\n",
                "is_it_correct_check2a = (norm(mat1*mat1' - ans) <= 1e-4) ? \"Yes\" : \"No\"\n",
                "\n",
                "@show is_it_correct_check2a"
            ]
        },
        {
            "cell_type": "markdown",
            "metadata": {
                "cellIdentifier": "n2q61kozz8g5orh63u31qx"
            },
            "source": [
                "## P.2B\n",
                "\n",
                "Create a 3 x 3 matrix mat2 such that:\n",
                "\n",
                "$$\n",
                "\\begin{aligned}\n",
                "\\text{(mat1 * mat1') * mat2 = mat2 * (mat1 * mat1') = }\n",
                "\n",
                "\\begin{bmatrix}\n",
                "1 & 1 & 1 \\\\\n",
                "1 & 1 & 1 \\\\\n",
                "1 & 1 & 1\n",
                "\\end{bmatrix}\n",
                "\n",
                "\\end{aligned}\n",
                "$$"
            ]
        },
        {
            "cell_type": "code",
            "execution_count": null,
            "metadata": {
                "cellIdentifier": "cjkxxkruvd9dev9s7edqt"
            },
            "outputs": [],
            "source": [
                "# mat2 =\n",
                "using LinearAlgebra\n",
                "\n",
                "###\n",
                "### YOUR CODE HERE\n",
                "###\n",
                "\n",
                "temp1 = mat1*mat1'*mat2\n",
                "display(temp1)\n",
                "mat2*mat1*mat1'"
            ]
        },
        {
            "cell_type": "code",
            "execution_count": null,
            "metadata": {
                "cellIdentifier": "6wisqrxo1ml85bisqhvblu",
                "deletable": false,
                "editable": false,
                "execution": {
                    "iopub.execute_input": "2024-06-20T21:28:37.526000Z",
                    "iopub.status.busy": "2024-06-20T21:28:37.526000Z",
                    "iopub.status.idle": "2024-06-20T21:28:37.530000Z",
                    "shell.execute_reply": "2024-06-20T21:28:37.530000Z"
                },
                "nbgrader": {
                    "grade": true,
                    "grade_id": "P02B",
                    "locked": true,
                    "points": "1",
                    "solution": false
                }
            },
            "outputs": [],
            "source": [
                "#= Friendly check =#\n",
                "using LinearAlgebra\n",
                "\n",
                "ans = [1 1 1; 1 1 1; 1 1 1]\n",
                "is_it_correct_check2b = (norm(mat1*mat1'*mat2 - ans) <= 1e-4) && (norm(mat2*mat1*mat1' - ans) <= 1e-4) ? \"Yes\" : \"No\"\n",
                "\n",
                "@show is_it_correct_check2b"
            ]
        },
        {
            "cell_type": "markdown",
            "metadata": {
                "cellIdentifier": "7m23ts0aw5dbtqghhgh02e"
            },
            "source": [
                "## P.2C \n",
                "\n",
                "Extract the third row of the matrix `A` and keep it as a row vector `thirdRowA`.\n"
            ]
        },
        {
            "cell_type": "code",
            "execution_count": null,
            "metadata": {
                "cellIdentifier": "6hfzx8x3sxaz6e66ksd5dj"
            },
            "outputs": [],
            "source": [
                "A = [1 2 3; 4 5 6; 7 8 9; 10 11 12] * [1 2 3; 4 5 6; 7 8 9; 10 11 12]'\n",
                "\n",
                "#thirdRowA = ?\n",
                "\n",
                "###\n",
                "### YOUR CODE HERE\n",
                "###\n",
                "\n",
                "display(thirdRowA)\n",
                "println(\"To check your work, display A and look at its third row.\")"
            ]
        },
        {
            "cell_type": "code",
            "execution_count": null,
            "metadata": {
                "cellIdentifier": "dac6i8705xkwzoj598lum",
                "deletable": false,
                "editable": false,
                "execution": {
                    "iopub.execute_input": "2024-06-20T21:28:37.966000Z",
                    "iopub.status.busy": "2024-06-20T21:28:37.966000Z",
                    "iopub.status.idle": "2024-06-20T21:28:37.971000Z",
                    "shell.execute_reply": "2024-06-20T21:28:37.971000Z"
                },
                "nbgrader": {
                    "grade": true,
                    "grade_id": "P02C",
                    "locked": true,
                    "points": "1",
                    "solution": false
                }
            },
            "outputs": [],
            "source": [
                "#= Friendly check =#\n",
                "using LinearAlgebra\n",
                "\n",
                "result = [50  122  194  266]\n",
                "is_it_correct_check2c = (norm(thirdRowA - result) <= 1e-4) ? \"Yes\" : \"No\" \n",
                "\n",
                "@show is_it_correct_check2c"
            ]
        },
        {
            "cell_type": "code",
            "execution_count": null,
            "metadata": {},
            "outputs": [],
            "source": [
                "# ========== PROBLEM 2 SAMPLE SOLUTION ==========\n",
                "# You can use this as a reference to check your answer.\n",
                "using LinearAlgebra\n",
                "\n",
                "### 2A BEGIN SOLUTION\n",
                "mat1 = sqrt(3)*ones(3, 3)\n",
                "### 2A END SOLUTION\n",
                "\n",
                "### 2B BEGIN SOLUTION\n",
                "mat2 = 1/9 * I(3)\n",
                "### 2B END SOLUTION\n",
                "\n",
                "### 2C BEGIN SOLUTION\n",
                "thirdRowA = A[3:3,:] # Extract the third row of A as a row vector\n",
                "### 2C END SOLUTION"
            ]
        },
        {
            "cell_type": "code",
            "execution_count": null,
            "metadata": {},
            "outputs": [],
            "source": [
                "# ====================================================\n",
                "# 🔒 GRADER CELL — Problem 2 (Do Not Edit)\n",
                "# ====================================================\n",
                "# This cell required previous Friendly checks to be run first.\n",
                "# Please run this cell before going to the next problem to avoid variable errors.\n",
                "\n",
                "point_2A = is_it_correct_check2a == \"Yes\" ? 1 : 0\n",
                "point_2B = is_it_correct_check2b == \"Yes\" ? 1 : 0\n",
                "point_2C = is_it_correct_check2c == \"Yes\" ? 1 : 0\n",
                "total_score_2 = point_2A + point_2B + point_2C\n",
                "\n",
                "# Show score\n",
                "println(\"Problem 2 Score: $total_score_2 / 3\")"
            ]
        },
        {
            "cell_type": "markdown",
            "metadata": {
                "cellIdentifier": "qsexsw8vcibltzj3clf2l"
            },
            "source": [
                "# Problem 3: Plotting in Julia\n",
                "\n",
                "In ROB 101, we gave you most of the plotting commands. We'll provide a lot of helpful plots in ROB 201 but fewer than in ROB 101. It's time for you to learn how to make plots In Julia. "
            ]
        },
        {
            "cell_type": "code",
            "execution_count": null,
            "metadata": {
                "cellIdentifier": "gsqmnl2zwr7adbzblpcj8s"
            },
            "outputs": [],
            "source": [
                "using Plots\n",
                "\n",
                "#This line creates an array of 100 numbers from -5 to 5 \n",
                "#The syntax of range is as follows: range(start[inclusive], stop[inclusive], length)\n",
                "x = range(-5, 5, length=100)\n",
                "\n",
                "#This line finds the cosine of each value in the array x. The results are stored in an array called y.\n",
                "#The dot after cos denotes that broadcasting is being applied to x. This is a must because x\n",
                "# is an array rather than a single number and cos(x) assumes a scalar. \n",
                "y = cos.(x)\n",
                "\n",
                "#Now we're plotting values of array y at each corresponding value of array x. This creates a plot of cos(x) vs. x!\n",
                "plot(x, y)\n",
                "\n",
                "#It's good practice to have axis labels for plots\n",
                "#The ! denotes that we're editing a pre-existing plot rather than creating a new plot\n",
                "xlabel!(\"x\")\n",
                "ylabel!(\"cos(x)\")"
            ]
        },
        {
            "cell_type": "code",
            "execution_count": null,
            "metadata": {
                "cellIdentifier": "aog49tr8k12ndpjpatnt"
            },
            "outputs": [],
            "source": [
                "# Here is a nicer version of the above plot\n",
                "\n",
                "using Plots, LaTeXStrings\n",
                "\n",
                "x = range(-5, 5, length=100)\n",
                "y = cos.(x)\n",
                "\n",
                "p1 = plot(x, y, lw=3, color=:blue, legend=false, guidefont=15)\n",
                "# p1 is now the name of the plot\n",
                "# lw = linewidth\n",
                "# color = obvious\n",
                "# legend = false removes the legend\n",
                "# guidefont = 15, sets the default font to be 15 point\n",
                "\n",
                "xlabel!(L\"x\")\n",
                "ylabel!(L\"\\cos(x)\")\n",
                "\n",
                "# L in front of the string \"x\" tells Julia to process it as a latex command.\n",
                "#    \n",
                "# L\"\\cos(x)\" causs the function cosine to be typeset as it would look in a latex document."
            ]
        },
        {
            "cell_type": "markdown",
            "metadata": {
                "cellIdentifier": "ctjtyrohoxo5ty0ctujlp7"
            },
            "source": [
                "***There are no problems over plotting specifically.*** In the next section on injective and surjective functions, you may want to use a plot as an analysis tool.\n"
            ]
        },
        {
            "cell_type": "markdown",
            "metadata": {
                "cellIdentifier": "cs3t0qu64ifkhqd6q1663m"
            },
            "source": [
                "# Problem 4: Injective (1:1) and Surjective (onto) Properties of Functions \n",
                "\n",
                "### Notes\n",
                "Further explanation of these properties is given in your textbook.\n",
                "  * $f:A \\to B$ is **injective** if $a_1 \\neq a_2 \\implies f(a_1) \\neq f(a_2)$\n",
                "  * $f:A \\to B$ is **surjective** if for every $b\\in B$ there is an $a \\in A$ such that $f(a) = b$.\n",
                "  \n",
                "The following code may be helpful in answering questions about functions `f1`, ..., `f4` defined below:\n",
                "\n",
                "```Julia\n",
                "function g0(x)\n",
                "    y = cos(x)*sin(x^3)\n",
                "    return y\n",
                "end    \n",
                "\n",
                "a, b = (-pi, pi)\n",
                "x = range(a, b, length=1000)\n",
                "y = g0.(x)\n",
                "\n",
                "@show ymin = minimum(y)\n",
                "@show ymax = maximum(y)\n",
                "\n",
                "plot(x, y, lw=3, color=:blue, legend=false)\n",
                "```"
            ]
        },
        {
            "cell_type": "code",
            "execution_count": null,
            "metadata": {
                "cellIdentifier": "45dxo6o20d6py6xf8twtrg"
            },
            "outputs": [],
            "source": [
                "# Four functions with non-obvious properties\n",
                "\n",
                "function g1(x)\n",
                "    if x < 0\n",
                "        return x^2 - 2x\n",
                "    elseif x <= 3\n",
                "        return sin(2x) + 1\n",
                "    else\n",
                "        return log(x + 2) + cos(x)\n",
                "    end\n",
                "end\n",
                "\n",
                "function g2(x)\n",
                "    return x^3 - x + sin(4x)\n",
                "end\n",
                "\n",
                "function g3(x)\n",
                "    return abs(x) + 2x\n",
                "end\n",
                "\n",
                "function g4(x)\n",
                "    if x <= 1\n",
                "        return tanh(x) + x\n",
                "    else\n",
                "        return 2 - (x - 1)^2\n",
                "    end\n",
                "end\n"
            ]
        },
        {
            "cell_type": "markdown",
            "metadata": {
                "cellIdentifier": "552xmp9n3xfzq5puh4d2aj",
                "nbgrader": {
                    "grade": false,
                    "locked": false,
                    "solution": false
                }
            },
            "source": [
                "## True or False: Determine the property of each function\n",
                "\n",
                "**Q1A**: The function $ g1: [-2, 4] \\to [0, 5] $ is injective.\n",
                "\n",
                "**Q1B**: The function $ g1: [-2, 4] \\to [0, 5] $ is surjective.\n",
                "\n",
                "###### Note the changes in domain and codomain below.\n",
                "\n",
                "**Q2A**: The function $ g2: [-3, 3] \\to [-20, 20] $ is injective.\n",
                "\n",
                "**Q2B**: The function $ g2: [-3, 3] \\to [-20, 20] $ is surjective.\n",
                "\n",
                "###### Note the changes in domain and codomain below.\n",
                "\n",
                "**Q3A:** The function $ g3: [-2, 2] \\to [-2, 6] $ is injective.\n",
                "\n",
                "**Q3B:** The function $ g3: [-2, 2] \\to [-2, 6] $ is surjective.\n",
                "\n",
                "###### Note the change in codomain below.\n",
                "\n",
                "**Q4A:** The function $ g4: [-2, 3] \\to [-1, 3] $ is injective.\n",
                "\n",
                "**Q4B:** The function $ g4: [-2, 3] \\to [-1, 3] $ is surjective.\n",
                "\n",
                "### Instructions\n",
                "Answer with upper case \"T\" for true and upper case \"F\" for false. The double quotes are important because we will compose your answers to form strings."
            ]
        },
        {
            "cell_type": "code",
            "execution_count": null,
            "metadata": {
                "cellIdentifier": "ftwdmnej1bw5dfgfqr13zv"
            },
            "outputs": [],
            "source": [
                "# Replace the X's with T or F. Do NOT remove the double quote marks\n",
                "\n",
                "Answer1A = \"X\"\n",
                "Answer1B = \"X\"\n",
                "\n",
                "Answer2A = \"X\"\n",
                "Answer2B = \"X\"\n",
                "\n",
                "Answer3A = \"X\"\n",
                "Answer3B = \"X\"\n",
                "\n",
                "Answer4A = \"X\"\n",
                "Answer4B = \"X\"\n",
                "\n",
                "###\n",
                "### YOUR CODE HERE\n",
                "###\n",
                "\n",
                "println(\"The next cells help you to see how you did!\")"
            ]
        },
        {
            "cell_type": "code",
            "execution_count": null,
            "metadata": {
                "cellIdentifier": "ou2h86r2x0c1x0mdus0hxt"
            },
            "outputs": [],
            "source": [
                "# This function will compute how many correct answers you have. It does not specify which are\n",
                "# right and which are wrong. It just computes their number.\n",
                "\n",
                "function evaluate_answers(answer_code, problem_hashes)\n",
                "    # This is an obfuscating mechanism using a pseudo-hash function with an additional obfuscation key\n",
                "    function pseudo_hash(c, i, obfuscation_key)\n",
                "        ascii_val = Int(c)  # Convert character to its ASCII integer value\n",
                "        # Apply a more complex hashing function that uses both the position and a key\n",
                "        return (ascii_val % 16 + i * (ascii_val % 3) + obfuscation_key[i] % 7) % 11\n",
                "    end\n",
                "    \n",
                "    # Define a constant obfuscation key (could be randomly generated for each session or exam)\n",
                "    obfuscation_key = [3, 8, 5, 6]\n",
                "\n",
                "    # Compute the pseudo-hash for each student answer based on its position and the obfuscation key\n",
                "    student_hashes = [pseudo_hash(Char(ans), idx, obfuscation_key) for (idx, ans) in enumerate(answer_code)]\n",
                "\n",
                "    # Compare hashes to determine the number of correct answers\n",
                "    # Obfuscated problem hashes, precomputed using the same obfuscation key\n",
                "    num_correct = sum([student_hashes[i] == problem_hashes[i] for i in 1:length(answer_code)])    \n",
                "    return num_correct\n",
                "end\n"
            ]
        },
        {
            "cell_type": "code",
            "execution_count": null,
            "metadata": {
                "cellIdentifier": "kfaom5k4y180ktjm21yw7vn"
            },
            "outputs": [],
            "source": [
                "#= Friendly check =#\n",
                "# Run this cell to find out how many correct answers you have\n",
                "\n",
                "CheckProduct1 = Answer1A * Answer1B * Answer2A * Answer2B\n",
                "NumCorrect1 = evaluate_answers(CheckProduct1, [10, 9, 3, 5])\n",
                "\n",
                "println(\"For questions 1A, 1B, 2A, and 2B, you have $NumCorrect1 correct answers. \n",
                "    You can go back and edit your responses, if needed.\\n\n",
                "    Each answer is worth 1/4 point.\\n\")\n",
                "\n",
                "CheckProduct2 = Answer3A * Answer3B * Answer4A * Answer4B\n",
                "NumCorrect2 = evaluate_answers(CheckProduct2, [7, 5, 3, 5])\n",
                "\n",
                "println(\"For questions 3A, 3B, 4A, and 4B, you have $NumCorrect2 correct answers. \n",
                "    You can go back and edit your responses, if needed.\\n\n",
                "    Each answer is worth 1/4 point.\")"
            ]
        },
        {
            "cell_type": "code",
            "execution_count": null,
            "metadata": {},
            "outputs": [],
            "source": [
                "# ========== PROBLEM 4 SAMPLE SOLUTION ==========\n",
                "# You can use this as a reference to check your answer.\n",
                "\n",
                "### 4 BEGIN SOLUTION\n",
                "Answer1A = \"F\"\n",
                "Answer1B = \"F\"\n",
                "\n",
                "Answer2A = \"F\"\n",
                "Answer2B = \"F\"\n",
                "\n",
                "Answer3A = \"T\"\n",
                "Answer3B = \"T\"\n",
                "\n",
                "Answer4A = \"F\"\n",
                "Answer4B = \"F\"\n",
                "### 4 END SOLUTION"
            ]
        },
        {
            "cell_type": "code",
            "execution_count": null,
            "metadata": {},
            "outputs": [],
            "source": [
                "# ====================================================\n",
                "# 🔒 GRADER CELL — Problem 4 (Do Not Edit)\n",
                "# ====================================================\n",
                "# This cell required previous Friendly checks to be run first.\n",
                "# Please run this cell before going to the next problem to avoid variable errors.\n",
                "\n",
                "total_score_4 = (NumCorrect1 + NumCorrect2)/4\n",
                "\n",
                "# Show score\n",
                "println(\"Problem 4 Score: $total_score_4 / 2\")"
            ]
        },
        {
            "cell_type": "markdown",
            "metadata": {
                "cellIdentifier": "szqo913kfqajsxlxlzkf1"
            },
            "source": [
                "\n",
                "# Problem 5: The Bisection Algorithm\n",
                "\n",
                "In the cell below, complete the given function. To help you out, here is a skeleton that you might wish to use:\n",
                "\n",
                "```julia\n",
                "    # We want to find the root between two values within a specified tolerance\n",
                "    # Think: What kind of things do we need to check in order to keep our loop running?\n",
                "    while(    ||   ) && (k < kmax)\n",
                "       \n",
                "        c = \n",
                "        # How can we use the values of a, b, and c to determine how our bracket points change \n",
                "        # within the algorithm?\n",
                "        # Hint: Should you compare f(c) to f evaluated at either a or b?\n",
                "        if  ??\n",
                "            b = c\n",
                "        else \n",
                "            a = c \n",
                "        end\n",
                "        k = k + 1\n",
                "\n",
                "    end\n",
                "```\n"
            ]
        },
        {
            "cell_type": "code",
            "execution_count": null,
            "metadata": {
                "cellIdentifier": "o3mdwm12ouo13easyvmmqap"
            },
            "outputs": [],
            "source": [
                "#Fill in at the indicated location\n",
                "# We seek a root of function f between the bracket points (a, b), where a < b\n",
                "function mybisection(f, a, b, tol; kmax = 1e5)\n",
                "    if f(a) * f(b) > 0\n",
                "        error(\"f(a) and f(b) must have opposite signs\")\n",
                "        return NaN\n",
                "    end\n",
                "\n",
                "    #Counter for loops\n",
                "    k = 1    \n",
                "    #Use kmax to avoid an infinite loop\n",
                "    \n",
                "    #c will be used to calculate the midpoint within our loop \n",
                "    c = NaN\n",
                "\n",
                "    ###\n",
                "    ### YOUR CODE HERE\n",
                "    ###\n",
                "\n",
                "    # Assign values to estimated_root, lower_bound, and upper_bound\n",
                "    # estimated_root = ??\n",
                "    # lower_bound = ??\n",
                "    # upper_bound = ??\n",
                "    \n",
                "    # Given to you\n",
                "    pmError = (b-a)/2\n",
                "    \n",
                "    return estimated_root, lower_bound, upper_bound, pmError\n",
                "end"
            ]
        },
        {
            "cell_type": "code",
            "execution_count": null,
            "metadata": {
                "cellIdentifier": "vxw1wi0tsbf09axuc7y3yaa"
            },
            "outputs": [],
            "source": [
                "# Suggestion: In this cell, test your function by finding the cube root of two.\n",
                "#f(x) =? ; a = ?; b = ? ; tol = 1e-7\n",
                "#estimated_root, lower_bound, upper_bound, pmError = mybisection(f, a, b, tol)\n",
                "#  myError = estimated_root^3 - 2.0"
            ]
        },
        {
            "cell_type": "markdown",
            "metadata": {
                "cellIdentifier": "qoa1dx4emnmitkea3s89ia"
            },
            "source": [
                "**Below, we are running a Friendly Check, but in an internship, we won't be there to do that for you. It is good to think about how to test your code on simple examples, such as the one above.**"
            ]
        },
        {
            "cell_type": "code",
            "execution_count": null,
            "metadata": {
                "cellIdentifier": "djcqzl2qobbj5ylmytaccs"
            },
            "outputs": [],
            "source": [
                "#= Friendly check =#\n",
                "f(x) = x^2 - 0.1*exp(x); tol = 1e-5\n",
                "estimated_root, lower_bound, upper_bound, pmError = mybisection(f, 0.0, 3, tol)\n",
                "# if the value of is_it_correct_checkN is \"Yes\", then your answer is LIKELY correct. \n",
                "# If the value of is_it_correct_checkN is \"No\", then your answer is DEFINITELY wrong\n",
                "\n",
                "is_it_correct_check5a = abs(estimated_root - 0.38297080993652344) <= tol ? \"Yes\" : \"No\"\n",
                "is_it_correct_check5b = abs(f(estimated_root)) <= tol ? \"Yes\" : \"No\"\n",
                "\n",
                "@show is_it_correct_check5a;\n",
                "@show is_it_correct_check5b;"
            ]
        },
        {
            "cell_type": "code",
            "execution_count": null,
            "metadata": {},
            "outputs": [],
            "source": [
                "# ========== PROBLEM 5 SAMPLE SOLUTION ==========\n",
                "# You can use this as a reference to check your answer.\n",
                "\n",
                "function mybisection(f, a, b, tol; kmax = 1e5)\n",
                "    if f(a) * f(b) > 0\n",
                "        error(\"f(a) and f(b) must have opposite signs\")\n",
                "        return NaN\n",
                "    end\n",
                "    k = 1     \n",
                "    c = NaN\n",
                "    ### 5 BEGIN SOLUTION\n",
                "    fc = f(c)\n",
                "    while( (abs(fc)>tol) || (abs(b-a) > tol) ) && (k < kmax) \n",
                "        # bisect a and b\n",
                "        c = (a + b)/2.0\n",
                "        fc = f(c)\n",
                "        if f(a)*fc < 0\n",
                "            b = c\n",
                "        else \n",
                "            a = c \n",
                "        end\n",
                "        k = k + 1\n",
                "    end\n",
                "    lower_bound = a\n",
                "    upper_bound = b\n",
                "    estimated_root = c # same as (a + b)/2 = (upper_bound + lower_bound)/2\n",
                "    ### 5 END SOLUTION\n",
                "    pmError = (b-a)/2\n",
                "\n",
                "    return estimated_root, lower_bound, upper_bound, pmError\n",
                "end"
            ]
        },
        {
            "cell_type": "code",
            "execution_count": null,
            "metadata": {},
            "outputs": [],
            "source": [
                "# ====================================================\n",
                "# 🔒 GRADER CELL — Problem 5 (Do Not Edit)\n",
                "# ====================================================\n",
                "# This cell required previous Friendly checks to be run first.\n",
                "# Please run this cell before going to the next problem to avoid variable errors.\n",
                "g(x) = x^3 - 0.1*exp(x); tol = 1e-5\n",
                "estimated_root, lower_bound, upper_bound, pmError = mybisection(g, 0.0, 3, tol)\n",
                "\n",
                "point_5A = is_it_correct_check5a == \"Yes\" && abs(estimated_root - 0.5592784881591797) <= tol ? 1 : 0\n",
                "point_5B = is_it_correct_check5b == \"Yes\" && abs(g(estimated_root)) <= tol ? 1 : 0\n",
                "total_score_5 = point_5A + point_5B\n",
                "\n",
                "# Show score\n",
                "println(\"Problem 5 Score: $total_score_5 / 2\")"
            ]
        },
        {
            "cell_type": "markdown",
            "metadata": {
                "cellIdentifier": "zy6y7k6ivsah73yrq6wmte"
            },
            "source": [
                "# Problem 6: Use Approximation Principle on the Paradox $\\pi = 4$\n",
                "\n",
                "In HS or Jr. High, all of us learned that  $\\pi \\approx 3.14159$. However, there's a proof that shows $\\pi = 4$! We know that $\\pi$ is definitely not equal to 4, so what's wrong with the proof?\n",
                "\n",
                "#### Here, we'll do two things:\n",
                "- provide a geometric picture about the proof that $\\pi = 4$\n",
                "- apply the approximation principle to see what's wrong\n"
            ]
        },
        {
            "cell_type": "markdown",
            "metadata": {
                "cellIdentifier": "7utnh81ktkkqi7py9w3twe"
            },
            "source": [
                "##  P.6A: Geometric visualization of the proof $\\pi = 4$\n",
                "\n",
                "There’s a popular visual argument that tries to show that π equals 4. It starts by drawing a circle with the diameter of 1 in a square with the perimeter of 4. Then, we modify the square by replacing each side with a step-like shape, and the perimeter of the new shape is still 4. After infinite repetition of this process, the shape seems to approach the circle, and so the \"proof\" concludes that the circle's circumference is 4, thus $\\pi = 4$\n",
                "\n",
                "Run the cell below to visualize the process. Here comes the question: **why is this \"intuitive proof\" not valid?**"
            ]
        },
        {
            "cell_type": "code",
            "execution_count": null,
            "metadata": {},
            "outputs": [],
            "source": [
                "using Plots\n",
                "\n",
                "# Circle and bounding square settings\n",
                "radius = 0.5\n",
                "center = (0.5, 0.5)\n",
                "steps_list = [1, 2, 4, 8, 16, 32]\n",
                "\n",
                "# Circle for reference\n",
                "θ = range(0, 2π, length=400)\n",
                "circle_x = center[1] .+ radius * cos.(θ)\n",
                "circle_y = center[2] .+ radius * sin.(θ)\n",
                "\n",
                "# Plotting\n",
                "p1 = plot(layout=(2, 3), size=(1000, 600), title=\"Stair-Step Approximation of Circle's Perimeter\")\n",
                "\n",
                "for (i, steps) in enumerate(steps_list)\n",
                "    # Step size along arc\n",
                "    θ_step = 2π / (4 * steps)  # one stair = horizontal + vertical, so 4 steps per quarter\n",
                "    angles = 0:θ_step:2π\n",
                "\n",
                "    # Build stair path\n",
                "    stair_x = Float64[]\n",
                "    stair_y = Float64[]\n",
                "\n",
                "    for j in 1:length(angles)-1\n",
                "        # Evaluate circle position at current angle\n",
                "        θ1 = angles[j]\n",
                "        θ2 = angles[j+1]\n",
                "\n",
                "        x1 = center[1] + radius * cos(θ1)\n",
                "        y1 = center[2] + radius * sin(θ1)\n",
                "\n",
                "        x2 = center[1] + radius * cos(θ2)\n",
                "        y2 = center[2] + radius * sin(θ2)\n",
                "\n",
                "        # Determine quadrant based on average angle\n",
                "        avg_angle = mod((θ1 + θ2) / 2, 2π)\n",
                "\n",
                "        # Stair direction depends on quadrant\n",
                "\n",
                "        push!(stair_x, x1)\n",
                "        push!(stair_y, y1)\n",
                "\n",
                "        if (0 <= avg_angle < π/2) || (π <= avg_angle < 3π/2)\n",
                "            # 1st or 3rd quadrant: vertical first, then horizontal\n",
                "            push!(stair_x, x1)\n",
                "            push!(stair_y, y2)\n",
                "        else\n",
                "            # 2nd or 4th quadrant: horizontal first, then vertical\n",
                "            push!(stair_x, x2)\n",
                "            push!(stair_y, y1)\n",
                "        end\n",
                "\n",
                "        push!(stair_x, x2)\n",
                "        push!(stair_y, y2)\n",
                "    end\n",
                "\n",
                "    # Final point to close the loop\n",
                "    push!(stair_x, stair_x[1])\n",
                "    push!(stair_y, stair_y[1])\n",
                "\n",
                "    # Plot\n",
                "    plot!(\n",
                "        circle_x, circle_y,\n",
                "        label=\"Circle (π × D)\",\n",
                "        linewidth=2,\n",
                "        subplot=i,\n",
                "        ratio=1,\n",
                "        xlims=(0, 1),\n",
                "        ylims=(0, 1),\n",
                "        title=\"Steps = $(length(angles)-1)\"\n",
                "    )\n",
                "    plot!(stair_x, stair_y, label=\"Stair Path\", subplot=i)\n",
                "end\n",
                "\n",
                "display(p1)"
            ]
        },
        {
            "cell_type": "markdown",
            "metadata": {
                "cellIdentifier": "adu6n4rxvecmeviuagy0h"
            },
            "source": [
                "## P.6B: Compute Inner and Outer Approximation of the Circle's Circumference\n",
                "\n",
                "<p align=\"center\">\n",
                "  <img src=\"data/HW01WedgeAndTwoTriangles.png\" width=\"50%\" />\n",
                "</p>\n",
                "\n",
                "There are different claims showing that $\\pi=4$ is wrong (Check the Youtube links below for reference). Here, we aim to use the key idea from **Archimedes' Approximation Principle**: \n",
                ">To approximate an object, find the inner and outer approximations that both converges to the same limits.\n",
                "\n",
                "Here we defined the inner and outer approximations for the circumference of the circle.\n",
                "- **Inner approximation**: Start from a square ($2^2$ sides) inside the circle. Create a symmetric octogan ($2^3$ sides) by poking out each side of the square to make it touch the circle. Then a regular 16-gon ($2^4$ sides), and so on ($2^k$ sides).\n",
                "- **Outer approximation**: Use the process from the proof $\\pi=4$, since it's always greater than the circle's circumference.\n",
                "\n",
                "#### Notes\n",
                "- See the figure above when doing the inner approximation. N-side polygons will have a total length of N * $\\overline{BC}$.\n",
                "- You can assume that the center of the circle is the origin, that is, $A = [0.0; 0.0]$.\n",
                "- The process you are coding is one of the mighty pillars of integral Calculus.\n",
                "\n",
                "#### Video Links\n",
                "- [Does pi = 4?](https://www.youtube.com/watch?v=Rv0c7R8brjE&t=652s): The importance of **approximating motion**.\n",
                "- [$\\pi=4$](https://www.youtube.com/shorts/lT1bX1UbCSs?feature=share): The area may converge, but **does the length converge too?**"
            ]
        },
        {
            "cell_type": "code",
            "execution_count": null,
            "metadata": {
                "cellIdentifier": "cxeq8pk69t9j83i2vc97r"
            },
            "outputs": [],
            "source": [
                "# Complete the following code block\n",
                "function InnerCircumferenceApproximation(k)\n",
                "    # k = power (2^k sides polygon)\n",
                "    # Assume the radius of the circle r = 0.5\n",
                "    #\n",
                "\n",
                "    k = 2*ceil(Int64, k/2) # makes N an even integer\n",
                "    if k < 2\n",
                "        k = 2\n",
                "    end\n",
                "    r = 0.5\n",
                "\n",
                "    ###\n",
                "    ### YOUR CODE HERE\n",
                "    ###\n",
                "\n",
                "    #\n",
                "    # CircumferenceLow is the inner approximation of the circle's circumference\n",
                "    return CircumferenceLow\n",
                "end"
            ]
        },
        {
            "cell_type": "code",
            "execution_count": null,
            "metadata": {
                "cellIdentifier": "j72uyjp3fghvw0h37tev3"
            },
            "outputs": [],
            "source": [
                "#= Friendly check =#\n",
                "CircumferenceLow = InnerCircumferenceApproximation(2)\n",
                "\n",
                "is_it_correct_check6a = abs(CircumferenceLow - 2.82842712474619) < 1e-6 ? \"Yes\" : \"No\"\n",
                "\n",
                "# if the value of is_it_correct_checkN is \"Yes\", then your answer is LIKELY correct. \n",
                "# If the value of is_it_correct_checkN is \"No\", then your answer is DEFINITELY wrong\n",
                "@show is_it_correct_check6a\n",
                "\n",
                "CircumferenceLow2 = InnerCircumferenceApproximation(20)\n",
                "\n",
                "is_it_correct_check6b = abs(CircumferenceLow2 - 3.1415926535850933) < 1e-6 ? \"Yes\" : \"No\"\n",
                "\n",
                "@show is_it_correct_check6b"
            ]
        },
        {
            "cell_type": "markdown",
            "metadata": {},
            "source": [
                "By checking the plot below, you will see that Archimedes' Principle is not being applied correctly because, even though the lengths of the inner and outer approximations both converge, they do not have the same limits. Hence, the proof $\\pi=4$ is debunked."
            ]
        },
        {
            "cell_type": "code",
            "execution_count": null,
            "metadata": {},
            "outputs": [],
            "source": [
                "# Set up the plot\n",
                "using Plots\n",
                "\n",
                "# Range of k values\n",
                "k_vals = 2:20\n",
                "inner_vals = [InnerCircumferenceApproximation(k) for k in k_vals]\n",
                "outer_vals = [4.0 for _ in k_vals]\n",
                "\n",
                "# Plotting\n",
                "plot(k_vals, inner_vals,\n",
                "    label = \"Inner Approximation (2^k-gon)\",\n",
                "    xlabel = \"k (polygon with 2^k sides)\",\n",
                "    ylabel = \"Circumference\",\n",
                "    title = \"Inner vs Outer Approximations of π\",\n",
                "    legend = :bottomright,\n",
                "    lw = 2)\n",
                "\n",
                "plot!(k_vals, outer_vals, label = \"Outer Approximation (π = 4 claim)\", lw=2, ls=:dash)\n"
            ]
        },
        {
            "cell_type": "code",
            "execution_count": null,
            "metadata": {},
            "outputs": [],
            "source": [
                "# ========== PROBLEM 6 SAMPLE SOLUTION ==========\n",
                "# You can use this as a reference to check your answer.\n",
                "function InnerCircumferenceApproximation(k)\n",
                "    k = 2*ceil(Int64, k/2)\n",
                "    if k < 2\n",
                "        k = 2\n",
                "    end\n",
                "    r = 0.5\n",
                "    ### 6 BEGIN SOLUTION\n",
                "    N = 2^k \n",
                "    theta = 2*pi/N\n",
                "    alpha = theta/2\n",
                "    CircumferenceLow = N*2*r*sin(alpha) # inner approximation of the circle's circumference\n",
                "    ### 6 END SOLUTION\n",
                "    return CircumferenceLow\n",
                "end"
            ]
        },
        {
            "cell_type": "code",
            "execution_count": null,
            "metadata": {},
            "outputs": [],
            "source": [
                "# ====================================================\n",
                "# 🔒 GRADER CELL — Problem 6 (Do Not Edit)\n",
                "# ====================================================\n",
                "# This cell required previous Friendly checks to be run first.\n",
                "# Please run this cell before going to the next problem to avoid variable errors.\n",
                "\n",
                "point_6A = is_it_correct_check6a == \"Yes\" ? 1 : 0\n",
                "point_6B = is_it_correct_check6b == \"Yes\" ? 1 : 0\n",
                "total_score_6 = point_6A + point_6B\n",
                "\n",
                "# Show score\n",
                "println(\"Problem 6 Score: $total_score_6 / 2\")"
            ]
        },
        {
            "cell_type": "code",
            "execution_count": null,
            "metadata": {},
            "outputs": [],
            "source": [
                "# ======= Final Score Summary ======= #\n",
                "# You have to run all previous grader cells to get the final score summary.\n",
                "total_score = total_score_1 + total_score_2 + total_score_4 + total_score_5 + total_score_6\n",
                "\n",
                "println(\"🎉🎯 Final Score Summary 🎯🎉\")\n",
                "println(\"────────────────────────────\")\n",
                "println(\"Problem 1: $total_score_1\")\n",
                "println(\"Problem 2: $total_score_2\")\n",
                "println(\"Problem 4: $total_score_4\")\n",
                "println(\"Problem 5: $total_score_5\")\n",
                "println(\"Problem 6: $total_score_6\")\n",
                "println(\"────────────────────────────\")\n",
                "println(\"🏆 Total Score: $total_score / 12\")"
            ]
        },
        {
            "cell_type": "markdown",
            "metadata": {
                "cellIdentifier": "a2k2cghwcoutbn8xo9kou"
            },
            "source": [
                "\n",
                "<p align=\"center\" style=\"font-size:48px;\"><strong>The End! </strong></p>\n",
                "\n",
                "\n",
                "\n",
                "\n"
            ]
        }
    ],
    "metadata": {
        "kernelspec": {
            "display_name": "Julia 1.10.5",
            "language": "julia",
            "name": "julia-1.10"
        },
        "language_info": {
            "file_extension": ".jl",
            "mimetype": "application/julia",
            "name": "julia",
            "version": "1.10.5"
        }
    },
    "nbformat": 4,
    "nbformat_minor": 2
}
