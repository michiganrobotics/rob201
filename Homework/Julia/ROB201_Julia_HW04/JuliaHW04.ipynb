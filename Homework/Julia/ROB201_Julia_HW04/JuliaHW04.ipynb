{
    "cells": [
        {
            "cell_type": "markdown",
            "id": "4ed64219",
            "metadata": {},
            "source": [
                "University of Michigan - ROB 201 Calculus for the Modern Engineer\n",
                "\n",
                "---"
            ]
        },
        {
            "cell_type": "markdown",
            "id": "fd42ae0d",
            "metadata": {
                "cellIdentifier": "fd42ae0d"
            },
            "source": [
                "# Julia HW04: Chapters 3.4-5.4 \n",
                "\n",
                "### Topics Covered\n",
                "- Using QuadGK\n",
                "- Applications of Integration\n",
                "  - Area between two Functions\n",
                "  - Center of Mass\n",
                "  - Volume of a Solid of Revolution\n",
                "- Various Limits\n",
                "- Continuity\n",
                "- Squeeze Theorem\n",
                "- Derivatives via Software\n",
                "\n",
                "<br>\n",
                "\n",
                "<p align=\"center\">\n",
                "  <img src=\"data/HW04FrontPageSmall.png\" width=\"70%\">\n",
                "</p>\n",
                "\n",
                "\n",
                "<h6>DALL-E 27 Feb 2024.</h6>\n",
                "\n",
                "> **Author**: There are many misspelled words. Is that normal? It seems disrespectful. \n",
                "> \n",
                "> **ChatGPT**: I apologize for any impression of disrespect; that was certainly not the intention. The content generated in images, including text, is a result of the AI's current capabilities and sometimes may not accurately represent correct spelling or grammar. This limitation is due to the AI interpreting and generating content based on a vast array of inputs, where accuracy in textual content can sometimes be compromised, especially in complex or specialized fields like mathematics. It's an area of ongoing improvement for AI technology, and feedback like yours is valuable for future developments. "
            ]
        },
        {
            "cell_type": "markdown",
            "id": "dfb976fb",
            "metadata": {
                "cellIdentifier": "dfb976fb"
            },
            "source": [
                "**`quadgk`** is a Julia function for numerical integration using adaptive Gauss-Kronrod quadrature. It comes from the standard library package **`QuadGK`**.\n",
                "\n",
                "You can use `quadgk(f, a, b)` to integrate a function `f(x)` over the interval `[a, b]`. It handles both finite and infinite limits and can manage certain types of singularities in the integrand.\n",
                "\n",
                "This prompt in ChatGPT will produce full documentation: **Show me how to use QuadGK in Julia**"
            ]
        },
        {
            "cell_type": "code",
            "execution_count": null,
            "id": "67d029fb",
            "metadata": {
                "cellIdentifier": "67d029fb",
                "scrolled": true
            },
            "outputs": [],
            "source": [
                "# Here is an example call using QuadGK to numerically integrate a function. \n",
                "# We'll check it against something we know how to integrate analytically, \n",
                "# namely a monomial\n",
                "\n",
                "using QuadGK\n",
                "\n",
                "# Define the function to integrate\n",
                "f(x) = x^4\n",
                "\n",
                "# Set integration limits\n",
                "a = 0.0\n",
                "b = 3.0\n",
                "\n",
                "# Perform the integration\n",
                "integral, error = quadgk(f, a, b)\n",
                "\n",
                "# Output the result\n",
                "println(\"The integral of f(x) from \", a, \" to \", b, \" is approximately \", integral)\n",
                "println(\"The estimated absolute error is \", error , \"\\n\")\n",
                "\n",
                "# This is here to illustrate the quality of the numerical integration \n",
                "ExactIntegral = b^5/5.0\n",
                "TrueError = abs(ExactIntegral - integral)\n",
                "println(\"The exact answer is (3^5)/5, or $ExactIntegral\")\n",
                "println(\"The true error is  $TrueError \\n\\nGotta appreciate QuadGK\")\n"
            ]
        },
        {
            "cell_type": "markdown",
            "id": "02d7b4ca",
            "metadata": {
                "cellIdentifier": "02d7b4ca"
            },
            "source": [
                "# Problem 1: Applications of Integration\n",
                "\n",
                "## P.1A: Computing the area between two functions\n",
                "Write a function called `myAreaBetweenFandG` that takes the following inputs:\n",
                "\n",
                "- Two functions, `f` and `g`\n",
                "- Two endpoints, `a` and `b`\n",
                "\n",
                "Your function should compute and return the area between `f(x)` and `g(x)` over the interval \\([a, b]\\).  \n",
                "Use `quadgk` to evaluate any required integrals."
            ]
        },
        {
            "cell_type": "code",
            "execution_count": null,
            "id": "e12oxb8hzug3ucopftt79t",
            "metadata": {
                "cellIdentifier": "e12oxb8hzug3ucopftt79t"
            },
            "outputs": [],
            "source": [
                "# Write your function here\n",
                "# Assume f(x), g(x), a, and b have been defined\n",
                "# Return the area, while ignoring the reported error \n",
                "# See the Friendly Check for an example\n",
                "\n",
                "function myAreaBetweenFandG(f, g, a, b)\n",
                "    ### \n",
                "    ### YOUR CODE HERE\n",
                "    ###\n",
                "end\n"
            ]
        },
        {
            "cell_type": "code",
            "execution_count": null,
            "id": "a17130a2",
            "metadata": {
                "cellIdentifier": "a17130a2"
            },
            "outputs": [],
            "source": [
                "# Practice here checking your function on cases where you know the answer ahead of time\n",
                "\n",
                "# Know the area under f(x) = x^3 between 0 and 2 is 8/3\n",
                "# Check 1: the area between f(x) and g(x)= 0*x is 8/3\n",
                "# Check 2: the area between f(x) and g(x) =-f(x) is 2*(8/3) = 16/3"
            ]
        },
        {
            "cell_type": "code",
            "execution_count": null,
            "id": "20ec053f",
            "metadata": {
                "cellIdentifier": "20ec053f"
            },
            "outputs": [],
            "source": [
                "#= Friendly Check =#\n",
                "using QuadGK\n",
                "\n",
                "# Given functions\n",
                "f(x) = x^3*sin(x)\n",
                "g(x) = 5 - exp(-x)\n",
                "a = 1\n",
                "b = 4\n",
                "\n",
                "# Run Tests\n",
                "area1 = myAreaBetweenFandG(f, g, a, b)\n",
                "fsq(x) = f(x)*f(x); gsq(x) = g(x)*g(x)\n",
                "area2 = myAreaBetweenFandG(fsq, gsq, a, b)\n",
                "\n",
                "# if the value of is_it_correct_checkN is \"Yes\", then your answer is LIKELY correct. \n",
                "# If the value of is_it_correct_checkN is \"No\", then your answer is DEFINITELY wrong\n",
                "\n",
                "is_it_correct_check1a_1 = abs(area1 + 20.467494741022808) < 1e-6 ? \"Yes\" : \"No\"\n",
                "is_it_correct_check1a_2 = abs(area2 - 554.2570393962739) < 1e-6 ? \"Yes\" : \"No\"\n",
                "\n",
                "@show is_it_correct_check1a_1;\n",
                "@show is_it_correct_check1a_2;\n"
            ]
        },
        {
            "cell_type": "markdown",
            "id": "1f7u3bnxbaujc8nwcouy9",
            "metadata": {
                "cellIdentifier": "1f7u3bnxbaujc8nwcouy9"
            },
            "source": [
                "## P.1B: Computing the center of mass\n",
                "\n",
                "Calculate the center of mass for the object plotted in the next cell.\n",
                "\n",
                "- Return your results as `xCoM` and `yCoM`.\n",
                "\n",
                "**Note:** You are responsible for creating your own friendly checks — we will not provide any."
            ]
        },
        {
            "cell_type": "code",
            "execution_count": null,
            "id": "4dff6517",
            "metadata": {
                "cellIdentifier": "4dff6517"
            },
            "outputs": [],
            "source": [
                "# Run me, do not modify anything\n",
                "using Plots\n",
                "\n",
                "a = 2\n",
                "b = 9\n",
                "dt = 0.05\n",
                "f(x) = 4 + exp(sin(4*x))\n",
                "g(x) = 0.595 + 0.059*(x - 1)^2\n",
                "\n",
                "xValues = collect(a:dt:b)\n",
                "fValues = f.(xValues)\n",
                "gValues = g.(xValues)\n",
                "\n",
                "# Plot of only f(x)\n",
                "p1 = plot(xValues, fValues, lw=3, color=:blue, label=\"f(x)\", guidefontsize=15)\n",
                "\n",
                "# Add g(x) to the plot\n",
                "plot!(xValues, gValues, lw=3, color=:red, label=\"g(x)\", xlims=(0, b+2), ylims=(0, maximum(fValues)+.2))\n",
                "\n",
                "# Fill the area between f(x) and g(x)\n",
                "plot!(xValues, fValues, fillrange=gValues, color=:grey, alpha=0.5, label=\"\")\n",
                "\n",
                "display(p1)\n",
                "\n",
                "println(\"\\nDo your work in the cell below. You can build a function or just \n",
                "write a script (sequence of commands) that performs the relevant calculations.\")\n",
                "\n"
            ]
        },
        {
            "cell_type": "code",
            "execution_count": null,
            "id": "b5265c5b",
            "metadata": {
                "cellIdentifier": "b5265c5b"
            },
            "outputs": [],
            "source": [
                "# Do your work here. You can build a function or just write a \n",
                "# script that performs the relevant calculations.\n",
                "\n",
                "\n",
                "# xCoM =\n",
                "# yCoM = \n",
                "\n",
                "###\n",
                "### YOUR CODE HERE\n",
                "###\n",
                "\n",
                "# Be sure to report your answers in the next cell"
            ]
        },
        {
            "cell_type": "markdown",
            "id": "92nzvaooqkewfwzxfiujtt",
            "metadata": {
                "cellIdentifier": "92nzvaooqkewfwzxfiujtt"
            },
            "source": [
                "**Knowing how to check your work will help you stand out in an internship.**"
            ]
        },
        {
            "cell_type": "code",
            "execution_count": null,
            "id": "s6s4b52wf3fnkp4nfbrf4",
            "metadata": {
                "cellIdentifier": "s6s4b52wf3fnkp4nfbrf4"
            },
            "outputs": [],
            "source": [
                "\n",
                "# Build your own tests here. For example, you know the answers for rectangles \n",
                "# that have their lower left corner at the origin. What happends if you shift \n",
                "# the rectangle over by 2? Or up by 3? Or both?\n",
                "# You can look up the answer for a triangle of arbitrary shape, or you can \n",
                "# ask ChatGPT\n",
                "\n",
                "# If you are earning poor grades on the Julia HW, we will open your notebook and take a look\n",
                "# at your self-checking. Otherwise, no, we are not opening this cell."
            ]
        },
        {
            "cell_type": "code",
            "execution_count": null,
            "id": "zia5hxc8to8xfeocpr1no",
            "metadata": {
                "cellIdentifier": "zia5hxc8to8xfeocpr1no",
                "nbgrader": {
                    "grade": true,
                    "grade_id": "P01BxValue",
                    "locked": true,
                    "points": "1",
                    "solution": false
                }
            },
            "outputs": [],
            "source": [
                "#= Friendly Check =#\n",
                "\n",
                "is_it_correct_check1b_1 = abs(xCoM - 4.835517891477395) < 1e-6 ? \"Yes\" : \"No\"\n",
                "is_it_correct_check1b_2 = abs(yCoM - 3.564816925741804) < 1e-6 ? \"Yes\" : \"No\"\n",
                "\n",
                "@show is_it_correct_check1b_1;\n",
                "@show is_it_correct_check1b_2;\n"
            ]
        },
        {
            "cell_type": "markdown",
            "id": "l2n0hpsn2iq7oflb2ezr7h",
            "metadata": {
                "cellIdentifier": "l2n0hpsn2iq7oflb2ezr7h"
            },
            "source": [
                "## P.1C: Volume of solids of revolution\n",
                "\n",
                "### This problem has two parts:\n",
                "\n",
                "- Compute the volume generated by rotating the region about the **x-axis**\n",
                "- Compute the volume generated by rotating the region about the **y-axis**"
            ]
        },
        {
            "cell_type": "code",
            "execution_count": null,
            "id": "yg36yyeymcxj7nugzseoa",
            "metadata": {
                "cellIdentifier": "yg36yyeymcxj7nugzseoa"
            },
            "outputs": [],
            "source": [
                "# Given data\n",
                "a = 2\n",
                "b = 9\n",
                "f(x) = 4 + exp(sin(4*x))\n",
                "g(x) = 0.595 + 0.059*(x - 1)^2\n",
                "\n",
                "###\n",
                "### YOUR CODE HERE\n",
                "###\n",
                "\n",
                "## Uncomment and give answers using the variables, Volume_x and Volume_y\n",
                "##\n",
                "## Volumne when rotated about the x-axis\n",
                "# Volume_x = ??\n",
                "\n",
                "## Volumne when rotated about the y-axis\n",
                "# Volume_y = ??"
            ]
        },
        {
            "cell_type": "code",
            "execution_count": null,
            "id": "h3a61iet3ygbdgrcao9l",
            "metadata": {
                "cellIdentifier": "h3a61iet3ygbdgrcao9l"
            },
            "outputs": [],
            "source": [
                "#= Friendly Check =#\n",
                "# if the value of is_it_correct_checkN is \"Yes\", then your answer is LIKELY correct. \n",
                "# If the value of is_it_correct_checkN is \"No\", then your answer is DEFINITELY wrong\n",
                "\n",
                "is_it_correct_check1c_1 = abs(Volume_x - 506.73958306685466) < 1e-3 ? \"Yes\" : \"No\"\n",
                "is_it_correct_check1c_2 = abs(Volume_y - 687.3700308550001) < 1e-3 ? \"Yes\" : \"No\"\n",
                "\n",
                "@show is_it_correct_check1c_1;\n",
                "@show is_it_correct_check1c_2;"
            ]
        },
        {
            "cell_type": "markdown",
            "id": "gglim6b1z0ugddppqvpa9w",
            "metadata": {
                "cellIdentifier": "gglim6b1z0ugddppqvpa9w"
            },
            "source": [
                "## Practice: Exploring Limits\n",
                "\n",
                "The goal of this section is to practice estimating limits numerically. While the textbook presents at least three different methods, we’ll focus on **just one** here. This technique will help you check the continuity of functions at a specific point.\n",
                "\n",
                "### Notes\n",
                "\n",
                "- The cells related to limits are located further down.\n",
                "- `epsPositive` will be a vector of **exponentially decreasing** values of the form \\( b^{-k} \\), using a specified base \\( b \\)."
            ]
        },
        {
            "cell_type": "code",
            "execution_count": null,
            "id": "yue742x7plpi9wtpbc4vj",
            "metadata": {
                "cellIdentifier": "yue742x7plpi9wtpbc4vj"
            },
            "outputs": [],
            "source": [
                "# Run me. I create a function to build the above list of numbers \n",
                "\n",
                "epsPosFun(b, Nend, Nstart=1) = [float(b)^(-i) for i in Nstart:Nend] # b is the base. Nstart defaults to one\n"
            ]
        },
        {
            "cell_type": "code",
            "execution_count": null,
            "id": "w2wve2whi5bpnwy00r5wn",
            "metadata": {
                "cellIdentifier": "w2wve2whi5bpnwy00r5wn"
            },
            "outputs": [],
            "source": [
                "# Example showing how to estimate at x0 the limit from the left AND the limit from the right\n",
                "\n",
                "f(x) = exp(-1/abs(x-1))    \n",
                "x0 = 1.0\n",
                "\n",
                "epsPositive = epsPosFun(3, 10) # We accept Nstart = 1\n",
                "\n",
                "fLeft  = f.(x0 .- epsPositive) # x0 minus a pos number is to the left of x0\n",
                "fRight = f.(x0 .+ epsPositive) # x0 plus a pos number is to the right of x0\n",
                "\n",
                "println(\"Fairly convincing that the limit from the left AND the limit from the right are both equal to zero.\")\n",
                "display([fLeft fRight])"
            ]
        },
        {
            "cell_type": "code",
            "execution_count": null,
            "id": "3wdq03aeflop77enh1a1v",
            "metadata": {
                "cellIdentifier": "3wdq03aeflop77enh1a1v"
            },
            "outputs": [],
            "source": [
                "# Example showing how to estimate at x0 the limit from the left AND the limit from the right\n",
                "\n",
                "f(x) = sin(1/x)  \n",
                "x0 = 0.0\n",
                "\n",
                "epsPositive = epsPosFun(7.0, 15) \n",
                "\n",
                "fLeft  = f.(x0 .- epsPositive) # x0 minus a pos number is to the left of x0\n",
                "fRight = f.(x0 .+ epsPositive) # x0 plus a pos number is to the right of x0\n",
                "\n",
                "println(\"Note that neither fLeft nor fRight seem to be converging to anything.\")\n",
                "display([fLeft fRight])\n"
            ]
        },
        {
            "cell_type": "markdown",
            "id": "lmmtrgnm5km44ayfcw4ffb",
            "metadata": {
                "cellIdentifier": "lmmtrgnm5km44ayfcw4ffb"
            },
            "source": [
                "Similar things can be done with limits at infinity:\n",
                "\n"
            ]
        },
        {
            "cell_type": "code",
            "execution_count": null,
            "id": "fpkr6zx16va3cn63hut4af",
            "metadata": {
                "cellIdentifier": "fpkr6zx16va3cn63hut4af"
            },
            "outputs": [],
            "source": [
                "# Example showing how to estimate limits at plus and minus infinity in a similar fashion\n",
                "\n",
                "# make posInfty a list of `exponentially increasing` numbers in vector form, with base $b$\n",
                "\n",
                "posInftyFun(b, Nend, Nstart=1) = [b^i for i in Nstart:Nend] # b is the base\n",
                "\n",
                "f(x) = exp(-1/abs(x))    \n",
                "x0 = 0.0\n",
                "\n",
                "posInfty = posInftyFun(10, 10) \n",
                "\n",
                "fNegInfty = f.(x0 .- posInfty) #x0 minus numbers heading to infinity heads to negative infinity\n",
                "fPosInfty = f.(x0 .+ posInfty) #x0 plus numbers heading to infinity heads to positive infinity\n",
                "\n",
                "println(\"Fairly convincing that the limits at negative infinity and positive infinity are both equal to one.\")\n",
                "display([fNegInfty fPosInfty])\n",
                "println(\"To keep the HW a reasonable length, there are no questions on limits at infinity.\")"
            ]
        },
        {
            "cell_type": "code",
            "execution_count": null,
            "id": "d9680a57",
            "metadata": {},
            "outputs": [],
            "source": [
                "# ========== PROBLEM 1 SAMPLE SOLUTION ==========\n",
                "# You can use this as a reference to check your answer.\n",
                "\n",
                "### 1A BEGIN SOLUTION\n",
                "function myAreaBetweenFandG(f, g, a, b)\n",
                "    h(x) = f(x) - g(x)\n",
                "    integral, error = quadgk(h, a, b)    \n",
                "    return integral\n",
                "end\n",
                "### 1A END SOLUTION\n",
                "\n",
                "### 1B BEGIN SOLUTION\n",
                "xCoM, yCoM = (4.835517891477395, 3.564816925741804)     # Method not provided\n",
                "### 1B END SOLUTION \n",
                "\n",
                "### 1C BEGIN SOLUTION\n",
                "Volume_x, Volume_y = (506.73958306685466, 687.3700308550001)    # Method not provided\n",
                "### 1C END SOLUTION"
            ]
        },
        {
            "cell_type": "code",
            "execution_count": null,
            "id": "fabfed4c",
            "metadata": {},
            "outputs": [],
            "source": [
                "# ====================================================\n",
                "# 🔒 GRADER CELL — Problem 1 (Do Not Edit)\n",
                "# ====================================================\n",
                "# This cell required previous Friendly checks to be run first.\n",
                "# Please run this cell before going to the next problem to avoid variable errors.\n",
                "\n",
                "point_1A = is_it_correct_check1a_1 == \"Yes\" && is_it_correct_check1a_2 == \"Yes\" ? 1 : 0\n",
                "point_1B = is_it_correct_check1b_1 == \"Yes\" && is_it_correct_check1b_2 == \"Yes\" ? 1 : 0\n",
                "point_1C = is_it_correct_check1c_1 == \"Yes\" && is_it_correct_check1c_2 == \"Yes\" ? 1 : 0\n",
                "total_score_1 = point_1A + point_1B + point_1C\n",
                "\n",
                "# Show score\n",
                "println(\"Problem 1 Score: $total_score_1 / 3\")"
            ]
        },
        {
            "cell_type": "markdown",
            "id": "1eew5yk5og49bqvuxwkfc8",
            "metadata": {
                "cellIdentifier": "1eew5yk5og49bqvuxwkfc8"
            },
            "source": [
                "# Problem 2: Continuity at a Point\n",
                "\n",
                "In the following cells, we provide a function and a point `x0`.  \n",
                "Your task is to determine whether the function is **continuous** at `x0` or not.\n",
                "\n",
                "Please read the proposition below carefully before answering.\n",
                "\n",
                "For the next three questions, uncomment the correct answer.  \n",
                "\n",
                "- `Ans123 = \"Continuous\"`\n",
                "- `Ans123 = \"Discontinuous\"`\n",
                "\n",
                "> **Note:** The functions may be intentionally written in a form that disguises their behavior near the point.\n",
                "\n",
                "<br>\n",
                "\n",
                "<p align=\"center\">\n",
                "  <img src=\"data/HW04ContinuityAtPoints.png\" width=\"70%\">\n",
                "</p>\n",
                "\n",
                "<br>\n",
                "\n",
                "## P.2A\n"
            ]
        },
        {
            "cell_type": "code",
            "execution_count": null,
            "id": "gh16zhzlwgw0223murn8b",
            "metadata": {
                "cellIdentifier": "gh16zhzlwgw0223murn8b"
            },
            "outputs": [],
            "source": [
                "x0 = 0.0\n",
                "f1(x) = x > 0 ? x^2 * 5 : -x * (7 + abs(x)) + 1\n",
                "\n",
                "\n",
                "# Do your work here and then choose the correct answer at the bottom of the cell\n",
                "\n",
                "###\n",
                "### YOUR CODE HERE\n",
                "###\n",
                "\n",
                "##  Uncomment the correct answer\n",
                "# Ans1 = \"Continuous\"\n",
                "# Ans1 = \"Discontinuous\""
            ]
        },
        {
            "cell_type": "markdown",
            "id": "4tgpqwxta2a7silc48733u",
            "metadata": {
                "cellIdentifier": "4tgpqwxta2a7silc48733u"
            },
            "source": [
                "## P.2B"
            ]
        },
        {
            "cell_type": "code",
            "execution_count": null,
            "id": "05ccwapth88eani4w31fj5k",
            "metadata": {
                "cellIdentifier": "05ccwapth88eani4w31fj5k"
            },
            "outputs": [],
            "source": [
                "x0 = sqrt(pi)\n",
                "\n",
                "function f2(x)\n",
                "    # You are not supposed to understand what I do by just looking at me\n",
                "    # You should use numerical computations\n",
                "    if isapprox(x, x0; atol=1e-8)\n",
                "        return 1e6  # or any large constant that breaks continuity\n",
                "    end\n",
                "    y0 = (exp(sin(x^2 + pi)) * exp(cos(x^2 - pi))) * \n",
                "        tanh(x + sqrt(pi)) / sqrt(abs(x^4 + 2*x^2 + exp(-x) - (x^2 + exp(x))^2)) *\n",
                "        0.5 * log(pi + x^2) * sinh(x - 0.5 * log(pi)) * \n",
                "        sum([sin(z*pi/2 + x) for z in 1:2:10]) *\n",
                "        prod([cos(j)^2 + sin(j)^2 - j for j in 1:5])\n",
                "    # Conditional logic\n",
                "    if x^2 < y0 + pi + sin(sqrt(pi) * x)\n",
                "        y1 = exp(y0 + cos(x - sqrt(pi)))\n",
                "    else\n",
                "        y1 = exp(-y0 - sin(x + sqrt(pi)))\n",
                "    end\n",
                "    # Additional non-linear components\n",
                "    if y1 > cos(x^4 + sqrt(pi)) - 1\n",
                "        y2 = 1 / (x + 2 + sin(x + sqrt(pi)))\n",
                "    else\n",
                "        y2 = tan(pi/4 + cos(x - sqrt(pi)))\n",
                "    end\n",
                "    # Final output calculation\n",
                "    y3 = abs(y0)^((tan(1 + abs(y1)^(y2^2)/1e3))) + (x - exp(x + sqrt(pi)))^2\n",
                "    return y3 > 1 ? y3 : 0\n",
                "end\n",
                "\n",
                "# Do your work here and then choose the correct answer at the bottom of the cell\n",
                "\n",
                "###\n",
                "### YOUR CODE HERE\n",
                "###\n",
                "\n",
                "##  Uncomment the correct answer\n",
                "# Ans2 = \"Continuous\"\n",
                "# Ans2 = \"Discontinuous\"\n"
            ]
        },
        {
            "cell_type": "markdown",
            "id": "7fnm46logcmjp55xymi1fh",
            "metadata": {
                "cellIdentifier": "7fnm46logcmjp55xymi1fh"
            },
            "source": [
                "## P.2C"
            ]
        },
        {
            "cell_type": "code",
            "execution_count": null,
            "id": "pgaj07jemxs9bc9ktb7z1u",
            "metadata": {
                "cellIdentifier": "pgaj07jemxs9bc9ktb7z1u"
            },
            "outputs": [],
            "source": [
                "x0 = 10.0\n",
                "\n",
                "function f3(x)\n",
                "    part1 = tanh(x - x0) * log(x^2 + 1)\n",
                "    part2 = exp(-abs(x - x0)) * sin(x / 2)\n",
                "    part3 = sqrt(x^2 + 1) * cos(x - x0)\n",
                "    y = part1 + part2 + part3\n",
                "    return abs(y) > 1 ? 1 : y\n",
                "end\n",
                "\n",
                "# Do your work here and then choose the correct answer at the bottom of the cell\n",
                "\n",
                "###\n",
                "### YOUR CODE HERE\n",
                "###\n",
                "\n",
                "##  Uncomment the correct answer\n",
                "# Ans3 = \"Continuous\"\n",
                "# Ans3 = \"Discontinuous\""
            ]
        },
        {
            "cell_type": "code",
            "execution_count": null,
            "id": "qmni4s7urlfj77ztz0la7",
            "metadata": {
                "cellIdentifier": "qmni4s7urlfj77ztz0la7",
                "nbgrader": {
                    "grade": true,
                    "grade_id": "P02C",
                    "locked": true,
                    "points": "1",
                    "solution": false
                }
            },
            "outputs": [],
            "source": [
                "#= Friendly Check =#\n",
                "\n",
                "# Correct answers\n",
                "CorrectAnswers = [\"Discontinuous\", \"Discontinuous\", \"Continuous\"]\n",
                "YourAnswers = [Ans1, Ans2, Ans3]\n",
                "\n",
                "# Count how many are correct\n",
                "num_correct_2 = sum(YourAnswers .== CorrectAnswers)\n",
                "\n",
                "println(\"You got $num_correct out of 3 correct.\")"
            ]
        },
        {
            "cell_type": "code",
            "execution_count": null,
            "id": "10388f90",
            "metadata": {},
            "outputs": [],
            "source": [
                "# ====================================================\n",
                "# 🔒 GRADER CELL — Problem 2 (Do Not Edit)\n",
                "# ====================================================\n",
                "# This cell required previous Friendly checks to be run first.\n",
                "# Please run this cell before going to the next problem to avoid variable errors.\n",
                "# SAMPLE SOLUTION ==> check the CorrectAnswers variable in the Friendly Check above\n",
                "\n",
                "total_score_2 = num_correct_2/2\n",
                "\n",
                "# Show score\n",
                "println(\"Problem 2 Score: $total_score_2 / 1.5\")"
            ]
        },
        {
            "cell_type": "markdown",
            "id": "lfwukle6azk00kst03w4fapq",
            "metadata": {
                "cellIdentifier": "lfwukle6azk00kst03w4fapq"
            },
            "source": [
                "# Problem 3: Squeeze Theorem\n",
                "\n",
                "<p align=\"center\">\n",
                "  <img src=\"data/HW04SqueezeTheorem.png\" width=\"70%\">\n",
                "</p>\n",
                "\n",
                "\n",
                "### Notes\n",
                "\n",
                "In the following problems, you'll explore the Squeeze Theorem using the function:\n",
                "\n",
                "$$\n",
                "g(x) := \\frac{\\sin(x)}{x}\n",
                "$$\n",
                "\n",
                "You will be given pairs of functions $f(x)$ and $h(x)$ that may or may not allow you to apply the Squeeze Theorem to prove:\n",
                "\n",
                "$$\n",
                "\\lim_{x \\to 0} \\left( \\frac{\\sin(x)}{x} \\right) = 1\n",
                "$$\n",
                "\n",
                "### Instructions\n",
                "\n",
                "- $f(x)$ must be a **lower bound** for $g(x)$\n",
                "- $h(x)$ must be an **upper bound** for $g(x)$\n",
                "- You are to decide whether each pair $f(x)$, $h(x)$ satisfies the conditions of the proposition\n",
                "\n",
                "**Ignore** inequality violations smaller than 1e-5, as they are negligible compared to the target limit value of 1.\n",
                "\n",
                "<br>\n",
                "\n",
                "**Hint:** A full symbolic (analytical) proof is not expected at this stage — you're encouraged to test numerically. Here's a helpful setup for generating test values centered around zero:\n",
                "\n",
                "```julia\n",
                "epsPositive = epsPosFun(2, 16, 4)\n",
                "epsPlusMinus = [-epsPositive; reverse(epsPositive)]\n",
                "\n",
                "g(x) = tan(x) / x  # example, not your actual problem\n",
                "gValues = g.(epsPlusMinus)\n",
                "\n",
                "using Plots\n",
                "plot(epsPlusMinus, gValues)\n",
                "```\n",
                "\n",
                "<br>\n",
                "\n",
                "## P.3A\n"
            ]
        },
        {
            "cell_type": "code",
            "execution_count": null,
            "id": "6azwzf3zewze5kfut3lmh",
            "metadata": {
                "cellIdentifier": "6azwzf3zewze5kfut3lmh"
            },
            "outputs": [],
            "source": [
                "g(x) = (sin(x))/x\n",
                "\n",
                "# Proposed bounding functions\n",
                "f(x) = 1 - x^2\n",
                "h(x) = 1 + x"
            ]
        },
        {
            "cell_type": "code",
            "execution_count": null,
            "id": "xdzppguo5bj7qrdtdbelxu",
            "metadata": {
                "cellIdentifier": "xdzppguo5bj7qrdtdbelxu"
            },
            "outputs": [],
            "source": [
                "# Your computations below here. Uncomment the correct answer\n",
                "# at the bottom of the cell \n",
                "\n",
                "###\n",
                "### YOUR CODE HERE\n",
                "###\n",
                "\n",
                "\n",
                "# # f(x) and h(x) satisfy the conditions of the Squeeze Theorem\n",
                "# Answer1 = true\n",
                "# Answer1 = false\n"
            ]
        },
        {
            "cell_type": "markdown",
            "id": "e8w0fm3hzhryaq1su4fte",
            "metadata": {
                "cellIdentifier": "e8w0fm3hzhryaq1su4fte"
            },
            "source": [
                "## P.3B"
            ]
        },
        {
            "cell_type": "code",
            "execution_count": null,
            "id": "9uq76or3atmc4jesxqh68s",
            "metadata": {
                "cellIdentifier": "9uq76or3atmc4jesxqh68s"
            },
            "outputs": [],
            "source": [
                "g(x) = (sin(x))/x\n",
                "\n",
                "# Proposed bounding functions\n",
                "f(x) = cos(x)\n",
                "h(x) = 1"
            ]
        },
        {
            "cell_type": "code",
            "execution_count": null,
            "id": "ems6hhueeqdkpc3grx2ld",
            "metadata": {
                "cellIdentifier": "ems6hhueeqdkpc3grx2ld"
            },
            "outputs": [],
            "source": [
                "# Your computations below here. Uncomment the correct answer\n",
                "# at the bottom of the cell\n",
                "\n",
                "###\n",
                "### YOUR CODE HERE\n",
                "###\n",
                "\n",
                "\n",
                "# # f(x) and h(x) satisfy the conditions of the Squeeze Theorem\n",
                "# Answer2 = true\n",
                "# Answer2 = false"
            ]
        },
        {
            "cell_type": "code",
            "execution_count": null,
            "id": "dd5dd049",
            "metadata": {},
            "outputs": [],
            "source": [
                "#= Friendly Check =#\n",
                "\n",
                "# Correct answers\n",
                "CorrectAnswers = [0,1]\n",
                "YourAnswers = [Answer1, Answer2]\n",
                "\n",
                "# Count how many are correct\n",
                "num_correct_3 = sum(YourAnswers .== CorrectAnswers)\n",
                "\n",
                "println(\"You got $num_correct_3 out of 2 correct.\")"
            ]
        },
        {
            "cell_type": "code",
            "execution_count": null,
            "id": "58cae617",
            "metadata": {},
            "outputs": [],
            "source": [
                "# ====================================================\n",
                "# 🔒 GRADER CELL — Problem 3 (Do Not Edit)\n",
                "# ====================================================\n",
                "# This cell required previous Friendly checks to be run first.\n",
                "# Please run this cell before going to the next problem to avoid variable errors.\n",
                "# SAMPLE SOLUTION ==> check the CorrectAnswers variable in the Friendly Check above\n",
                "\n",
                "total_score_3 = num_correct_3/2\n",
                "\n",
                "# Show score\n",
                "println(\"Problem 3 Score: $total_score_3 / 1\")"
            ]
        },
        {
            "cell_type": "markdown",
            "id": "jhzwtrt1m71094eliosoa",
            "metadata": {
                "cellIdentifier": "jhzwtrt1m71094eliosoa"
            },
            "source": [
                "# Problem 4: Symbolic Differentiation\n",
                "\n",
                "The textbook introduces three methods for computing derivatives using software. In this problem, we'll use one of them: **symbolic differentiation**.\n",
                "\n",
                "**Note:** Since we’ve already used `f(x)` earlier in this notebook as a regular Julia function, we **can’t easily reuse that name** for symbolic purposes.\n",
                "\n",
                "You have two options:\n",
                "- Use a different name (e.g., an uppercase letter like `F`)\n",
                "- Use Julia modules to isolate names (explained later in the notebook)\n",
                "\n",
                "For now, we’ll keep it simple and just use **uppercase function names** for symbolic work."
            ]
        },
        {
            "cell_type": "code",
            "execution_count": null,
            "id": "3tihhaxjamx563iokfjh28",
            "metadata": {
                "cellIdentifier": "3tihhaxjamx563iokfjh28"
            },
            "outputs": [],
            "source": [
                "using Symbolics \n",
                "\n",
                "# Create a custom function to make differentiation convenient\n",
                "function deriv(F, x)\n",
                "    return expand_derivatives(Differential(x)(F))\n",
                "end\n",
                "\n",
                "# Sample Usage\n",
                "@variables x # Makes x a symbolic variable\n",
                "# Note that in Julia, log is the natural log\n",
                "F = x^3*cos(x) + x^2*sin(x)^2 + log(3x) # Note we did not say F(x) =, just F = \n",
                "dFdx = deriv(F, x)\n",
                "println(dFdx)\n",
                "dFdx"
            ]
        },
        {
            "cell_type": "code",
            "execution_count": null,
            "id": "ezfc61b328q2p3cgfi91ld",
            "metadata": {
                "cellIdentifier": "ezfc61b328q2p3cgfi91ld"
            },
            "outputs": [],
            "source": [
                "# We can create a function quite easily by copying the printed output of dFdx\n",
                "# and pasting it into a Julia function environment as shown below\n",
                "\n",
                "mydFdx(x) =  1 / x + 3(x^2)*cos(x) + 2x*(sin(x)^2) - (x^3)*sin(x) + 2(x^2)*sin(x)*cos(x)\n",
                "\n",
                "# The textbook shows you how to so this more elegantly, but this is super straightforward \n",
                "# and pretty much fool proof.\n",
                " \n",
                "mydFdx(π)"
            ]
        },
        {
            "cell_type": "markdown",
            "id": "g7ssds1opf5yqvyh9j93q7",
            "metadata": {
                "cellIdentifier": "g7ssds1opf5yqvyh9j93q7"
            },
            "source": [
                "## P.4A\n",
                "\n",
                "Create a Julia function for the first derivative of $G(y)=\\frac{y^3 -1}{\\cos^4(y) + 4 \\sin(y) - 9}$. Name your function `mydGdy`.\n",
                "\n",
                "**Note:** You need to create a new symbolic variable for `y`."
            ]
        },
        {
            "cell_type": "code",
            "execution_count": null,
            "id": "dscvlistt4a9xftw0ucr9",
            "metadata": {
                "cellIdentifier": "dscvlistt4a9xftw0ucr9"
            },
            "outputs": [],
            "source": [
                "# Your answer here\n",
                "\n",
                "#mydGdy(y) =\n",
                "\n",
                "###\n",
                "### YOUR CODE HERE\n",
                "###"
            ]
        },
        {
            "cell_type": "markdown",
            "id": "r40dd0zz630uuctn6qp0d",
            "metadata": {
                "cellIdentifier": "r40dd0zz630uuctn6qp0d"
            },
            "source": [
                "# P.4B\n",
                "\n",
                "Create a Julia function for the first derivative of $H(x)=\\arctan(\\ln(15x+\\sin(x^3)))$. Name your function `mydHdx`."
            ]
        },
        {
            "cell_type": "code",
            "execution_count": null,
            "id": "rk4xpofhtzkuu8e2ijx9",
            "metadata": {
                "cellIdentifier": "rk4xpofhtzkuu8e2ijx9"
            },
            "outputs": [],
            "source": [
                "# Your answer here\n",
                "\n",
                "#mydHdx(x) =\n",
                "\n",
                "###\n",
                "### YOUR CODE HERE\n",
                "###"
            ]
        },
        {
            "cell_type": "markdown",
            "id": "q2f4907yxva04gxrky1q8m6",
            "metadata": {
                "cellIdentifier": "q2f4907yxva04gxrky1q8m6"
            },
            "source": [
                "## P.4C\n",
                "Create a Julia function for the first derivative of $K(x) = (x + 2)^5 \\cdot \\left( \\sin(x) + \\cos(x) \\right)^3 \\cdot \\exp\\left( \\arctan^2(x) \\right)\n",
                " $. Name your function `mydKdx`."
            ]
        },
        {
            "cell_type": "code",
            "execution_count": null,
            "id": "lxwu8sr8qbp9k55sq5614e",
            "metadata": {
                "cellIdentifier": "lxwu8sr8qbp9k55sq5614e"
            },
            "outputs": [],
            "source": [
                "# Your answer here\n",
                "\n",
                "#mydKdx(x) =\n",
                "\n",
                "###\n",
                "### YOUR CODE HERE\n",
                "###"
            ]
        },
        {
            "cell_type": "code",
            "execution_count": null,
            "id": "mmwsyvvtrum3g5fh5phkzr",
            "metadata": {
                "cellIdentifier": "mmwsyvvtrum3g5fh5phkzr",
                "nbgrader": {
                    "grade": true,
                    "grade_id": "P04C",
                    "locked": true,
                    "points": "1",
                    "solution": false
                }
            },
            "outputs": [],
            "source": [
                "#= Friendly Check =#\n",
                "Test1 = mydGdy(ℯ)\n",
                "Test2 = mydHdx(pi)\n",
                "Test3 = mydKdx(pi)\n",
                "\n",
                "# if the value of is_it_correct_checkN is \"Yes\", then your answer is LIKELY correct. \n",
                "# If the value of is_it_correct_checkN is \"No\", then your answer is DEFINITELY wrong\n",
                "\n",
                "is_it_correct_check4a = abs(Test1 + 2.293903333923857) < 1e-6 ? \"Yes\" : \"No\"\n",
                "is_it_correct_check4b = abs(Test2 - 0.05718304848515436) < 1e-6 ? \"Yes\" : \"No\"\n",
                "is_it_correct_check4c = abs(Test3 + 74403.99527877166) < 1e-6 ? \"Yes\" : \"No\"\n",
                "\n",
                "@show is_it_correct_check4a\n",
                "@show is_it_correct_check4b\n",
                "@show is_it_correct_check4c\n"
            ]
        },
        {
            "cell_type": "code",
            "execution_count": null,
            "id": "0d18e91e",
            "metadata": {},
            "outputs": [],
            "source": [
                "# ========== PROBLEM 4 SAMPLE SOLUTION ==========\n",
                "# You can use this as a reference to check your answer.\n",
                "\n",
                "### 4A BEGIN SOLUTION\n",
                "mydGdy(y) = (3(y^2)) / (-9 + 4sin(y) + cos(y)^4) - (4cos(y) - 4(cos(y)^3)*sin(y))*((-1 + y^3) / ((-9 + 4sin(y) + cos(y)^4)^2))\n",
                "### 4A END SOLUTION\n",
                "\n",
                "### 4B BEGIN SOLUTION\n",
                "mydHdx(x) = (15 + 3(x^2)*cos(x^3)) / ((15x + sin(x^3))*(1 + log(15x + sin(x^3))^2))\n",
                "### 4B END SOLUTION\n",
                "\n",
                "### 4C BEGIN SOLUTION\n",
                "mydKdx(x) = (2((2 + x)^5)*((sin(x) + cos(x))^3)*exp(atan(x)^2)*atan(x)) / (1 + x^2) + 5((2 + x)^4)*((sin(x) + cos(x))^3)*exp(atan(x)^2) + 3((2 + x)^5)*(-sin(x) + cos(x))*((sin(x) + cos(x))^2)*exp(atan(x)^2)\n",
                "### 4C END SOLUTION"
            ]
        },
        {
            "cell_type": "code",
            "execution_count": null,
            "id": "86d4bebe",
            "metadata": {},
            "outputs": [],
            "source": [
                "# ====================================================\n",
                "# 🔒 GRADER CELL — Problem 4 (Do Not Edit)\n",
                "# ====================================================\n",
                "# This cell required previous Friendly checks to be run first.\n",
                "# Please run this cell before going to the next problem to avoid variable errors.\n",
                "\n",
                "point_4A = is_it_correct_check4a == \"Yes\" ? 1 : 0\n",
                "point_4B = is_it_correct_check4b == \"Yes\" ? 1 : 0\n",
                "point_4C = is_it_correct_check4c == \"Yes\" ? 1 : 0\n",
                "total_score_4 = point_4A + point_4B + point_4C\n",
                "\n",
                "# Show score\n",
                "println(\"Problem 4 Score: $total_score_4 / 3\")"
            ]
        },
        {
            "cell_type": "code",
            "execution_count": null,
            "id": "fa721e33",
            "metadata": {},
            "outputs": [],
            "source": [
                "# ======= Final Score Summary ======= #\n",
                "# You have to run all previous grader cells to get the final score summary.\n",
                "total_score = total_score_1 + total_score_2 + total_score_3 + total_score_4\n",
                "\n",
                "println(\"🎉🎯 Final Score Summary 🎯🎉\")\n",
                "println(\"────────────────────────────\")\n",
                "println(\"Problem 1: $total_score_1\")\n",
                "println(\"Problem 2: $total_score_2\")\n",
                "println(\"Problem 3: $total_score_3\")\n",
                "println(\"Problem 4: $total_score_4\")\n",
                "println(\"────────────────────────────\")\n",
                "println(\"🏆 Total Score: $total_score / 8.5\")"
            ]
        },
        {
            "cell_type": "markdown",
            "id": "kvy4zb0az1fwjtjh59y8o",
            "metadata": {
                "cellIdentifier": "kvy4zb0az1fwjtjh59y8o"
            },
            "source": [
                "## Understanding Modules\n",
                "\n",
                "Modules are a powerful feature in Julia (and many other programming languages) that help organize and structure your code. They’re especially useful in larger projects where keeping things clean, readable, and free of naming conflicts becomes important. If you're heading into an internship or working on collaborative code, understanding modules is a great skill to have.\n",
                "\n",
                "Here’s a straightforward way to understand modules: imagine you’re writing a story with two characters named Alex. One lives in the mountains, and the other in the city. To keep things clear, you refer to them as *Alex from the mountains* and *Alex from the city*. In programming, modules work the same way: they help distinguish between things that would otherwise have the same name.\n",
                "\n",
                "A **module** in Julia (and other programming languages) is like a big container or a folder that holds related functions, variables, types, and even other modules. Each module has its own namespace, meaning that everything you define inside a module is known only by its name within that module, just like how \"Alex from the mountains\" is known within the context of the mountains.\n",
                "\n",
                "#### Why Use Modules?\n",
                "\n",
                "1. Modules let you define functions or variables with the same name in different contexts without causing errors avoiding name conflicts.\n",
                "\n",
                "2. Group related functions and data together for better readability and maintainability.\n",
                "\n",
                "3. Once you write a useful module, you can reuse it in other projects or share it with others.\n",
                "\n",
                "\n",
                "#### How to Define a Module\n",
                "\n",
                "In Julia, you define a module using the `module` keyword followed by the name of the module and the code block containing its definitions. Here's a simple example:\n",
                "\n",
                "```julia\n",
                "module MyMath\n",
                "\n",
                "export add, subtract\n",
                "\n",
                "add(x, y) = x + y\n",
                "subtract(x, y) = x - y\n",
                "\n",
                "end\n",
                "```\n",
                "\n",
                "In this example, `MyMath` is a module that contains two functions, `add` and `subtract`. The `export` statement makes these functions available outside the module, so others can use them without needing to know how they're implemented.\n",
                "\n",
                "#### Using Modules\n",
                "\n",
                "To use a module, you simply `import` or `using` it in your Julia script or session. This makes the exported functions and types from the module available for use:\n",
                "\n",
                "```julia\n",
                "using MyMath\n",
                "\n",
                "println(add(5, 3))  # Outputs: 8\n",
                "```\n",
                "\n",
                "Modules in Julia provide a structured way to organize your code into logical units, making it easier to manage, understand, and share. By encapsulating related functions and variables within modules, you effectively create a clean and organized codebase that's easier to navigate and maintain."
            ]
        },
        {
            "cell_type": "markdown",
            "id": "5cd228ad",
            "metadata": {},
            "source": [
                "\n",
                "<p align=\"center\" style=\"font-size:48px;\"><strong>The End! </strong></p>\n",
                "\n",
                "\n",
                "\n",
                "\n"
            ]
        }
    ],
    "metadata": {
        "@webio": {
            "lastCommId": null,
            "lastKernelId": null
        },
        "kernel_id": "b28fb701-e68d-4d22-ba2f-34ff39832fef",
        "kernelspec": {
            "display_name": "Julia 1.10.5",
            "language": "julia",
            "name": "julia-1.10"
        },
        "language_info": {
            "file_extension": ".jl",
            "mimetype": "application/julia",
            "name": "julia",
            "version": "1.10.5"
        }
    },
    "nbformat": 4,
    "nbformat_minor": 5
}
