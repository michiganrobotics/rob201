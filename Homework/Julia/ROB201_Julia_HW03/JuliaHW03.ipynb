{
    "cells": [
        {
            "cell_type": "markdown",
            "metadata": {},
            "source": [
                "University of Michigan - ROB 201 Calculus for the Modern Engineer\n",
                "\n",
                "---"
            ]
        },
        {
            "cell_type": "markdown",
            "id": "uj0erjami7biq2n365ia6",
            "metadata": {
                "cellIdentifier": "uj0erjami7biq2n365ia6"
            },
            "source": [
                "# Julia HW03: Chapters 3.1.2-3.3.4 \n",
                "\n",
                "### Topics Covered\n",
                "- Riemann Lower-Upper Sums vs Closed-form Solutions\n",
                "- Numerical Methods\n",
                "  - Trapezoidal Rule\n",
                "  - Error Estimation\n",
                "  - Simpson's Rule\n",
                "- Generalized Additivity of the Riemann Integral\n",
                "\n",
                "<br>\n",
                "\n",
                "<p align=\"center\">\n",
                "  <img src=\"data/HW03SurfingWaveSmall.png\", width=\"70%\">\n",
                "</p>\n",
                "\n",
                "> The integral of speed is position! In a car, the faster you go, as reported by the speedometer, the farther you travel, as reported by the odometer. Surfing, if your current wave is triple the speed of your previous wave, you'll travel three times farther in the same amount of time. Makes sense?"
            ]
        },
        {
            "cell_type": "markdown",
            "id": "1w5a41qjm31mpsinz4oxl",
            "metadata": {
                "cellIdentifier": "1w5a41qjm31mpsinz4oxl"
            },
            "source": [
                "# Problem 1: Exact Integrals for Monomials and Polynomials\n",
                "\n",
                "## P.1A: Monomials\n",
                "Write a function that computes the exact value of $\\int_a^b x^k dx$ where $k\\ge 0$ is an integer. Your function should work for both $a \\ge b$ and $a < b$.\n",
                "\n",
                "**Hint:** Read Chapter 3 on integrating monomials."
            ]
        },
        {
            "cell_type": "code",
            "execution_count": null,
            "id": "3arwpdcie4lt63fpva2yxp",
            "metadata": {
                "cellIdentifier": "3arwpdcie4lt63fpva2yxp"
            },
            "outputs": [],
            "source": [
                "# Build your function here by filling in any missing lines\n",
                "\n",
                "function exactMonomialIntegrator(k, a, b)\n",
                "    # k = degree of monomial\n",
                "    # a = lower limit and b = upper limit\n",
                "    if k < 0\n",
                "        k = 0\n",
                "    end\n",
                "    k = floor(Int64, k) # make sure k is an integer\n",
                "\n",
                "    ###\n",
                "    ### YOUR CODE HERE\n",
                "    ###\n",
                "\n",
                "    return intAtoB\n",
                "end"
            ]
        },
        {
            "cell_type": "code",
            "execution_count": null,
            "id": "53vfbnbazgp13fd62lgq38g",
            "metadata": {
                "cellIdentifier": "53vfbnbazgp13fd62lgq38g"
            },
            "outputs": [],
            "source": [
                "#= Friendly Check =#\n",
                "# if the value of is_it_correct_checkN is \"Yes\", then your answer is LIKELY correct. \n",
                "# If the value of is_it_correct_checkN is \"No\", then your answer is DEFINITELY wrong\n",
                "#\n",
                "intAtoB1 = exactMonomialIntegrator(5, -4.0, 3.0)\n",
                "intAtoB2 = exactMonomialIntegrator(3, -2, 8.0)\n",
                "\n",
                "# Run Tests\n",
                "is_it_correct_check1a_1 = abs(intAtoB1 + 561.1666666666666) < 1e-6 ? \"Yes\" : \"No\"\n",
                "is_it_correct_check1a_2 = abs(intAtoB2 - 1020.0) < 1e-6 ? \"Yes\" : \"No\"\n",
                "\n",
                "@show is_it_correct_check1a_1;\n",
                "@show is_it_correct_check1a_2;"
            ]
        },
        {
            "cell_type": "markdown",
            "id": "yxrywgvf0f7s222y0up7q",
            "metadata": {
                "cellIdentifier": "yxrywgvf0f7s222y0up7q"
            },
            "source": [
                "## P.1B: Polynomials\n",
                "\n",
                "Write a function that computes the exact value of \n",
                "$$ \\int_a^b \\left( \\alpha_n x^n + \\alpha_{n-1} x^{n-1} + \\cdots + \\alpha_1 x + \\alpha_0\\right) dx $$ \n",
                "\n",
                "where $n \\ge 0$ is an integer, and $a$ and $b$ are finite real numbers. Your function should work for both $a \\ge b$ and $a < b$.\n",
                "\n",
                "**Hint:** Read Chapter 3 on integrals of linear combinations of functions.\n",
                "\n",
                "**Note:** You can assume that polyCoeff[k] = $\\alpha_{n+1-k}$ for $ 1 \\le k \\le (n+1)$. Recall that Julia is 1-indexed. Hence, the first entry of polyCoeff is $\\alpha_n$ which goes with $x^n$ and the last entry is $\\alpha_0$ which goes with $x^0$. "
            ]
        },
        {
            "cell_type": "code",
            "execution_count": null,
            "id": "511i07iwa8oor5rz6x1l6d",
            "metadata": {
                "cellIdentifier": "511i07iwa8oor5rz6x1l6d"
            },
            "outputs": [],
            "source": [
                "# Build your function here by filling in any missing lines\n",
                "\n",
                "function exactPolynomialIntegrator(polyCoeff, a, b)\n",
                "    # polyCoeff = [alpha_n; alpha_{n-1}; ...; alpha_1; alpha_0]\n",
                "    # a = lower limit and b = upper limit\n",
                "    n = length(polyCoeff) - 1\n",
                "    if n < 0\n",
                "        return NaN\n",
                "    end\n",
                "    intAtoB = 0.0\n",
                "\n",
                "    ###\n",
                "    ### YOUR CODE HERE\n",
                "    ###\n",
                "\n",
                "    return intAtoB\n",
                "end"
            ]
        },
        {
            "cell_type": "code",
            "execution_count": null,
            "id": "2427mkogbp1m0o13yy3ie",
            "metadata": {
                "cellIdentifier": "2427mkogbp1m0o13yy3ie"
            },
            "outputs": [],
            "source": [
                "#= Friendly Check =#\n",
                "# if the value of is_it_correct_checkN is \"Yes\", then your answer is LIKELY correct. \n",
                "# If the value of is_it_correct_checkN is \"No\", then your answer is DEFINITELY wrong\n",
                "#\n",
                "polyCoeff = [3 2 1]\n",
                "a, b = (0, 1)\n",
                "intAtoB01 = exactPolynomialIntegrator(polyCoeff, a, b)\n",
                "if abs(intAtoB01 - 4.333333333333333) < 1e-3\n",
                "    println(\"You are interpreting the vector polyCoeff backward: the first \n",
                "             entry goes with x^n and not x^0. \\n\")\n",
                "end\n",
                "# Run Tests\n",
                "is_it_correct_check1b = abs(intAtoB01 - 3.0) < 1e-6 ? \"Yes\" : \"No\"\n",
                "@show is_it_correct_check1b;"
            ]
        },
        {
            "cell_type": "code",
            "execution_count": null,
            "metadata": {},
            "outputs": [],
            "source": [
                "# ========== PROBLEM 1 SAMPLE SOLUTION ==========\n",
                "# You can use this as a reference to check your answer.\n",
                "\n",
                "### 1A BEGIN SOLUTION\n",
                "function exactMonomialIntegrator(k, a, b)\n",
                "    if k < 0\n",
                "        k = 0\n",
                "    end\n",
                "    k = floor(Int64, k)\n",
                "    intAtoB = (b^(k + 1) - a^(k + 1)) / (k + 1.0)\n",
                "    return intAtoB\n",
                "end\n",
                "### 1A END SOLUTION\n",
                "\n",
                "### 1B BEGIN SOLUTION\n",
                "function exactPolynomialIntegrator(polyCoeff, a, b)\n",
                "    n = length(polyCoeff) - 1\n",
                "    if n < 0\n",
                "        return NaN\n",
                "    end\n",
                "    intAtoB = 0.0\n",
                "    for k = 1:(n+1)\n",
                "        temp = exactMonomialIntegrator(n + 1 - k, a, b)\n",
                "        intAtoB += polyCoeff[k] * temp\n",
                "    end\n",
                "    return intAtoB\n",
                "end\n",
                "### 1B END SOLUTION"
            ]
        },
        {
            "cell_type": "code",
            "execution_count": null,
            "metadata": {},
            "outputs": [],
            "source": [
                "# ====================================================\n",
                "# 🔒 GRADER CELL — Problem 1 (Do Not Edit)\n",
                "# ====================================================\n",
                "# This cell required previous Friendly checks to be run first.\n",
                "# Please run this cell before going to the next problem to avoid variable errors.\n",
                "\n",
                "point_1A = is_it_correct_check1a_1 == \"Yes\" && is_it_correct_check1a_2 == \"Yes\" && abs(exactMonomialIntegrator(0, -5, 5) - 10) < 1e-2 ? 1 : 0\n",
                "point_1B = is_it_correct_check1b == \"Yes\" && abs(exactPolynomialIntegrator([1, 2, 3], 0, 1) - 4.33333) < 1e-2 ? 1 : 0\n",
                "total_score_1 = point_1A + point_1B\n",
                "\n",
                "# Show score\n",
                "println(\"Problem 1 Score: $total_score_1 / 2\")"
            ]
        },
        {
            "cell_type": "markdown",
            "id": "0hau9hqmlwf6khmu46q15af",
            "metadata": {
                "cellIdentifier": "0hau9hqmlwf6khmu46q15af"
            },
            "source": [
                "# Problem 2: Comparing Standard Riemann Integration Based on Rectangles to Exact Values for Polynomials\n",
                "\n",
                "### Notes\n",
                "```julia\n",
                "function myRiemannIntegralValueAndError(f, a, b, N, aTol=1e-6)\n",
                "    # Works for b < a \n",
                "    if abs(b-a) < aTol\n",
                "        println(\"a and b are too close together for most numerical integration methods.\")\n",
                "        return NaN\n",
                "    end\n",
                "    N = floor(Int64, N)\n",
                "    if N < 2\n",
                "        N = 2\n",
                "    end\n",
                "    Δx = (b-a)/N\n",
                "#     # You can uncomment these messages if you want to see them\n",
                "#     if b < a\n",
                "#         println(\"Integrating backward with Δx = $Δx\")\n",
                "#     else\n",
                "#         println(\"Integrating forward with Δx = $Δx\")\n",
                "#     end\n",
                "    x = range(a, b, N+1)\n",
                "    y = f.(x)\n",
                "    upperSum = 0.0\n",
                "    lowerSum = 0.0\n",
                "    for i = 1:N\n",
                "        lowerSum += Δx *minimum([y[i], y[i+1]])\n",
                "        upperSum += Δx *maximum([y[i], y[i+1]])\n",
                "    end\n",
                "    if b < a # This ensures the upperSum is larger or equal to the lowerSum\n",
                "             # Could remove and use instead\n",
                "             # myPMerror =  abs(upperSum - lowerSum)/2.0\n",
                "        temp = lowerSum\n",
                "        lowerSum = upperSum\n",
                "        upperSum = temp\n",
                "    end    \n",
                "    myEstimatedIntegral = (upperSum + lowerSum)/2.0\n",
                "    myPMerror =  (upperSum - lowerSum)/2.0\n",
                "    return myEstimatedIntegral, myPMerror\n",
                "end\n",
                "```\n",
                "  - Combines several functions from JuliaHW02 into one function.\n",
                "  - Works for $\\Delta x:= \\frac{b-a}{N} < 0$ as well as for positive  $\\Delta x$. \n",
                "\n",
                "  <br>\n",
                "  \n",
                "**Run the next two cells.**"
            ]
        },
        {
            "cell_type": "code",
            "execution_count": null,
            "id": "g2ov1mei77scpsxnhiu",
            "metadata": {
                "cellIdentifier": "g2ov1mei77scpsxnhiu"
            },
            "outputs": [],
            "source": [
                "# Test01 Run Me\n",
                "include(\"data/basicRiemannIntegrator.jl\")\n",
                "# Pulls in the function myRiemannIntegralValueAndError\n",
                "\n",
                "f(x) = 4x^2 + 7\n",
                "polyCoeff = [4; 0.0; 7.0]\n",
                "a, b = (0, 4)\n",
                "\n",
                "for k = 4:10\n",
                "    N = 2^k\n",
                "    myEstimatedIntegral01, myPMerror01 = myRiemannIntegralValueAndError(f, a, b, N)\n",
                "    println(\" \")\n",
                "    myExactIntegral01 = exactPolynomialIntegrator(polyCoeff, a, b)\n",
                "    myExactError01 = myEstimatedIntegral01 - myExactIntegral01\n",
                "    println(\"\\n N = $N,  Exact Vlaue = $myExactIntegral01, Estimated Integral = $myEstimatedIntegral01\n",
                "           Estimated Error = $myPMerror01,   True Error $myExactError01\")\n",
                "    println(\" \")\n",
                "end"
            ]
        },
        {
            "cell_type": "code",
            "execution_count": null,
            "id": "4bvuamthvjy6arct4tg5xf",
            "metadata": {
                "cellIdentifier": "4bvuamthvjy6arct4tg5xf"
            },
            "outputs": [],
            "source": [
                "# Test02 Run Me\n",
                "include(\"data/basicRiemannIntegrator.jl\")\n",
                "# Pulls in the function myRiemannIntegralValueAndError\n",
                "\n",
                "g(x) = -2 * x^7 + x^4 - 2x^2 - 3x - 4\n",
                "polyCoeff = [-2.0; 0.0; 0.0; 1; 0.0; -2.0; -3.0; -4.0]\n",
                "a, b = (0, 4)\n",
                "\n",
                "for k = 4:10\n",
                "    N = 2^k\n",
                "    myEstimatedIntegral02, myPMerror02 = myRiemannIntegralValueAndError(g, a, b, N)\n",
                "    println(\" \")\n",
                "    myExactIntegral02 = exactPolynomialIntegrator(polyCoeff, a, b)\n",
                "    myExactError02 = myEstimatedIntegral02 - myExactIntegral02\n",
                "    println(\"\\n N = $N,  Exact Vlaue = $myExactIntegral02, Estimated Integral = $myEstimatedIntegral02\n",
                "           Estimated Error = $myPMerror02,   True Error $myExactError02\")\n",
                "    println(\" \")\n",
                "end"
            ]
        },
        {
            "cell_type": "markdown",
            "id": "cst7ah51rjtxtvrbj58jnh",
            "metadata": {
                "cellIdentifier": "cst7ah51rjtxtvrbj58jnh"
            },
            "source": [
                "## True or False: Determine the following based on the trends of Test01 and Test02\n",
                "\n",
                "**Q1**: The ESTIMATED ERROR of Riemann Integration with N-rectangles roughly HALVES (i.e., divides by TWO) as $N$ DOUBLES.\n",
                "\n",
                "**Q2**: The TRUE ERROR of Riemann Integration with N-rectangles roughly HALVES as $N$ DOUBLES.\n",
                "\n",
                "### Instructions\n",
                "Answer with upper case \"T\" for true and upper case \"F\" for false. The double quotes are important because we will compose your answers to form strings."
            ]
        },
        {
            "cell_type": "code",
            "execution_count": null,
            "id": "5ubd3zmmzssr6xcn9mfy7q",
            "metadata": {
                "cellIdentifier": "5ubd3zmmzssr6xcn9mfy7q"
            },
            "outputs": [],
            "source": [
                "# Replace the X with an upper case T or F\n",
                "Answer1 = \"X\"\n",
                "Answer2 = \"X\"\n",
                "\n",
                "###\n",
                "### YOUR CODE HERE\n",
                "###"
            ]
        },
        {
            "cell_type": "code",
            "execution_count": null,
            "id": "2iuy8mk17x5j4xuawguaf",
            "metadata": {
                "cellIdentifier": "2iuy8mk17x5j4xuawguaf",
                "deletable": false,
                "editable": false,
                "nbgrader": {
                    "grade": true,
                    "grade_id": "P02Q2",
                    "locked": true,
                    "points": "1",
                    "solution": false
                }
            },
            "outputs": [],
            "source": [
                "#= Friendly Check =#\n",
                "\n",
                "# Correct answers\n",
                "CorrectAnswers = [\"T\", \"F\"]\n",
                "YourAnswers = [Answer1, Answer2]\n",
                "\n",
                "# Count how many are correct\n",
                "num_correct_2 = sum(YourAnswers .== CorrectAnswers)\n",
                "\n",
                "println(\"You got $num_correct out of 2 correct.\")"
            ]
        },
        {
            "cell_type": "code",
            "execution_count": null,
            "metadata": {},
            "outputs": [],
            "source": [
                "# ====================================================\n",
                "# 🔒 GRADER CELL — Problem 2 (Do Not Edit)\n",
                "# ====================================================\n",
                "# This cell required previous Friendly checks to be run first.\n",
                "# Please run this cell before going to the next problem to avoid variable errors.\n",
                "# SAMPLE SOLUTION ==> check the CorrectAnswers variable in the friendly check.\n",
                "\n",
                "total_score_2 = num_correct_2 / 2\n",
                "\n",
                "# Show score\n",
                "println(\"Problem 2 Score: $total_score_2 / 1\")"
            ]
        },
        {
            "cell_type": "markdown",
            "id": "n246dcv88ws2dad6edgcj",
            "metadata": {
                "cellIdentifier": "n246dcv88ws2dad6edgcj"
            },
            "source": [
                "\n",
                "\n",
                "<p align=\"center\">\n",
                "  <img src=\"data/HW03TrapezoidalRuleImage.png\", width=\"70%\">\n",
                "</p>\n",
                "\n",
                "<br>\n",
                "<br>\n",
                "\n",
                "# Problem 3: The Trapezoidal Rule\n",
                "\n",
                "\n",
                "<br>\n",
                "\n",
                "<p align=\"center\">\n",
                "  <img src=\"data/HW03TrapezoidalRuleStatement.png\", width=\"85%\">\n",
                "</p>\n",
                "\n",
                "<br>\n",
                "\n",
                "## P.3A: Build a function to implement the trapezoidal rule\n"
            ]
        },
        {
            "cell_type": "code",
            "execution_count": null,
            "id": "8xjc3c5bpu2co10w7gpr8",
            "metadata": {
                "cellIdentifier": "8xjc3c5bpu2co10w7gpr8"
            },
            "outputs": [],
            "source": [
                "function trapezoidalRule(f, a, b, N, aTol=1e-6)\n",
                "    # Works for b < a and for b >= a\n",
                "    if abs(b - a) < aTol\n",
                "        println(\"a and b are too close together for most numerical integration methods.\")\n",
                "        return NaN\n",
                "    end\n",
                "    N = floor(Int64, N) # make sure N is an integer\n",
                "    if N < 2\n",
                "        N = 2\n",
                "    end\n",
                "\n",
                "    ###\n",
                "    ### YOUR CODE HERE\n",
                "    ###\n",
                "\n",
                "    return myIntTrapZ\n",
                "end"
            ]
        },
        {
            "cell_type": "code",
            "execution_count": null,
            "id": "c6551gcm3ol7dc6nlqjtq",
            "metadata": {
                "cellIdentifier": "c6551gcm3ol7dc6nlqjtq"
            },
            "outputs": [],
            "source": [
                "#= Friendly Check =#\n",
                "# if the value of is_it_correct_checkN is \"Yes\", then your answer is LIKELY correct. \n",
                "# If the value of is_it_correct_checkN is \"No\", then your answer is DEFINITELY wrong\n",
                "#\n",
                "g(x) = -2 * x^7 + x^4 - 2x^2 - 3x - 4\n",
                "a, b = (-1.0, 1.0)\n",
                "\n",
                "# compute data\n",
                "myIntTrapZ01 = trapezoidalRule(g, a, b, 4)\n",
                "myIntTrapZ02 = trapezoidalRule(g, a, b, 1000)\n",
                "\n",
                "# Run Tests\n",
                "is_it_correct_check3a_1 = abs(myIntTrapZ01 + 8.9375) < 1e-4 ? \"Yes\" : \"No\"\n",
                "is_it_correct_check3a_2 = abs(myIntTrapZ02 + 8.93333) < 1e-4 ? \"Yes\" : \"No\"\n",
                "@show is_it_correct_check3a_1;\n",
                "@show is_it_correct_check3a_2;"
            ]
        },
        {
            "cell_type": "markdown",
            "id": "l6v93494tnnvyq36ye4xns",
            "metadata": {
                "cellIdentifier": "l6v93494tnnvyq36ye4xns"
            },
            "source": [
                "## P.3B: Compare the trapezoidal rule to integration via rectangles"
            ]
        },
        {
            "cell_type": "code",
            "execution_count": null,
            "id": "oxs1t4ui2pa6kewu6cecq",
            "metadata": {
                "cellIdentifier": "oxs1t4ui2pa6kewu6cecq"
            },
            "outputs": [],
            "source": [
                "# Run this cell. It creates functions and sets integration bounds and number of intervals\n",
                "f(x) = tan(x^2) + x / 2\n",
                "g(x) = csc(x^3) + x / 2\n",
                "h(x) = exp(x / 4) - 3\n",
                "\n",
                "a, b = (-3.0, 4.0)\n",
                "N = 1e3;\n",
                "\n",
                "include(\"data/basicRiemannIntegrator.jl\")\n",
                "# Pulls in the function myRiemannIntegralValueAndError\n",
                "\n",
                "#Example\n",
                "myEstimatedIntegral, myPMerror = myRiemannIntegralValueAndError(f, a, b, N)\n",
                "myIntTrapZ = trapezoidalRule(f, a, b, N)\n",
                "\n",
                "[myEstimatedIntegral myIntTrapZ]"
            ]
        },
        {
            "cell_type": "markdown",
            "id": "395s74a10dmbk0s5my5eyr",
            "metadata": {
                "cellIdentifier": "395s74a10dmbk0s5my5eyr"
            },
            "source": [
                "Questions B.1–B.3: Comparing `myEstimatedIntegral` and `myIntTrapZ`\n",
                "\n",
                "For each function below, choose the correct relationship between `myEstimatedIntegral` and `myIntTrapZ`.\n",
                "\n",
                "**Question B.1: For the function `f(x)`**\n",
                "- A) `myEstimatedIntegral == myIntTrapZ`  \n",
                "- B) `myEstimatedIntegral > myIntTrapZ`  \n",
                "- C) `myEstimatedIntegral < myIntTrapZ`  \n",
                "\n",
                "**Question B.2: For the function `g(x)`** \n",
                "- A) `myEstimatedIntegral == myIntTrapZ`  \n",
                "- B) `myEstimatedIntegral > myIntTrapZ`  \n",
                "- C) `myEstimatedIntegral < myIntTrapZ`  \n",
                "\n",
                "**Question B.3: For the function `h(x)`** \n",
                "- A) `myEstimatedIntegral == myIntTrapZ`  \n",
                "- B) `myEstimatedIntegral > myIntTrapZ`  \n",
                "- C) `myEstimatedIntegral < myIntTrapZ`  \n",
                "\n",
                "**Question B.4: Relationship Between the Trapezoidal Rule and Riemann Sums**\n",
                "\n",
                "For the same number of intervals \\( N \\), the Trapezoidal Rule and the average of the Riemann Lower and Upper Sums produce the same result because:\n",
                "\n",
                "- A) The average of the maximum and minimum of two function values is equal to their arithmetic mean.  \n",
                "- B) This is only true for small \\( N \\); as \\( N \\) increases, Riemann sums diverge from the trapezoidal estimate.  \n",
                "- C) It’s a coincidence specific to the chosen examples. In general, overshooting and undershooting behave differently — you’ve been tricked!  \n",
                "- D) All numerical integration methods are approximations. As long as they use the same number of intervals, they’ll give the same result.  \n",
                "- E) None of the above are true.\n",
                "\n",
                "\n",
                "### Instructions\n",
                "\n",
                "In Questions B.1–B.3, select **A**, **B**, or **C**.  \n",
                "In Question B.4, select **A**, **B**, **C**, **D**, or **E**.\n"
            ]
        },
        {
            "cell_type": "code",
            "execution_count": null,
            "id": "1111dj18tf9hdx0tcd0uhk",
            "metadata": {
                "cellIdentifier": "1111dj18tf9hdx0tcd0uhk",
                "nbgrader": {
                    "grade": false,
                    "locked": false,
                    "solution": false
                }
            },
            "outputs": [],
            "source": [
                "Answer1 = \"X\"\n",
                "Answer2 = \"X\"\n",
                "Answer3 = \"X\"\n",
                "Answer4 = \"X\"\n",
                "\n",
                "###\n",
                "### YOUR CODE HERE\n",
                "###"
            ]
        },
        {
            "cell_type": "code",
            "execution_count": null,
            "id": "7fi3u9e3g1r95tz1nwxyyu",
            "metadata": {
                "cellIdentifier": "7fi3u9e3g1r95tz1nwxyyu",
                "deletable": false,
                "editable": false,
                "nbgrader": {
                    "grade": true,
                    "grade_id": "P03B123",
                    "locked": true,
                    "points": "1",
                    "solution": false
                }
            },
            "outputs": [],
            "source": [
                "#= Friendly Check =#\n",
                "\n",
                "# Correct answers\n",
                "CorrectAnswers = [\"A\", \"B\", \"C\", \"A\"]\n",
                "YourAnswers = [Answer1, Answer2, Answer3, Answer4]\n",
                "\n",
                "# Count how many are correct\n",
                "num_correct_3 = sum(YourAnswers .== CorrectAnswers)\n",
                "\n",
                "println(\"You got $num_correct_3 out of 4 correct.\")"
            ]
        },
        {
            "cell_type": "code",
            "execution_count": null,
            "metadata": {},
            "outputs": [],
            "source": [
                "# ========== PROBLEM 3 SAMPLE SOLUTION ==========\n",
                "# You can use this as a reference to check your answer.\n",
                "\n",
                "### 3A BEGIN SOLUTION\n",
                "function trapezoidalRule(f, a, b, N, aTol=1e-6)\n",
                "    if abs(b - a) < aTol\n",
                "        println(\"a and b are too close together for most numerical integration methods.\")\n",
                "        return NaN\n",
                "    end\n",
                "    N = floor(Int64, N)\n",
                "    if N < 2\n",
                "        N = 2\n",
                "    end\n",
                "    Δx = (b - a) / N\n",
                "    x = range(a, b, N + 1)\n",
                "    y = f.(x)\n",
                "    myIntTrapZ = 0.0\n",
                "    for i = 1:N\n",
                "        myIntTrapZ += Δx * (y[i] + y[i+1]) / 2.0\n",
                "    end\n",
                "    return myIntTrapZ\n",
                "end\n",
                "### 3A END SOLUTION\n",
                "\n",
                "### 3B BEGIN SOLUTION\n",
                "Answer1, Answer2, Answer3, Answer4 = \"A\", \"B\", \"C\", \"A\"\n",
                "### 3B END SOLUTION"
            ]
        },
        {
            "cell_type": "code",
            "execution_count": null,
            "metadata": {},
            "outputs": [],
            "source": [
                "# ====================================================\n",
                "# 🔒 GRADER CELL — Problem 3 (Do Not Edit)\n",
                "# ====================================================\n",
                "# This cell required previous Friendly checks to be run first.\n",
                "# Please run this cell before going to the next problem to avoid variable errors.\n",
                "\n",
                "point_3A = is_it_correct_check3a_1 == \"Yes\" && is_it_correct_check3a_2 == \"Yes\" ? 1 : 0\n",
                "point_3B = num_correct_3 / 2\n",
                "total_score_3 = point_3A + point_3B\n",
                "\n",
                "# Show score\n",
                "println(\"Problem 3 Score: $total_score_3 / 3\")"
            ]
        },
        {
            "cell_type": "markdown",
            "id": "fc2qdgfpc1lmitzma46ve",
            "metadata": {
                "cellIdentifier": "fc2qdgfpc1lmitzma46ve"
            },
            "source": [
                "# Problem 4: Achieving a Prescribed Level of Precision with a Numerical Integrator\n",
                "\n",
                "In robotics and engineering, precision is often critical. When we want to meet a specific accuracy threshold, how can we achieve that? Well, let's consider the **`pmError`** from our Riemann Lower and Upper Sums. This value gives us a measure of how precise our integral estimate is. \n",
                "\n",
                "Assume a uniform partition \n",
                "$a = x_1, x_2, \\ldots, x_n, x_{n+1}=b$, with $x_{i+1}-x_i = \\Delta x := \\frac{b-a}{n}$. \n",
                "\n",
                "The Upper and Lower Sums are defined by:\n",
                "\n",
                "$$\n",
                "\\begin{align*}\n",
                "{\\rm Area}^{up}\\_n &:= \\sum_{i=1}^n {\\rm max} \\{ f(x_i), f(x_{i+1}) \\} \\Delta x \\\\\\\\\n",
                "{\\rm Area}^{low}\\_n &:= \\sum_{i=1}^n {\\rm min} \\{ f(x_i), f(x_{i+1}) \\} \\Delta x\n",
                "\\end{align*}\n",
                "$$\n",
                "\n",
                "From these, we define the **total precision error**:\n",
                "\n",
                "\n",
                "$$ 2 \\cdot {\\rm pmError}\\_n:= {\\rm Area}^{up}\\_n - {\\rm Area}^{low}\\_n =  \\sum_{i=1}^n \\left( {\\rm max}\\\\{f(x_i), f(x_{i+1}) \\\\} - {\\rm min}\\\\{f(x_i), f(x_{i+1}) \\\\} \\right) \\Delta x  = \\sum_{i=1}^n |f(x_i) - f(x_{i+1})| \\Delta x$$\n",
                "\n",
                "\n",
                "This simplification is valid because:\n",
                "\n",
                "$$ \\left( {\\rm max}\\\\{f(x_i), f(x_{i+1}) \\\\} - {\\rm min}\\\\{f(x_i), f(x_{i+1}) \\\\}\\right) = |f(x_i) - f(x_{i+1})|.$$\n",
                "\n",
                "<br>\n",
                "\n",
                "Therefore, we can estimate the precision error associated with the Trapezoidal Rule by computing: $${\\rm pmError}\\_n = \\sum_{i=1}^n \\frac{1}{2}|f(x_i) -f(x_{i+1})| \\Delta x.$$\n",
                "\n",
                "\n",
                "<br>\n",
                "\n",
                "\n",
                "## P.4A: Adding an error estimate"
            ]
        },
        {
            "cell_type": "code",
            "execution_count": null,
            "id": "i8ke13lxjpvlvxyfmqzq",
            "metadata": {
                "cellIdentifier": "i8ke13lxjpvlvxyfmqzq"
            },
            "outputs": [],
            "source": [
                "# Copy in any useful code from trapezoidalRule(f, a, b, N, aTol=1e-6) and add in the  \n",
                "# additional two lines required to compute the error estimate. \n",
                "# We have specified the return for you.\n",
                "\n",
                "function trapezoidalRulewithpmError(f, a, b, N, aTol=1e-6)\n",
                "    # Works for b < a and for b >= a\n",
                "    if abs(b - a) < aTol\n",
                "        println(\"a and b are too close together for most numerical integration methods.\")\n",
                "        return NaN\n",
                "    end\n",
                "    N = floor(Int64, N) # make sure N is an integer\n",
                "    if N < 2\n",
                "        N = 2\n",
                "    end\n",
                "    # Copy in code from your previous function, trapZ, then add  \n",
                "    # in the extra lines to initialize and sum the terms in pmError    \n",
                "\n",
                "    ###\n",
                "    ### YOUR CODE HERE\n",
                "    ###\n",
                "\n",
                "    return myIntTrapZ, pmError\n",
                "end"
            ]
        },
        {
            "cell_type": "code",
            "execution_count": null,
            "id": "nviaazy9dkmeidcm21b83w",
            "metadata": {
                "cellIdentifier": "nviaazy9dkmeidcm21b83w"
            },
            "outputs": [],
            "source": [
                "#= Friendly Check =#\n",
                "# if the value of is_it_correct_checkN is \"Yes\", then your answer is LIKELY correct. \n",
                "# If the value of is_it_correct_checkN is \"No\", then your answer is DEFINITELY wrong\n",
                "#\n",
                "g(x) = -2 * x^7 + x^4 - 2x^2 - 3x - 4\n",
                "a, b = (-1.0, 1.0)\n",
                "\n",
                "# compute data\n",
                "myIntTrapZ02, pmError02 = trapezoidalRulewithpmError(g, a, b, 1000)\n",
                "\n",
                "# Run Tests\n",
                "is_it_correct_check4a_1 = abs(myIntTrapZ02 + 8.93333) < 1e-4 ? \"Yes\" : \"No\"\n",
                "is_it_correct_check4a_2 = abs(pmError02 - 0.01) < 1e-4 ? \"Yes\" : \"No\"\n",
                "@show is_it_correct_check4a_1;\n",
                "@show is_it_correct_check4a_2;\n",
                "\n",
                "if (is_it_correct_check4a_1 == \"Yes\") && (is_it_correct_check4a_2 == \"Yes\")\n",
                "    println(\"\\nCongrats! You now have a means to estimate the accuracy of the Trapezoidal Rule.\")\n",
                "end"
            ]
        },
        {
            "cell_type": "markdown",
            "id": "5vh6zg2zd9hdux4efbqhu",
            "metadata": {
                "cellIdentifier": "5vh6zg2zd9hdux4efbqhu"
            },
            "source": [
                "## P.4B: Adaptive integration using `pmError`\n",
                "In this task, you'll implement an adaptive version of the Trapezoidal Rule.\n",
                "\n",
                "Just like in the Bisection Algorithm, you'll repeatedly compute the integral using increasingly larger values of \\( N \\) (the number of trapezoids) until the estimated error `pmError` falls below a specified tolerance.\n",
                "\n",
                "For the tolerance, use the parameter `aTol` that you've already defined."
            ]
        },
        {
            "cell_type": "code",
            "execution_count": null,
            "id": "00r8rxoqs1dc32xnsfsayv4",
            "metadata": {
                "cellIdentifier": "00r8rxoqs1dc32xnsfsayv4"
            },
            "outputs": [],
            "source": [
                "# Copy in any useful code from trapezoidalRulewithpmError(f, a, b, N, aTol=1e-6) and add in the additional \n",
                "# two lines required to compute the error estimate\n",
                "\n",
                "function trapezoidalRuleFixedTolerance(f, a, b, aTol=1e-5)\n",
                "    # Works for b < a and for b >= a\n",
                "    if abs(b - a) < aTol\n",
                "        println(\"a and b are too close together for most numerical integration methods.\")\n",
                "        return NaN\n",
                "    end\n",
                "    N = 100 # Initialize at a small number of trapezoids\n",
                "    Nmax = 1e8 # Prevent infinite loop\n",
                "    pmError = aTol + 1.0 # make sure it starts larger than the tolerance\n",
                "    myIntTrapZ = 0.0 # to return it, we must initialize the variable before the while loop\n",
                "    while (pmError > aTol) && (N <= Nmax)\n",
                "        N = 10 * N # Increase N by a fixed factor each time\n",
                "        #    \n",
                "\n",
                "        ###\n",
                "        ### YOUR CODE HERE\n",
                "        ###\n",
                "\n",
                "    end\n",
                "    return myIntTrapZ, pmError, N\n",
                "end"
            ]
        },
        {
            "cell_type": "code",
            "execution_count": null,
            "id": "o7xxx0cbivdbe5cs36d6k5",
            "metadata": {
                "cellIdentifier": "o7xxx0cbivdbe5cs36d6k5"
            },
            "outputs": [],
            "source": [
                "#= Friendly Check =#\n",
                "# if the value of is_it_correct_checkN is \"Yes\", then your answer is LIKELY correct. \n",
                "# If the value of is_it_correct_checkN is \"No\", then your answer is DEFINITELY wrong\n",
                "#\n",
                "\n",
                "f(x) = x^7 + x^5 + 2.0 * x\n",
                "a, b = (-1, 1)\n",
                "\n",
                "myIntTrapZ, pmError, N = trapezoidalRuleFixedTolerance(f, a, b)\n",
                "\n",
                "# Run Tests\n",
                "is_it_correct_check4b_1 = abs(myIntTrapZ) < 1e-6 ? \"Yes\" : \"No\"\n",
                "is_it_correct_check4b_2 = pmError < 1e-5 ? \"Yes\" : \"No\"\n",
                "is_it_correct_check4b_3 = 2e5 < N < 2e6 ? \"Yes\" : \"No\"\n",
                "@show is_it_correct_check4b_1;\n",
                "@show is_it_correct_check4b_2;\n",
                "@show is_it_correct_check4b_3;\n",
                "\n",
                "if (is_it_correct_check4b_1 == \"Yes\") && (is_it_correct_check4b_2 == \"Yes\") && (is_it_correct_check4b_3 == \"Yes\")\n",
                "    println(\"\\nCongrats! You can now numerically integrate anything, and \n",
                "          have confidence in the answer!\")\n",
                "end"
            ]
        },
        {
            "cell_type": "code",
            "execution_count": null,
            "metadata": {},
            "outputs": [],
            "source": [
                "# ========== PROBLEM 4 SAMPLE SOLUTION ==========\n",
                "# You can use this as a reference to check your answer.\n",
                "\n",
                "### 4A BEGIN SOLUTION\n",
                "function trapezoidalRulewithpmError(f, a, b, N, aTol=1e-6)\n",
                "    if abs(b - a) < aTol\n",
                "        println(\"a and b are too close together for most numerical integration methods.\")\n",
                "        return NaN\n",
                "    end\n",
                "    N = floor(Int64, N)\n",
                "    if N < 2\n",
                "        N = 2\n",
                "    end\n",
                "    Δx = (b - a) / N\n",
                "    x = range(a, b, N + 1)\n",
                "    y = f.(x)\n",
                "    myIntTrapZ = 0.0\n",
                "    pmError = 0.0\n",
                "    for i = 1:N\n",
                "        myIntTrapZ += Δx * (y[i] + y[i+1]) / 2.0\n",
                "        pmError += Δx * abs(y[i] - y[i+1]) / 2.0\n",
                "    end\n",
                "    return myIntTrapZ, pmError\n",
                "end\n",
                "### 4A END SOLUTION\n",
                "\n",
                "### 4B BEGIN SOLUTION\n",
                "function trapezoidalRuleFixedTolerance(f, a, b, aTol=1e-5)\n",
                "    if abs(b - a) < aTol\n",
                "        println(\"a and b are too close together for most numerical integration methods.\")\n",
                "        return NaN\n",
                "    end\n",
                "    N = 100\n",
                "    Nmax = 1e8\n",
                "    pmError = aTol + 1.0\n",
                "    myIntTrapZ = 0.0\n",
                "    while (pmError > aTol) && (N <= Nmax)\n",
                "        N = 10 * N\n",
                "        Δx = (b - a) / N\n",
                "        x = range(a, b, N + 1)\n",
                "        y = f.(x)\n",
                "        myIntTrapZ = 0.0\n",
                "        pmError = 0.0\n",
                "        for i = 1:N\n",
                "            myIntTrapZ += Δx * (y[i] + y[i+1]) / 2.0\n",
                "            pmError += Δx * abs(y[i] - y[i+1]) / 2.0\n",
                "        end\n",
                "    end\n",
                "    return myIntTrapZ, pmError, N\n",
                "end\n",
                "### 4B END SOLUTION"
            ]
        },
        {
            "cell_type": "code",
            "execution_count": null,
            "metadata": {},
            "outputs": [],
            "source": [
                "# ====================================================\n",
                "# 🔒 GRADER CELL — Problem 4 (Do Not Edit)\n",
                "# ====================================================\n",
                "# This cell required previous Friendly checks to be run first.\n",
                "# Please run this cell before going to the next problem to avoid variable errors.\n",
                "is_it_correct_check4a = (is_it_correct_check4a_1 == \"Yes\") && (is_it_correct_check4a_2 == \"Yes\")\n",
                "is_it_correct_check4b = (is_it_correct_check4b_1 == \"Yes\") && (is_it_correct_check4b_2 == \"Yes\") && (is_it_correct_check4b_3 == \"Yes\")\n",
                "\n",
                "f(x) = x^3 + 2x^2 + 3x + 4\n",
                "a, b = (0, 1)\n",
                "myIntTrapZ1, pmError1 = trapezoidalRulewithpmError(f, a, b, 1000)\n",
                "myIntTrapZ2, pmError2, N = trapezoidalRuleFixedTolerance(f, a, b)\n",
                "\n",
                "point_4A = is_it_correct_check4a && abs(myIntTrapZ1 - 6.41666) < 1e-3 && abs(pmError1 - 0.00299) < 1e-3 ? 1 : 0\n",
                "point_4B = is_it_correct_check4b && abs(myIntTrapZ2 - 6.41666) < 1e-3 && abs(pmError2) < 1e-5 && (2e5 < N < 2e6) ? 1 : 0\n",
                "total_score_4 = point_4A + point_4B\n",
                "\n",
                "# Show score\n",
                "println(\"Problem 4 Score: $total_score_4 / 2\")"
            ]
        },
        {
            "cell_type": "markdown",
            "id": "o3a7u0eeh4fdb6hv9ij7cf",
            "metadata": {
                "cellIdentifier": "o3a7u0eeh4fdb6hv9ij7cf"
            },
            "source": [
                "# Problem 5: Simpson's Rule\n",
                "\n",
                "- We'll provide code for the **cubic version** of Simpson's Rule.\n",
                "- Your task is to implement the **standard quadratic version** as described in the textbook."
            ]
        },
        {
            "cell_type": "code",
            "execution_count": null,
            "id": "74l1n7jenlni99t2ksvc8g",
            "metadata": {
                "cellIdentifier": "74l1n7jenlni99t2ksvc8g"
            },
            "outputs": [],
            "source": [
                "function cubicSimpsonRule(f, a, b, N, aTol=1e-6)\n",
                "    # Works for b < a and for b >= a\n",
                "    if abs(b - a) < aTol\n",
                "        println(\"a and b are too close together for most numerical integration methods.\")\n",
                "        return NaN\n",
                "    end\n",
                "    N = floor(Int64, N) # make sure N is an integer\n",
                "    if N < 2\n",
                "        N = 2\n",
                "    end\n",
                "    Δx = (b - a) / N\n",
                "    h = Δx\n",
                "    x = range(a, b, N + 1)\n",
                "    myIntCubSimp = 0.0\n",
                "    for i = 1:N\n",
                "        myIntCubSimp += (h / 8.0) * (f(x[i]) + 3 * f(x[i] + h / 3.0) + 3 * f(x[i] + 2.0 * h / 3.0) + f(x[i+1]))\n",
                "    end\n",
                "    return myIntCubSimp\n",
                "end"
            ]
        },
        {
            "cell_type": "code",
            "execution_count": null,
            "id": "dh7gzfhzhjiuf8ijw5iii",
            "metadata": {
                "cellIdentifier": "dh7gzfhzhjiuf8ijw5iii"
            },
            "outputs": [],
            "source": [
                "# Run me to see how the function does\n",
                "# Re-run your function exactPolynomialIntegrator(polyCoeff, a, b) \n",
                "# to make it active again\n",
                "f(x) = x^8 - 20.0 * x^7 + x^6 + x^4 + 2.0 * x^3 + 1\n",
                "a, b = (-5, 5)\n",
                "N = 1e2\n",
                "\n",
                "polyCoeff = [1; -20.0; 1; 0.0; 1; 2; 0; 0; 1]\n",
                "intAtoB = exactPolynomialIntegrator(polyCoeff, a, b)\n",
                "\n",
                "myIntCubSimp = cubicSimpsonRule(f, a, b, N)\n",
                "\n",
                "println(\"Looks pretty good! The error is $(myIntCubSimp - intAtoB) out of $intAtoB\\n\")\n",
                "[intAtoB; myIntCubSimp]"
            ]
        },
        {
            "cell_type": "markdown",
            "id": "cza4ifemaa74eis8rlv106",
            "metadata": {
                "cellIdentifier": "cza4ifemaa74eis8rlv106"
            },
            "source": [
                "### Note\n",
                "\n",
                "Between each pair of points, $[x_i, x_{i+1}]$, the cubic version of Simpson’s Rule inserts two additional points: $x_i + \\frac{\\Delta x}{3}$ and $x_i + 2\\frac{\\Delta x}{3}$. This gives it three times as many points as the Trapezoidal Rule. Let’s keep that in mind as we compare the methods using a polynomial, where the exact integral is known. Remember, we rely on numerical integration because for most functions, a closed-form expression for the definite integral doesn’t exist."
            ]
        },
        {
            "cell_type": "code",
            "execution_count": null,
            "id": "nn14new2qf57m90yu437",
            "metadata": {
                "cellIdentifier": "nn14new2qf57m90yu437"
            },
            "outputs": [],
            "source": [
                "f(x) = x^8 - 20 * x^7 + x^6 + x^4 + 2.0 * x^3 + 1\n",
                "a, b = (-5, 5)\n",
                "N = 1e2\n",
                "\n",
                "polyCoeff = [1; -20; 1; 0.0; 1; 2; 0; 0; 1]\n",
                "intAtoB = exactPolynomialIntegrator(polyCoeff, a, b)\n",
                "\n",
                "myIntCubSimp = cubicSimpsonRule(f, a, b, N)\n",
                "\n",
                "myIntTrapZ = trapezoidalRule(f, a, b, 3 * N)\n",
                "\n",
                "println(\"The error in the Trapezoidal Rule is $(myIntTrapZ - intAtoB) out of $intAtoB using $(3N) trapezoids.\")\n",
                "println(\"Hence, in a pinch, all of these methods are viable for estimating the integrals of complicated functions.\\n\")\n",
                "[intAtoB; myIntCubSimp; myIntTrapZ]"
            ]
        },
        {
            "cell_type": "markdown",
            "id": "db5cepptr1m2oqrx7k213o",
            "metadata": {
                "cellIdentifier": "db5cepptr1m2oqrx7k213o"
            },
            "source": [
                "For your final numerical integration task, implement the standard (quadratic) version of Simpson’s Rule as described in the textbook."
            ]
        },
        {
            "cell_type": "code",
            "execution_count": null,
            "id": "u91vhbwd8l8b9fj3m9m6ss",
            "metadata": {
                "cellIdentifier": "u91vhbwd8l8b9fj3m9m6ss"
            },
            "outputs": [],
            "source": [
                "function stdSimpsonRule(f, a, b, N, aTol=1e-6)\n",
                "\n",
                "    ###\n",
                "    ### YOUR CODE HERE\n",
                "    ###\n",
                "\n",
                "    return myIntSimp\n",
                "end"
            ]
        },
        {
            "cell_type": "code",
            "execution_count": null,
            "id": "bt2jiclolau8kqsjqi9314",
            "metadata": {
                "cellIdentifier": "bt2jiclolau8kqsjqi9314"
            },
            "outputs": [],
            "source": [
                "#= Friendly Check =#\n",
                "# if the value of is_it_correct_checkN is \"Yes\", then your answer is LIKELY correct.\n",
                "# If the value of is_it_correct_checkN is \"No\", then your answer is DEFINITELY wrong\n",
                "\n",
                "f(x) = x^8 - 20.0 * x^7 + x^6 + x^4 + 2.0 * x^3 + 1\n",
                "a, b = (-5, 5)\n",
                "N = 1e2\n",
                "\n",
                "myIntSimp = stdSimpsonRule(f, a, b, N)\n",
                "\n",
                "is_it_correct_check5_1 = abs(myIntSimp - 457609.28) < 1e-1 ? \"Yes\" : \"No\"\n",
                "\n",
                "@show is_it_correct_check5_1"
            ]
        },
        {
            "cell_type": "code",
            "execution_count": null,
            "metadata": {},
            "outputs": [],
            "source": [
                "# ========== PROBLEM 5 SAMPLE SOLUTION ==========\n",
                "# You can use this as a reference to check your answer.\n",
                "\n",
                "### 5 BEGIN SOLUTION\n",
                "function stdSimpsonRule(f, a, b, N, aTol=1e-6)\n",
                "    if abs(b-a) < aTol\n",
                "        println(\"a and b are too close together for most numerical integration methods.\")\n",
                "        return NaN\n",
                "    end\n",
                "    N = floor(Int64, N)\n",
                "    if N < 2\n",
                "        N = 2\n",
                "    end \n",
                "    Δx = (b-a)/N\n",
                "    h = Δx\n",
                "    x = range(a, b, N+1)   \n",
                "    myIntSimp = 0.0\n",
                "    for i = 1:N        \n",
                "        myIntSimp += (h/6.0) * ( f(x[i]) + 4*f(x[i] + h/2.0) + f(x[i+1]) )\n",
                "    end   \n",
                "    return myIntSimp\n",
                "end\n",
                "### 5 END SOLUTION"
            ]
        },
        {
            "cell_type": "code",
            "execution_count": null,
            "metadata": {},
            "outputs": [],
            "source": [
                "# ====================================================\n",
                "# 🔒 GRADER CELL — Problem 5 (Do Not Edit)\n",
                "# ====================================================\n",
                "# This cell required previous Friendly checks to be run first.\n",
                "# Please run this cell before going to the next problem to avoid variable errors.\n",
                "\n",
                "polyCoeff = [1; -20; 1; 0.0; 1; 2; 0; 0; 1]\n",
                "intAtoB = exactPolynomialIntegrator(polyCoeff, a, b)\n",
                "myIntCubSimp = cubicSimpsonRule(f, a, b, N)\n",
                "\n",
                "is_it_correct_check5_2 = (intAtoB < myIntCubSimp < myIntSimp)\n",
                "\n",
                "point_5 = is_it_correct_check5_1 == \"Yes\" && is_it_correct_check5_2 ? 1 : 0\n",
                "total_score_5 = point_5\n",
                "\n",
                "# Show score\n",
                "println(\"Problem 5 Score: $total_score_5 / 1\")"
            ]
        },
        {
            "cell_type": "markdown",
            "id": "64w8k6a8afu7ep6zsrgzl3",
            "metadata": {
                "cellIdentifier": "64w8k6a8afu7ep6zsrgzl3"
            },
            "source": [
                "# Problem 6: Generalized Additivity\n",
                "\n",
                "\n",
                "<br>\n",
                "\n",
                "<p align=\"center\">\n",
                "  <img src=\"data/HW03GenearlizedAdditivityProperty.png\", width=\"70%\">\n",
                "</p>\n",
                "\n",
                "<br>\n",
                "\n",
                "For each of the following sums of integrals, rewrite the expression as a single integral that has the same value. Your task is to identify the appropriate lower limit of integration, $a_k$, and upper limit of integration, $b_k$.\n",
                "\n",
                "### Note\n",
                "You can check your answers with:\n",
                "```julia\n",
                "f(x) = sin(x)/(1 + x^2)\n",
                "myAns = cubicSimpsonRule(f, a, b, 20)\n",
                "```\n",
                "\n",
                "## P.6A\n",
                "\n",
                "$$\\int_1^4 f(x) dx + \\int_{4}^{8} f(x) dx = \\int_{a_1}^{b_1} f(x) dx$$"
            ]
        },
        {
            "cell_type": "code",
            "execution_count": null,
            "id": "5iqqvcgrwzppgw3rk1qs18",
            "metadata": {
                "cellIdentifier": "5iqqvcgrwzppgw3rk1qs18"
            },
            "outputs": [],
            "source": [
                "# The same value is obtained with\n",
                "#a1 = ?\n",
                "#b1 = ?\n",
                "\n",
                "###\n",
                "### YOUR CODE HERE\n",
                "###"
            ]
        },
        {
            "cell_type": "code",
            "execution_count": null,
            "id": "947ga0ybtgmypwh1s5hx7a",
            "metadata": {
                "cellIdentifier": "947ga0ybtgmypwh1s5hx7a"
            },
            "outputs": [],
            "source": [
                "#= Friendly Check =#\n",
                "f(x) = sin(x) / (1 + x^2)\n",
                "myFirstIntegral = cubicSimpsonRule(f, 1, 4, 20)\n",
                "mySecondIntegral = cubicSimpsonRule(f, 4, 8, 20)\n",
                "\n",
                "myEquivalentIntegral = cubicSimpsonRule(f, a1, b1, 20)\n",
                "\n",
                "is_it_correct_check6a = (abs(myEquivalentIntegral - myFirstIntegral - mySecondIntegral) < 1e-2)\n",
                "if is_it_correct_check6a\n",
                "    println(\"I am so good at Calculus, I should become a math major!\")\n",
                "else\n",
                "    println(\"Ooops, I messed up somewhere. I hate it when that happens!\")\n",
                "end"
            ]
        },
        {
            "cell_type": "markdown",
            "id": "41ewyhbfq4sopsbs1gepie",
            "metadata": {
                "cellIdentifier": "41ewyhbfq4sopsbs1gepie"
            },
            "source": [
                "## P.6B\n",
                "$$\\int_{10}^6 f(x) dx + \\int_{1}^{10} f(x) dx = \\int_{a_2}^{b_2} f(x) dx$$\n"
            ]
        },
        {
            "cell_type": "code",
            "execution_count": null,
            "id": "kuae54m5h752rtb1141ii",
            "metadata": {
                "cellIdentifier": "kuae54m5h752rtb1141ii"
            },
            "outputs": [],
            "source": [
                "# The same value is obtained with \n",
                "#a2 = ?\n",
                "#b2 = ?\n",
                "\n",
                "###\n",
                "### YOUR CODE HERE\n",
                "###"
            ]
        },
        {
            "cell_type": "code",
            "execution_count": null,
            "id": "obmdte6wccj68876x54r",
            "metadata": {
                "cellIdentifier": "obmdte6wccj68876x54r",
                "deletable": false,
                "editable": false,
                "nbgrader": {
                    "grade": true,
                    "grade_id": "P06B",
                    "locked": true,
                    "points": "0.5",
                    "solution": false
                }
            },
            "outputs": [],
            "source": [
                "#= Friendly Check =#\n",
                "myEquivalentIntegral = cubicSimpsonRule(f, a2, b2, 20)\n",
                "\n",
                "is_it_correct_check6b = abs(myEquivalentIntegral - 0.30390311635917966) < 1e-2 ? \"Yes\" : \"No\"\n",
                "\n",
                "@show is_it_correct_check6b"
            ]
        },
        {
            "cell_type": "markdown",
            "id": "eidcshu8l68e078y6jx3it",
            "metadata": {
                "cellIdentifier": "eidcshu8l68e078y6jx3it"
            },
            "source": [
                "## P.6C\n",
                "$$\\int_{-1}^3 f(x) dx + \\int_{5}^{11} f(x) dx +  \\int_{11}^{-1} f(x) dx= \\int_{a_3}^{b_3} f(x) dx$$\n",
                "\n",
                "**Hint:** Simplify two of the integrals and then bring in the third integral."
            ]
        },
        {
            "cell_type": "code",
            "execution_count": null,
            "id": "1xoeliaiskebq4yweglai7",
            "metadata": {
                "cellIdentifier": "1xoeliaiskebq4yweglai7"
            },
            "outputs": [],
            "source": [
                "# The same value is obtained with \n",
                "#a3 = ?\n",
                "#b3 = ?\n",
                "\n",
                "###\n",
                "### YOUR CODE HERE\n",
                "###"
            ]
        },
        {
            "cell_type": "code",
            "execution_count": null,
            "id": "vu13ejlo4et3vvq2slaf",
            "metadata": {
                "cellIdentifier": "vu13ejlo4et3vvq2slaf",
                "deletable": false,
                "editable": false,
                "nbgrader": {
                    "grade": true,
                    "grade_id": "P06C",
                    "locked": true,
                    "points": "0.5",
                    "solution": false
                }
            },
            "outputs": [],
            "source": [
                "#= Friendly Check =#\n",
                "myEquivalentIntegral = cubicSimpsonRule(f, a3, b3, 20)\n",
                "\n",
                "is_it_correct_check6c = abs(myEquivalentIntegral - 0.06695099457741466) < 1e-2 ? \"Yes\" : \"No\"\n",
                "\n",
                "@show is_it_correct_check6c"
            ]
        },
        {
            "cell_type": "code",
            "execution_count": null,
            "metadata": {},
            "outputs": [],
            "source": [
                "# ========== PROBLEM 6 SAMPLE SOLUTION ==========\n",
                "# You can use this as a reference to check your answer.\n",
                "\n",
                "### 6A BEGIN SOLUTION\n",
                "a1, b1 = (1, 8)\n",
                "### 6A END SOLUTION\n",
                "\n",
                "### 6B BEGIN SOLUTION\n",
                "a2, b2 = (1, 6)\n",
                "### 6B END SOLUTION\n",
                "\n",
                "### 6C BEGIN SOLUTION\n",
                "a3, b3 = (5, 3)\n",
                "### 6C END SOLUTION"
            ]
        },
        {
            "cell_type": "code",
            "execution_count": null,
            "metadata": {},
            "outputs": [],
            "source": [
                "# ====================================================\n",
                "# 🔒 GRADER CELL — Problem 6 (Do Not Edit)\n",
                "# ====================================================\n",
                "# This cell required previous Friendly checks to be run first.\n",
                "# Please run this cell before going to the next problem to avoid variable errors.\n",
                "\n",
                "point_6A = is_it_correct_check6a ? 1 : 0\n",
                "point_6B = is_it_correct_check6b == \"Yes\" ? 1 : 0\n",
                "point_6C = is_it_correct_check6c == \"Yes\" ? 1 : 0\n",
                "total_score_6 = (point_6A + point_6B + point_6C) / 2\n",
                "\n",
                "# Show score\n",
                "println(\"Problem 6 Score: $total_score_6 / 1.5\")"
            ]
        },
        {
            "cell_type": "code",
            "execution_count": null,
            "metadata": {},
            "outputs": [],
            "source": [
                "# ======= Final Score Summary ======= #\n",
                "# You have to run all previous grader cells to get the final score summary.\n",
                "total_score = total_score_1 + total_score_2 + total_score_3 + total_score_4 + total_score_5 + total_score_6\n",
                "\n",
                "println(\"🎉🎯 Final Score Summary 🎯🎉\")\n",
                "println(\"────────────────────────────\")\n",
                "println(\"Problem 1: $total_score_1\")\n",
                "println(\"Problem 2: $total_score_2\")\n",
                "println(\"Problem 3: $total_score_3\")\n",
                "println(\"Problem 4: $total_score_4\")\n",
                "println(\"Problem 5: $total_score_5\")\n",
                "println(\"Problem 6: $total_score_6\")\n",
                "println(\"────────────────────────────\")\n",
                "println(\"🏆 Total Score: $total_score / 10.5\")"
            ]
        },
        {
            "cell_type": "markdown",
            "id": "lb5mjuz0veaov78p7t2rh",
            "metadata": {
                "cellIdentifier": "lb5mjuz0veaov78p7t2rh"
            },
            "source": [
                "\n",
                "<p align=\"center\" style=\"font-size:48px;\"><strong>The End! </strong></p>\n",
                "\n",
                "\n",
                "\n",
                "\n"
            ]
        }
    ],
    "metadata": {
        "kernel_id": "1b7b6bb1-38c3-4581-b602-ab0e524ad4f1",
        "kernelspec": {
            "display_name": "Julia 1.10.5",
            "language": "julia",
            "name": "julia-1.10"
        },
        "language_info": {
            "file_extension": ".jl",
            "mimetype": "application/julia",
            "name": "julia",
            "version": "1.10.5"
        }
    },
    "nbformat": 4,
    "nbformat_minor": 2
}
