{
    "cells": [
        {
            "cell_type": "markdown",
            "metadata": {},
            "source": [
                "University of Michigan - ROB 201 Calculus for the Modern Engineer\n",
                "\n",
                "---"
            ]
        },
        {
            "cell_type": "markdown",
            "id": "5phkb1bkaum96lhxicfcb6",
            "metadata": {
                "cellIdentifier": "5phkb1bkaum96lhxicfcb6"
            },
            "source": [
                "# Julia HW02: Chapters 2.6-3.1.1\n",
                "\n",
                "### Topics Covered\n",
                "- Limits at Infinity\n",
                "- Riemann Sums\n",
                "- Feedback Control (Chapter 1.6)\n",
                "- Finite Sums of Integers (Chapter 2.4)\n",
                "    \n",
                "<br>\n",
                "\n",
                "<p align=\"center\">\n",
                "  <img src=\"data/HW02LimitsAtInfinitySmall.png\" width=\"50%\">\n",
                "</p>"
            ]
        },
        {
            "cell_type": "markdown",
            "id": "wfkkda0nvzo7a0tz1uia9m",
            "metadata": {
                "cellIdentifier": "wfkkda0nvzo7a0tz1uia9m",
                "deletable": false,
                "editable": false,
                "nbgrader": {
                    "grade": false,
                    "locked": true,
                    "solution": false
                }
            },
            "source": [
                "# Problem 1: Limits at Infinity\n",
                "\n",
                "Write functions that approach the specified limits as $x \\to \\infty$. You may optionally plot your functions to visually confirm their behavior."
            ]
        },
        {
            "cell_type": "markdown",
            "id": "s5q28ey2cv8w73n7mz1s7",
            "metadata": {
                "cellIdentifier": "s5q28ey2cv8w73n7mz1s7",
                "deletable": false,
                "editable": false,
                "nbgrader": {
                    "grade": false,
                    "locked": true,
                    "solution": false
                }
            },
            "source": [
                "## P.1A: Define a function $f(x)$ such that $ f(x) \\rightarrow \\infty$ as $x  \\rightarrow 0$"
            ]
        },
        {
            "cell_type": "code",
            "execution_count": null,
            "id": "pv96c1cxbwgaiydebi7v",
            "metadata": {
                "cellIdentifier": "pv96c1cxbwgaiydebi7v",
                "nbgrader": {
                    "grade": false,
                    "locked": false,
                    "solution": false
                }
            },
            "outputs": [],
            "source": [
                "#f(x) = # uncomment and place your code here\n",
                "\n",
                "# plot your function below as a check\n",
                "\n",
                "###\n",
                "### YOUR CODE HERE\n",
                "###\n",
                "\n",
                "using Plots\n",
                "plot(f, -5, 5, ylim=(-5,50)) # Customize the y-axis limits to see the behavior of g(x) as x approaches 0\n"
            ]
        },
        {
            "cell_type": "code",
            "execution_count": null,
            "id": "73ad2fu6zr93lm2qf66xzn",
            "metadata": {
                "cellIdentifier": "73ad2fu6zr93lm2qf66xzn",
                "deletable": false,
                "editable": false,
                "nbgrader": {
                    "grade": true,
                    "grade_id": "P01.1",
                    "locked": true,
                    "points": "1",
                    "solution": false
                }
            },
            "outputs": [],
            "source": [
                "#= Friendly Check =#\n",
                "include(\"data//Friendly_test_library.jl\") # Load the library\n",
                "\n",
                "# Test the function \n",
                "# Note that the friendly test is not a formal proof or thorough check\n",
                "is_it_correct_check1a = test_limit_at_zero(f; target=Inf)\n",
                "\n",
                "@show is_it_correct_check1a"
            ]
        },
        {
            "cell_type": "markdown",
            "id": "fskbkkroewbpr4i16fj13n",
            "metadata": {
                "cellIdentifier": "fskbkkroewbpr4i16fj13n"
            },
            "source": [
                "## P.1B: Define a function $g(x)$ such that $g(x) \\ge 0$ for all $x$ and $g(x) \\rightarrow 0$ as $x  \\rightarrow 0$\n",
                "\n",
                "**Hint:** Try to create a function that satisfies $g(0) \\ne 0$."
            ]
        },
        {
            "cell_type": "code",
            "execution_count": null,
            "id": "5ys298vqtftliqr3je27y",
            "metadata": {
                "cellIdentifier": "5ys298vqtftliqr3je27y"
            },
            "outputs": [],
            "source": [
                "#g(x) = # uncomment and place your code here\n",
                "\n",
                "# plot your function below\n",
                "\n",
                "###\n",
                "### YOUR CODE HERE\n",
                "###\n",
                "\n",
                "using Plots\n",
                "plot(g, -5, 5, ylim=(0,1))  # Customize the y-axis limits to see the behavior of g(x) as x approaches 0\n"
            ]
        },
        {
            "cell_type": "code",
            "execution_count": null,
            "id": "y9yqkfzwbwi72iwwgwkb1s",
            "metadata": {
                "cellIdentifier": "y9yqkfzwbwi72iwwgwkb1s",
                "deletable": false,
                "editable": false,
                "nbgrader": {
                    "grade": true,
                    "grade_id": "P01.2",
                    "locked": true,
                    "points": "1",
                    "solution": false
                }
            },
            "outputs": [],
            "source": [
                "#= Friendly Check =#\n",
                "include(\"data//Friendly_test_library.jl\") # Load the library\n",
                "\n",
                "# Test the function \n",
                "# Note that the friendly test is not a formal proof or thorough check\n",
                "is_it_correct_check1b_1 = test_limit_at_zero(g; target=0, verbose=false)\n",
                "is_it_correct_check1b_2 = test_all_non_negative(g; verbose=false)\n",
                "\n",
                "\n",
                "@show is_it_correct_check1b_1\n",
                "@show is_it_correct_check1b_2"
            ]
        },
        {
            "cell_type": "markdown",
            "id": "em6ddin2asi060zppcwilql",
            "metadata": {
                "cellIdentifier": "em6ddin2asi060zppcwilql"
            },
            "source": [
                "## P.1C: Define a function $h(x)$ such that   $ h(x)$ does not have a limit as $x  \\rightarrow 0$\n",
                " "
            ]
        },
        {
            "cell_type": "code",
            "execution_count": null,
            "id": "dajmn8bi1hnmorjosseaap",
            "metadata": {
                "cellIdentifier": "dajmn8bi1hnmorjosseaap"
            },
            "outputs": [],
            "source": [
                "#h(x) = # uncomment and place your code here\n",
                "\n",
                "# make a plot of your function below as we did on the ones above\n",
                "\n",
                "###\n",
                "### YOUR CODE HERE\n",
                "###\n",
                "\n",
                "using Plots\n",
                "plot(h, -5, 5, ylim=(-1,1)) # Customize the y-axis limits to see the behavior of g(x) as x approaches 0"
            ]
        },
        {
            "cell_type": "code",
            "execution_count": null,
            "id": "2diujfxced7fokm3927t9o",
            "metadata": {
                "cellIdentifier": "2diujfxced7fokm3927t9o",
                "deletable": false,
                "editable": false,
                "nbgrader": {
                    "grade": true,
                    "grade_id": "P01.3",
                    "locked": true,
                    "points": "1",
                    "solution": false
                }
            },
            "outputs": [],
            "source": [
                "#= Friendly Check =#\n",
                "include(\"data//Friendly_test_library.jl\") # Load the library\n",
                "\n",
                "# Test the function \n",
                "# Note that the friendly test is not a formal proof or thorough check\n",
                "is_it_correct_check1c = test_no_limit_at_zero(h; verbose=false)\n",
                "\n",
                "@show is_it_correct_check1c"
            ]
        },
        {
            "cell_type": "markdown",
            "id": "q6pynouna6j440n1my1y2",
            "metadata": {
                "cellIdentifier": "q6pynouna6j440n1my1y2"
            },
            "source": [
                "## P.1D: Define a STRICTLY monotonically increasing function j(x) such that   $ j(x)$ converges to 5.0 as $x  \\rightarrow \\infty$\n",
                " "
            ]
        },
        {
            "cell_type": "code",
            "execution_count": null,
            "id": "ln6hpgfkrusvlpdv8ecx1h",
            "metadata": {
                "cellIdentifier": "ln6hpgfkrusvlpdv8ecx1h"
            },
            "outputs": [],
            "source": [
                "#j(x) = # uncomment and place your code here\n",
                "\n",
                "# make a plot of your function below as we did on the ones above\n",
                "\n",
                "###\n",
                "### YOUR CODE HERE\n",
                "###\n",
                "\n",
                "using Plots\n",
                "plot(j, 0, 100, ylim=(-1,10)) # Customize the y-axis limits to see the behavior of g(x) as x approaches 0"
            ]
        },
        {
            "cell_type": "code",
            "execution_count": null,
            "id": "i72m707068pdt4ch3z3ow",
            "metadata": {
                "cellIdentifier": "i72m707068pdt4ch3z3ow",
                "deletable": false,
                "editable": false,
                "nbgrader": {
                    "grade": true,
                    "grade_id": "P01.4.1",
                    "locked": true,
                    "points": "0.5",
                    "solution": false
                }
            },
            "outputs": [],
            "source": [
                "#= Friendly Check =#\n",
                "include(\"data//Friendly_test_library.jl\") # Load the library\n",
                "\n",
                "# Test the function \n",
                "# Note that the friendly test is not a formal proof or thorough check\n",
                "is_it_correct_check1d_1 = test_limit_at_infinity(j; verbose=false)\n",
                "is_it_correct_check1d_2 = test_strictly_increasing(j; verbose=false)\n",
                "\n",
                "@show is_it_correct_check1d_1\n",
                "@show is_it_correct_check1d_2"
            ]
        },
        {
            "cell_type": "code",
            "execution_count": null,
            "metadata": {},
            "outputs": [],
            "source": [
                "# ========== PROBLEM 1 SAMPLE SOLUTION ==========\n",
                "# You can use this as a reference to check your answer.\n",
                "\n",
                "### 1 BEGIN SOLUTION\n",
                "f(x) = 1 / x^2 \n",
                "g(x) = exp(-1 / x^2)\n",
                "h(x) = sin(1 / x)\n",
                "j(x) = 5 - 1/x\n",
                "### 1 BEGIN SOLUTION"
            ]
        },
        {
            "cell_type": "code",
            "execution_count": null,
            "metadata": {},
            "outputs": [],
            "source": [
                "# ====================================================\n",
                "# 🔒 GRADER CELL — Problem 1 (Do Not Edit)\n",
                "# ====================================================\n",
                "# This cell required previous Friendly checks to be run first.\n",
                "# Please run this cell before going to the next problem to avoid variable errors.\n",
                "\n",
                "point_1A = is_it_correct_check1a ? 1 : 0\n",
                "point_1B = is_it_correct_check1b_1 && is_it_correct_check1b_2 ? 1 : 0\n",
                "point_1C = is_it_correct_check1c ? 1 : 0\n",
                "point_1D = is_it_correct_check1d_1 && is_it_correct_check1d_2 ? 1 : 0\n",
                "total_score_1 = point_1A + point_1B + point_1C + point_1D\n",
                "\n",
                "# Show score\n",
                "println(\"Problem 1 Score: $total_score_1 / 4\")"
            ]
        },
        {
            "cell_type": "markdown",
            "id": "b3jt8zc2lfsr19xei84gwp",
            "metadata": {
                "cellIdentifier": "b3jt8zc2lfsr19xei84gwp"
            },
            "source": [
                "# Problem 2: Riemann Lower and Upper Sums\n",
                "\n",
                "In this problem, you’ll create a series of functions. Once the first one is working, each of the following functions will only require small modifications to your existing code.\n",
                "\n",
                "**Hint:** Modify the following code to build a uniform partition of [a, b]:\n",
                "```Julia\n",
                "    Δx = (b-a)/N\n",
                "    x = range(a, b, N+1)\n",
                "```\n",
                "\n",
                "<br>\n",
                "\n",
                "<p align=\"center\">\n",
                "  <img src=\"data/HW02RiemannIntegralContinuousFunction.png\" width=\"75%\">\n",
                "</p>"
            ]
        },
        {
            "cell_type": "markdown",
            "id": "usutiobby3scq0hp2g0hk",
            "metadata": {
                "cellIdentifier": "usutiobby3scq0hp2g0hk"
            },
            "source": [
                "## P.2A: Riemann Lower Sum, Monotonically Increasing Function\n",
                "\n",
                "Create a function that will compute the Riemann Lower Sum for a Function $f:[a, b] \\to \\mathbb{R}$ that is **Monotonically INCREASING**, such as $f(x) = 2 + x$."
            ]
        },
        {
            "cell_type": "code",
            "execution_count": null,
            "id": "6bs462o2ca8uvq1e26d99h",
            "metadata": {
                "cellIdentifier": "6bs462o2ca8uvq1e26d99h"
            },
            "outputs": [],
            "source": [
                "# \n",
                "function myRiemannLowerSum4IncreasingFunction(f, a, b, N)\n",
                "    if b < a\n",
                "        a, b = (b, a)\n",
                "    end\n",
                "    N = floor(Int64, N)\n",
                "    if N < 2\n",
                "        N = 2\n",
                "    end\n",
                "    Δx = (b-a)/N\n",
                "    \n",
                "    # Complete the function \n",
                "    ###\n",
                "    ### YOUR CODE HERE\n",
                "    ###\n",
                "\n",
                "    return lowerSum\n",
                "end"
            ]
        },
        {
            "cell_type": "code",
            "execution_count": null,
            "id": "ho6qlz615t5v74lz0sy47",
            "metadata": {
                "cellIdentifier": "ho6qlz615t5v74lz0sy47"
            },
            "outputs": [],
            "source": [
                "#= Friendly Check =#\n",
                "f(x) = x\n",
                "lowerSum = myRiemannLowerSum4IncreasingFunction(f, 0, 1, 10)\n",
                "\n",
                "# if the value of is_it_correct_checkN is \"Yes\", then your answer is LIKELY correct. \n",
                "# If the value of is_it_correct_checkN is \"No\", then your answer is DEFINITELY wrong\n",
                "\n",
                "is_it_correct_check2a = abs(lowerSum - 0.45) < 1e-3 ? \"Yes\" : \"No\"\n",
                "\n",
                "@show is_it_correct_check2a;\n",
                "\n",
                "if abs(lowerSum - 0.55) < 1e-3\n",
                "    println(\"You are computing the upper sum. Draw a picture and decide if you \n",
                "        need to use f(x[i]) or f(x[i+1]) when f(x) is decreasing.\")\n",
                "end\n"
            ]
        },
        {
            "cell_type": "markdown",
            "id": "d9zya85iljb0dxskve8gahu",
            "metadata": {
                "cellIdentifier": "d9zya85iljb0dxskve8gahu"
            },
            "source": [
                "## P.2B: Riemann Upper Sum, Monotonically Increasing Function\n",
                "\n",
                "Create a function that will compute the Riemann Upper Sum for a Function 𝑓:[𝑎,𝑏]→ℝ that is **Monotonically INCREASING**,  such as $f(x) = 2 + x$.\n",
                " "
            ]
        },
        {
            "cell_type": "code",
            "execution_count": null,
            "id": "s4itt1mfiinsvxh5yiwgnc",
            "metadata": {
                "cellIdentifier": "s4itt1mfiinsvxh5yiwgnc"
            },
            "outputs": [],
            "source": [
                "# \n",
                "function myRiemannUpperSum4IncreasingFunction(f, a, b, N)\n",
                "    if b < a\n",
                "        a, b = (b, a)\n",
                "    end\n",
                "    N = floor(Int64, N)\n",
                "    if N < 2\n",
                "        N = 2\n",
                "    end\n",
                "    Δx = (b-a)/N\n",
                "\n",
                "    # Complete the function \n",
                "    ###\n",
                "    ### YOUR CODE HERE\n",
                "    ###\n",
                "\n",
                "    return upperSum\n",
                "end"
            ]
        },
        {
            "cell_type": "code",
            "execution_count": null,
            "id": "4yyu2nf73hprp3ueu9duyi",
            "metadata": {
                "cellIdentifier": "4yyu2nf73hprp3ueu9duyi"
            },
            "outputs": [],
            "source": [
                "#= Friendly Check =#\n",
                "f(x) = x\n",
                "upperSum = myRiemannUpperSum4IncreasingFunction(f, 0, 1, 10)\n",
                "\n",
                "# if the value of is_it_correct_checkN is \"Yes\", then your answer is LIKELY correct. \n",
                "# If the value of is_it_correct_checkN is \"No\", then your answer is DEFINITELY wrong\n",
                "\n",
                "is_it_correct_check2b = abs(upperSum - 0.55) < 1e-3 ? \"Yes\" : \"No\"\n",
                "\n",
                "@show is_it_correct_check2b"
            ]
        },
        {
            "cell_type": "markdown",
            "id": "n04o8tg7k2f10gu6llgup2",
            "metadata": {
                "cellIdentifier": "n04o8tg7k2f10gu6llgup2",
                "deletable": false,
                "editable": false,
                "nbgrader": {
                    "grade": false,
                    "locked": true,
                    "solution": false
                }
            },
            "source": [
                "## P.2C: Riemann Lower Sum, General Continuous Function\n",
                "\n",
                "Create a function that will compute the Riemann Lower Sum for a Function 𝑓:[𝑎,𝑏]→ℝ that is **\"Continuous\"** such as $f(x) = 2 - x$, but without assuming it is increasing or decreasing; in other words, you need to handle functions such as $ \\sin(x) $ that wander around!\n",
                "\n",
                "**Hint:** only use the two end points of each sub-interval. In other words, if you have $[x_i, x_{i+1}]$, where $x_{i+1} = x_i + \\Delta x $, then only use $f(x_i)$ or $f(x_{i+1})$ when computing a lower or upper sum.\n",
                "\n",
                "To compute a minimum of two values:\n",
                "```julia\n",
                "y = [y1, y2, y3, y4]\n",
                "i = 2\n",
                "yMin = minimum([y[i], y[i+1]])\n",
                "```"
            ]
        },
        {
            "cell_type": "code",
            "execution_count": null,
            "id": "3g7o55g0blwfdjvp17b2n",
            "metadata": {
                "cellIdentifier": "3g7o55g0blwfdjvp17b2n"
            },
            "outputs": [],
            "source": [
                "# \n",
                "function myRiemannLowerSum4ContinuousFunction(f, a, b, N)\n",
                "    if b < a\n",
                "        a, b = (b, a)\n",
                "    end\n",
                "    N = floor(Int64, N)\n",
                "    if N < 2\n",
                "        N = 2\n",
                "    end\n",
                "    Δx = (b-a)/N\n",
                "\n",
                "    # Complete the function \n",
                "    ###\n",
                "    ### YOUR CODE HERE\n",
                "    ###\n",
                "\n",
                "    return lowerSum\n",
                "end"
            ]
        },
        {
            "cell_type": "code",
            "execution_count": null,
            "id": "880bth0xhu8j1qm4z39eq",
            "metadata": {
                "cellIdentifier": "880bth0xhu8j1qm4z39eq"
            },
            "outputs": [],
            "source": [
                "#= Friendly Check =#\n",
                "f(x) = -x\n",
                "lowerSum = myRiemannLowerSum4ContinuousFunction(f, 0, 1, 10)\n",
                "\n",
                "# if the value of is_it_correct_checkN is \"Yes\", then your answer is LIKELY correct. \n",
                "# If the value of is_it_correct_checkN is \"No\", then your answer is DEFINITELY wrong\n",
                "\n",
                "is_it_correct_check2c = abs(lowerSum + 0.55) < 1e-3 ? \"Yes\" : \"No\"\n",
                "\n",
                "@show is_it_correct_check2c"
            ]
        },
        {
            "cell_type": "markdown",
            "id": "hz27o04g06uwabg57pdkmk",
            "metadata": {
                "cellIdentifier": "hz27o04g06uwabg57pdkmk"
            },
            "source": [
                "## P.2D: Riemann Upper Sum, General Continuous Function\n",
                "\n",
                "Create a function that will compute the Riemann Upper Sum for a Function $f:[a, b] \\to \\mathbb{R}$ that is \"Continuous\", such as $f(x) = 2 - x$, but without assuming it is increasing or decreasing; in other words, you need to handle functions such as $\\sin(x)$ that wander around!"
            ]
        },
        {
            "cell_type": "code",
            "execution_count": null,
            "id": "ghmmzy1sicfuniedivj91f",
            "metadata": {
                "cellIdentifier": "ghmmzy1sicfuniedivj91f"
            },
            "outputs": [],
            "source": [
                "# \n",
                "function myRiemannUpperSum4ContinuousFunction(f, a, b, N)\n",
                "    if b < a\n",
                "        a, b = (b, a)\n",
                "    end\n",
                "    N = floor(Int64, N)\n",
                "    if N < 2\n",
                "        N = 2\n",
                "    end\n",
                "    Δx = (b-a)/N\n",
                "    \n",
                "    # Complete the function \n",
                "    ###\n",
                "    ### YOUR CODE HERE\n",
                "    ###\n",
                "    return upperSum\n",
                "end"
            ]
        },
        {
            "cell_type": "code",
            "execution_count": null,
            "id": "97v38nt6ixnq195ypuj2l9",
            "metadata": {
                "cellIdentifier": "97v38nt6ixnq195ypuj2l9"
            },
            "outputs": [],
            "source": [
                "#= Friendly Check =#\n",
                "f(x) = -x\n",
                "upperSum = myRiemannUpperSum4ContinuousFunction(f, 0, 1, 10)\n",
                "\n",
                "# if the value of is_it_correct_checkN is \"Yes\", then your answer is LIKELY correct. \n",
                "# If the value of is_it_correct_checkN is \"No\", then your answer is DEFINITELY wrong\n",
                "\n",
                "is_it_correct_check2d = abs(upperSum + 0.45) < 1e-3 ? \"Yes\" : \"No\"\n",
                "\n",
                "@show is_it_correct_check2d"
            ]
        },
        {
            "cell_type": "code",
            "execution_count": null,
            "metadata": {},
            "outputs": [],
            "source": [
                "# ========== PROBLEM 2 SAMPLE SOLUTION ==========\n",
                "# You can use this as a reference to check your answer.\n",
                "\n",
                "### 2A BEGIN SOLUTION\n",
                "function myRiemannLowerSum4IncreasingFunction(f, a, b, N)\n",
                "    if b < a\n",
                "        a, b = (b, a)\n",
                "    end\n",
                "    N = floor(Int64, N)\n",
                "    if N < 2\n",
                "        N = 2\n",
                "    end\n",
                "    Δx = (b-a)/N\n",
                "    x = range(a, b, N+1)\n",
                "    y = f.(x)\n",
                "    lowerSum = 0.0\n",
                "    for i = 1:N\n",
                "        lowerSum += Δx *y[i]\n",
                "    end\n",
                "    return lowerSum\n",
                "end\n",
                "### 2A END SOLUTION\n",
                "\n",
                "### 2B BEGIN SOLUTION\n",
                "function myRiemannUpperSum4IncreasingFunction(f, a, b, N)\n",
                "    if b < a\n",
                "        a, b = (b, a)\n",
                "    end\n",
                "    N = floor(Int64, N)\n",
                "    if N < 2\n",
                "        N = 2\n",
                "    end\n",
                "    Δx = (b-a)/N\n",
                "    x = range(a, b, N+1)\n",
                "    y = f.(x)\n",
                "    upperSum = 0.0\n",
                "    for i = 1:N\n",
                "        upperSum += Δx *y[i+1]\n",
                "    end\n",
                "    return upperSum\n",
                "end\n",
                "### 2B END SOLUTION\n",
                "\n",
                "### 2C BEGIN SOLUTION\n",
                "function myRiemannLowerSum4ContinuousFunction(f, a, b, N)\n",
                "    if b < a\n",
                "        a, b = (b, a)\n",
                "    end\n",
                "    N = floor(Int64, N)\n",
                "    if N < 2\n",
                "        N = 2\n",
                "    end\n",
                "    Δx = (b-a)/N\n",
                "    x = range(a, b, N+1)\n",
                "    y = f.(x)\n",
                "    lowerSum = 0.0\n",
                "    for i = 1:N\n",
                "        lowerSum += Δx *minimum([y[i], y[i+1]])\n",
                "    end\n",
                "    return lowerSum\n",
                "end\n",
                "### 2C END SOLUTION\n",
                "\n",
                "### 2D BEGIN SOLUTION\n",
                "function myRiemannUpperSum4ContinuousFunction(f, a, b, N)\n",
                "    if b < a\n",
                "        a, b = (b, a)\n",
                "    end\n",
                "    N = floor(Int64, N)\n",
                "    if N < 2\n",
                "        N = 2\n",
                "    end\n",
                "    Δx = (b-a)/N\n",
                "    x = range(a, b, N+1)\n",
                "    y = f.(x)\n",
                "    upperSum = 0.0\n",
                "    for i = 1:N\n",
                "        upperSum += Δx *maximum([y[i], y[i+1]])\n",
                "    end\n",
                "    return upperSum\n",
                "end\n",
                "### 2D END SOLUTION\n"
            ]
        },
        {
            "cell_type": "code",
            "execution_count": null,
            "metadata": {},
            "outputs": [],
            "source": [
                "# ====================================================\n",
                "# 🔒 GRADER CELL — Problem 2 (Do Not Edit)\n",
                "# ====================================================\n",
                "# This cell required previous Friendly checks to be run first.\n",
                "# Please run this cell before going to the next problem to avoid variable errors.\n",
                "\n",
                "f(x) = x^3\n",
                "lowerSum1 = myRiemannLowerSum4IncreasingFunction(f, 0, 1, 100)\n",
                "upperSum1 = myRiemannUpperSum4IncreasingFunction(f, 0, 1, 100)\n",
                "\n",
                "g(x) = sin(x)\n",
                "lowerSum2 = myRiemannLowerSum4ContinuousFunction(g, 0, 2*pi, 100)\n",
                "upperSum2 = myRiemannUpperSum4ContinuousFunction(g, 0, 2*pi, 100)\n",
                "\n",
                "point_2A = is_it_correct_check2a == \"Yes\" && abs(lowerSum1 - 0.245025) < 1e-3 ? 1 : 0\n",
                "point_2B = is_it_correct_check2b == \"Yes\" && abs(upperSum1 - 0.255025) < 1e-3 ? 1 : 0\n",
                "point_2C = is_it_correct_check2c == \"Yes\" && abs(lowerSum2 + 0.125664) < 1e-3 ? 1 : 0\n",
                "point_2D = is_it_correct_check2d == \"Yes\" && abs(upperSum2 - 0.1256637) < 1e-3 ? 1 : 0\n",
                "total_score_2 = point_2A + point_2B + point_2C + point_2D\n",
                "\n",
                "# Show score\n",
                "println(\"Problem 2 Score: $total_score_2 / 4\")"
            ]
        },
        {
            "cell_type": "markdown",
            "id": "7m90x69qkwq6prbu5ta3r3",
            "metadata": {
                "cellIdentifier": "7m90x69qkwq6prbu5ta3r3"
            },
            "source": [
                "# Problem 3: Riemann Integrability through the Lens of the Approximation Principle: Lower and Upper Sums Converging to a Common Value\n",
                "\n",
                "<br>\n",
                "<p align=\"center\">\n",
                "  <img src=\"data/HW02DefinitionRiemannIntegral.png\" width=\"80%\">\n",
                "</p>\n",
                "<br>\n",
                "\n",
                "Determine how many of the four functions below are Riemann Integrable:"
            ]
        },
        {
            "cell_type": "code",
            "execution_count": null,
            "id": "8hc8uiff5kwawzvtkybilt",
            "metadata": {
                "cellIdentifier": "8hc8uiff5kwawzvtkybilt"
            },
            "outputs": [],
            "source": [
                "function f1(x)\n",
                "    return tan(1 / (x + 1e-6))\n",
                "end\n",
                "\n",
                "function f2(x)\n",
                "    if isapprox(x, floor(x); atol=1e-10)\n",
                "        return 1.0\n",
                "    else\n",
                "        return 0.0\n",
                "    end\n",
                "end\n",
                "\n",
                "function f3(x)\n",
                "    return x^2 * sin(1 / (x + 1e-6))\n",
                "end\n",
                "\n",
                "function f4(x)\n",
                "    return abs(sin(1000 * x)) / abs(x + 1e-10)\n",
                "end"
            ]
        },
        {
            "cell_type": "markdown",
            "id": "chjur10obwgsq1wodyqcg",
            "metadata": {
                "cellIdentifier": "chjur10obwgsq1wodyqcg"
            },
            "source": [
                "Run the following cell for each of the four functions. Then answer this question:  \n",
                "**How many of the four functions are integrable?**"
            ]
        },
        {
            "cell_type": "code",
            "execution_count": null,
            "id": "0ax6exhv004cpp3eyl6odt9",
            "metadata": {
                "cellIdentifier": "0ax6exhv004cpp3eyl6odt9"
            },
            "outputs": [],
            "source": [
                "using Plots\n",
                "\n",
                "g(x) = f1(x) # Change this to f2(x), f3(x), f4(x) and observe the output\n",
                "\n",
                "a, b = (-5, 5)\n",
                "N=2.0.^[1, 2, 4, 8, 12]; N = floor.(Int64, N)\n",
                "lowerBound = zeros(length(N))\n",
                "upperBound = zeros(length(N))\n",
                "for k = 1:length(N)\n",
                "    lowerBound[k] = myRiemannLowerSum4ContinuousFunction(g, a, b, N[k])\n",
                "    upperBound[k] = myRiemannUpperSum4ContinuousFunction(g, a, b, N[k])\n",
                "end\n",
                "\n",
                "Nmin = N[1]\n",
                "Nmax = N[end]\n",
                "println(\"Number of subintervals varies from $Nmin to $Nmax \\n\")\n",
                "\n",
                "println(\"If the dots overlap, then the lower and upper bounds are converging \n",
                "    to a common number, and hence the function is integrable.\")\n",
                "\n",
                "plt1 = scatter(log2.(N), lowerBound, color=:blue, label=\"Lower Sum\", guidefont=15)\n",
                "scatter!(log2.(N), upperBound, color=:red, label=\"Upper Sum\")\n",
                "xlabel!(\"log2(N)\")\n",
                "ylabel!(\"Lower and Upper Sums\")\n",
                "\n"
            ]
        },
        {
            "cell_type": "code",
            "execution_count": null,
            "id": "yvdldhtx62mmvqm87tt62q",
            "metadata": {
                "cellIdentifier": "yvdldhtx62mmvqm87tt62q"
            },
            "outputs": [],
            "source": [
                "# Uncomment the correct answer \n",
                "\n",
                "# myAnswer03 = 0\n",
                "# myAnswer03 = 1\n",
                "# myAnswer03 = 2\n",
                "# myAnswer03 = 3\n",
                "# myAnswer03 = 4\n",
                "\n",
                "###\n",
                "### YOUR CODE HERE\n",
                "###"
            ]
        },
        {
            "cell_type": "code",
            "execution_count": null,
            "id": "e61j2qcjm4uzcoo73i0l78",
            "metadata": {
                "cellIdentifier": "e61j2qcjm4uzcoo73i0l78",
                "deletable": false,
                "editable": false,
                "nbgrader": {
                    "grade": true,
                    "grade_id": "P03",
                    "locked": true,
                    "points": "1",
                    "solution": false
                }
            },
            "outputs": [],
            "source": [
                "#= Friendly Test =# \n",
                "is_it_correct_check3 = (abs(myAnswer03 - 2) < 0.1) ? \"Yes\" : \"No\"\n",
                "\n",
                "@show is_it_correct_check3"
            ]
        },
        {
            "cell_type": "code",
            "execution_count": null,
            "metadata": {},
            "outputs": [],
            "source": [
                "# ====================================================\n",
                "# 🔒 GRADER CELL — Problem 3 (Do Not Edit)\n",
                "# ====================================================\n",
                "# This cell required previous Friendly checks to be run first.\n",
                "# Please run this cell before going to the next problem to avoid variable errors.\n",
                "\n",
                "total_score_3 = is_it_correct_check3 == \"Yes\" ? 1 : 0\n",
                "\n",
                "# Show score\n",
                "println(\"Problem 3 Score: $total_score_3 / 1\")"
            ]
        },
        {
            "cell_type": "markdown",
            "id": "xj8kzwrdk8cknjmo02grf",
            "metadata": {
                "cellIdentifier": "xj8kzwrdk8cknjmo02grf"
            },
            "source": [
                "# Problem 4: From Riemann Lower and Upper Sums to An Estimated Value and Error for the Integral\n",
                "\n",
                "Use the two functions:\n",
                "\n",
                "- `myRiemannLowerSum4ContinuousFunction(f, a, b, N)`\n",
                "- `myRiemannUpperSum4ContinuousFunction(f, a, b, N)`\n",
                "\n",
                "that you built and tested above to create a new function that computes:\n",
                "\n",
                "- `myEstimatedIntegral`\n",
                "- `myPMerror`\n",
                "\n",
                "These should work for continuous functions \\( f : [a, b] \\to \\mathbb{R} \\) — even ones that wiggle around!"
            ]
        },
        {
            "cell_type": "code",
            "execution_count": null,
            "id": "euym4nm1ptnrh4q23gwyyn",
            "metadata": {
                "cellIdentifier": "euym4nm1ptnrh4q23gwyyn"
            },
            "outputs": [],
            "source": [
                "# function template\n",
                "\n",
                "function myRiemannIntegralValueAndError(f, a, b, N)\n",
                "    #\n",
                "    lowerSum = myRiemannLowerSum4ContinuousFunction(f, a, b, N)\n",
                "    upperSum = myRiemannUpperSum4ContinuousFunction(f, a, b, N)\n",
                "    # complete the function using lowerSum and upperSum\n",
                "    # following the Approximation Principle\n",
                "\n",
                "    ###\n",
                "    ### YOUR CODE HERE\n",
                "    ###\n",
                "\n",
                "    return myEstimatedIntegral, myPMerror\n",
                "end\n",
                "    "
            ]
        },
        {
            "cell_type": "code",
            "execution_count": null,
            "id": "1srq9vff2okdahh96gcage",
            "metadata": {
                "cellIdentifier": "1srq9vff2okdahh96gcage"
            },
            "outputs": [],
            "source": [
                "#= Friendly Check =#\n",
                "f(x) = -x\n",
                "myEstimatedIntegral01, myPMerror01= myRiemannIntegralValueAndError(f, 0, 1, 10)\n",
                "\n",
                "\n",
                "# if the value of is_it_correct_checkN is \"Yes\", then your answer is LIKELY correct. \n",
                "# If the value of is_it_correct_checkN is \"No\", then your answer is DEFINITELY wrong\n",
                "\n",
                "is_it_correct_check4_1 = abs(myEstimatedIntegral01 + 0.5) < 1e-6 ? \"Yes\" : \"No\"\n",
                "is_it_correct_check4_2 = abs(myPMerror01 - 0.04999999999999999) < 1e-3 ? \"Yes\" : \"No\"\n",
                "\n",
                "@show is_it_correct_check4_1;\n",
                "@show is_it_correct_check4_2;"
            ]
        },
        {
            "cell_type": "code",
            "execution_count": null,
            "metadata": {},
            "outputs": [],
            "source": [
                "# ========== PROBLEM 4 SAMPLE SOLUTION ==========\n",
                "# You can use this as a reference to check your answer.\n",
                "\n",
                "### 4 BEGIN SOLUTION\n",
                "function myRiemannIntegralValueAndError(f, a, b, N)\n",
                "    #\n",
                "    lowerSum = myRiemannLowerSum4ContinuousFunction(f, a, b, N)\n",
                "    upperSum = myRiemannUpperSum4ContinuousFunction(f, a, b, N)\n",
                "\n",
                "    myEstimatedIntegral = (upperSum + lowerSum)/2.0\n",
                "    myPMerror =  (upperSum - lowerSum)/2.0\n",
                "    return myEstimatedIntegral, myPMerror\n",
                "end\n",
                "### 4 BEGIN SOLUTION"
            ]
        },
        {
            "cell_type": "code",
            "execution_count": null,
            "metadata": {},
            "outputs": [],
            "source": [
                "# ====================================================\n",
                "# 🔒 GRADER CELL — Problem 4 (Do Not Edit)\n",
                "# ====================================================\n",
                "# This cell required previous Friendly checks to be run first.\n",
                "# Please run this cell before going to the next problem to avoid variable errors.\n",
                "g(x) = sin(x)\n",
                "myEstimatedIntegral02, myPMerror02= myRiemannIntegralValueAndError(g, 0, 2*pi, 100)\n",
                "\n",
                "point_4A = is_it_correct_check4_1 == \"Yes\" && is_it_correct_check4_2 == \"Yes\" ? 1 : 0\n",
                "point_4B = abs(myEstimatedIntegral02 - 1.8041124e-16) < 1e-6 && abs(myPMerror02 - 0.12566370) < 1e-6 ? 1 : 0\n",
                "total_score_4 = (point_4A + point_4B)/2\n",
                "\n",
                "# Show score\n",
                "println(\"Problem 4 Score: $total_score_4 / 1\")"
            ]
        },
        {
            "cell_type": "markdown",
            "id": "g8qkqwfz867kl3kyu6urh",
            "metadata": {
                "cellIdentifier": "g8qkqwfz867kl3kyu6urh"
            },
            "source": [
                "# Problem 5: Estimating Some Gnarly Integrals\n",
                "\n",
                "- For each case, choose a value of `N` such that `myPMerror` is less than `1e-2`.\n",
                "- We’ll check that your `N` is reasonable (no more than twice our reference value).\n",
                "- We’ll also check that your plus/minus error is no greater than `1e-2` (i.e., 0.01).\n",
                "\n",
                "## P.5A"
            ]
        },
        {
            "cell_type": "code",
            "execution_count": null,
            "id": "pkrqas98r0rsq57wllpsz8",
            "metadata": {
                "cellIdentifier": "pkrqas98r0rsq57wllpsz8"
            },
            "outputs": [],
            "source": [
                "integrandA(x) = exp(-x^2)\n",
                "a, b = (0, 1.5)\n",
                "\n",
                "#nA = ??  # Number of partitions of [a, b]\n",
                "\n",
                "###\n",
                "### YOUR CODE HERE\n",
                "###\n",
                "\n",
                "myEstimatedIntegralA, myPMerrorA= myRiemannIntegralValueAndError(integrandA, a, b, nA)\n"
            ]
        },
        {
            "cell_type": "code",
            "execution_count": null,
            "id": "4t03gcmhmh8qjrungfomjg",
            "metadata": {
                "cellIdentifier": "4t03gcmhmh8qjrungfomjg",
                "deletable": false,
                "editable": false,
                "nbgrader": {
                    "grade": true,
                    "grade_id": "P05.1",
                    "locked": true,
                    "points": "1",
                    "solution": false
                }
            },
            "outputs": [],
            "source": [
                "#= Friendly Check =#\n",
                "is_it_correct_check5a_1 = abs(myEstimatedIntegralA - 0.8561762945019546) < 1e-2 ? \"Yes\" : \"No\"\n",
                "is_it_correct_check5a_2 = myPMerrorA < 1e-2 ? \"Yes\" : \"No\"\n",
                "\n",
                "@show is_it_correct_check5a_1\n",
                "@show is_it_correct_check5a_2"
            ]
        },
        {
            "cell_type": "markdown",
            "id": "s8f7wlp66j5773dhnctcp",
            "metadata": {
                "cellIdentifier": "s8f7wlp66j5773dhnctcp"
            },
            "source": [
                " ## P.5B"
            ]
        },
        {
            "cell_type": "code",
            "execution_count": null,
            "id": "7o0i2qg5uu7wz0q7m5ddkk",
            "metadata": {
                "cellIdentifier": "7o0i2qg5uu7wz0q7m5ddkk"
            },
            "outputs": [],
            "source": [
                "funB(x) = sin(x^2)/x\n",
                "integrandB(x) = funB(x) + 2*(funB(x))^2 + 3*(funB(x))^3\n",
                "a, b = (-2, 1)\n",
                "\n",
                "#nB = ??  # Number of partitions of [a, b]\n",
                "\n",
                "###\n",
                "### YOUR CODE HERE\n",
                "###\n",
                "\n",
                "myEstimatedIntegralB, myPMerrorB= myRiemannIntegralValueAndError(integrandB, a, b, nB)\n"
            ]
        },
        {
            "cell_type": "code",
            "execution_count": null,
            "id": "qliijgtvrm99dl3klpplx9",
            "metadata": {
                "cellIdentifier": "qliijgtvrm99dl3klpplx9",
                "deletable": false,
                "editable": false,
                "nbgrader": {
                    "grade": true,
                    "grade_id": "P05.2",
                    "locked": true,
                    "points": "1",
                    "solution": false
                }
            },
            "outputs": [],
            "source": [
                "#= Friendly Check =#\n",
                "is_it_correct_check5b_1 = abs(myEstimatedIntegralB - 0.7066363618737714) < 1e-2 ? \"Yes\" : \"No\"\n",
                "is_it_correct_check5b_2 = myPMerrorB < 1e-2 ? \"Yes\" : \"No\"\n",
                "\n",
                "@show is_it_correct_check5b_1\n",
                "@show is_it_correct_check5b_2"
            ]
        },
        {
            "cell_type": "code",
            "execution_count": null,
            "metadata": {},
            "outputs": [],
            "source": [
                "# ====================================================\n",
                "# 🔒 GRADER CELL — Problem 5 (Do Not Edit)\n",
                "# ====================================================\n",
                "# This cell required previous Friendly checks to be run first.\n",
                "# Please run this cell before going to the next problem to avoid variable errors.\n",
                "# SAMPLE SOLUTION for nA and nB ==> 70 & 1200\n",
                "\n",
                "point_5A = is_it_correct_check5a_1 == \"Yes\" && is_it_correct_check5a_2 == \"Yes\" && nA < 150 ? 1 : 0\n",
                "point_5B = is_it_correct_check5b_1 == \"Yes\" && is_it_correct_check5b_2 == \"Yes\" && nB < 2300 ? 1 : 0\n",
                "total_score_5 = point_5A + point_5B\n",
                "\n",
                "# Show score\n",
                "println(\"Problem 5 Score: $total_score_5 / 2\")"
            ]
        },
        {
            "cell_type": "markdown",
            "id": "xtsdbbwnnq8uyn4dp7w4t",
            "metadata": {
                "cellIdentifier": "xtsdbbwnnq8uyn4dp7w4t"
            },
            "source": [
                "# Problem 6: Holding a Robot Arm at a Defined Configuration\n",
                "\n",
                "Use the smallest possible feedback gain that still achieves the required steady-state accuracy.\n",
                "\n",
                "- Review the section on feedback control in Chapter 1 of the textbook.\n",
                "- Run the cells below.\n",
                "- Adjust the feedback gain so that the end effector remains close to the target position, even when the gripper (represented by position p<sub>3</sub>) is holding a mass that varies within a given range.\n",
                "\n",
                "<br>\n",
                "\n",
                "<p align=\"center\">\n",
                "  <img src=\"data/HW02robotKinematicChain.png\" width=\"50%\">\n",
                "</p>\n",
                "\n",
                "<br>"
            ]
        },
        {
            "cell_type": "code",
            "execution_count": null,
            "id": "lzunbz77vhmsxbk4d2bm4m",
            "metadata": {
                "cellIdentifier": "lzunbz77vhmsxbk4d2bm4m"
            },
            "outputs": [],
            "source": [
                "# Run this cell\n",
                "using NLsolve\n",
                "using Plots, LaTeXStrings, LinearAlgebra\n",
                "\n",
                "function modelParameters()\n",
                "    g = 9.81 # m/s^2\n",
                "    L1 = 2 # m\n",
                "    L2 = 1\n",
                "    L3 = 1.5\n",
                "    m1 = 10 # kg\n",
                "    m2 = 20\n",
                "    m3 = 15    \n",
                "    return g, L1, L2, L3, m1, m2, m3 \n",
                "end\n",
                "\n",
                "function threeLinkManipulatorStatic(q, deltaMass, torques)\n",
                "        # Static model of a three-link manipulator    \n",
                "        # Nominal Model parameters\n",
                "        g, L1, L2, L3, m1, m2, m3 = modelParameters()\n",
                "        # Include end-effector mass\n",
                "        # Sign is flippled on purpose to make the manipulator \n",
                "        # find a lower equlibirum for a positive mass change\n",
                "        m3 -= deltaMass        \n",
                "        # Unpack the angles\n",
                "        (q1, q2, q3) = q    \n",
                "        # Terms in the manipulator static model\n",
                "        # Gravity vector\n",
                "        G = zeros(3)\n",
                "        G[1] = g * m2 * (L1 * cos(q1) + L2 * cos(q1 + q2)) + g * m3 * (L1 * cos(q1) \n",
                "        + L2 * cos(q1 + q2) + L3 * cos(q1 + q2 + q3)) + L1 * g * m1 * cos(q1)\n",
                "        G[2] = g * m3 * (L2 * cos(q1 + q2) + L3 * cos(q1 + q2 + q3)) \n",
                "        + L2 * g * m2 * cos(q1 + q2)\n",
                "        G[3] = L3 * g * m3 * cos(q1 + q2 + q3)\n",
                "        # Torque distribution matrix for this model is the identity matrix\n",
                "        B = zeros(3, 3)\n",
                "        B[1, 1] = 1; B[2, 2] = 1; B[3, 3] = 1        \n",
                "        # Error or residuals\n",
                "        # Steady state angles satisfy f == 0\n",
                "        f = G - B * torques\n",
                "        return f\n",
                "end\n",
                "\n",
                "# Calculate the positions of the robot's links based on the joint angles\n",
                "function linkPostions(q)\n",
                "    g, L1, L2, L3, m1, m2, m3 = modelParameters()\n",
                "    # Base position\n",
                "    p0 = [0.0; 0.0]\n",
                "    # unpack q\n",
                "    (th1,th2,th3) = q\n",
                "    # Calculate positions of the other joints\n",
                "    p1 = p0 + [L1 * cos(th1); L1 * sin(th1)]\n",
                "    p2 = p1 + [L2 * cos(th1+th2); L2 * sin(th1+th2)]\n",
                "    p3 = p2 + [L3 * cos(th1+th2+th3); L3 * sin(th1+th2+th3)]\n",
                "    # named return\n",
                "    return (p0=p0, p1=p1, p2=p2, p3=p3)\n",
                "end\n",
                "\n",
                "# Plot the robot's configuration\n",
                "function plot_points(positions; line_thickness=5, ball_size=10)\n",
                "    # Extract joint positions\n",
                "    p0 = positions.p0\n",
                "    p1 = positions.p1\n",
                "    p2 = positions.p2\n",
                "    p3 = positions.p3  \n",
                "    pDes = [2.9711527042836154, 3.0086560341311297]\n",
                "    # Plot the robot's configuration\n",
                "    scatter!([pDes[1]], [pDes[2]], color=:green, markersize=1*ball_size, marker=:square, label=nothing)  \n",
                "    annotate!(pDes[1],pDes[2]+0.5, text(color=:red, \"Target\"))\n",
                "    plot!([p0[1], p1[1], p2[1], p3[1]], [p0[2], p1[2], p2[2], p3[2]], \n",
                "        linewidth=line_thickness, color=:blue)        \n",
                "    scatter!([p0[1], p1[1], p2[1], p3[1]], [p0[2], p1[2], p2[2], p3[2]], color=:red, markersize=ball_size, label=nothing)\n",
                "end\n",
                "\n",
                "function threeLinkManipulatorPosition(p)\n",
                "    initial_guess = [pi/8, pi/8, pi/8]\n",
                "    GearRatio = 1e2\n",
                "    torqueNom = p[1:3]; qDes = p[4:6]; deltaMass = p[7]; k = p[8]\n",
                "    result = nlsolve(q -> threeLinkManipulatorStatic(q,deltaMass, \n",
                "            torqueNom + k*GearRatio*(q - qDes)), \n",
                "        initial_guess, method = :trust_region, ftol = 1e-5, xtol = 1e-5)\n",
                "    theta_equilibrium = result.zero\n",
                "    return theta_equilibrium\n",
                "end"
            ]
        },
        {
            "cell_type": "markdown",
            "id": "vrp4bepad89417toxcg5f1",
            "metadata": {
                "cellIdentifier": "vrp4bepad89417toxcg5f1"
            },
            "source": [
                "### Goal\n",
                "\n",
                "Adjust the feedback gain `k` and vary the end effector's load mass so that the end effector stays within **5 cm** (i.e., **0.05 m**) of the target position `pDes` for all loads in the range **[-5, 5] kg**.\n",
                "\n",
                "### The Friendly Check Will Verify:\n",
                "- That your end effector remains within **0.05 m** of `pDes` across all load variations.\n",
                "- That your chosen gain is **no more than 20% higher** than the minimum gain needed to meet the accuracy requirement.\n",
                "- Each of these is scored separately (1 point each).\n",
                "\n",
                "### What You Need to Do:\n",
                "\n",
                "Adjust the feedback gain `k` so that the system can handle any load mass in the range  \n",
                "$$ -5 \\leq \\text{deltaMass} \\leq 5 \\quad \\text{kg} $$\n",
                "\n",
                "Once your gain meets the requirement, **reduce** it slightly and test again to find the smallest gain that still satisfies the constraint. This helps avoid using an unnecessarily large or impractical value for `k`.\n"
            ]
        },
        {
            "cell_type": "code",
            "execution_count": null,
            "id": "t6tyfx83ovcpqedva20cxs",
            "metadata": {
                "cellIdentifier": "t6tyfx83ovcpqedva20cxs"
            },
            "outputs": [],
            "source": [
                "# Read me then run me\n",
                "using NLsolve\n",
                "using Plots, LaTeXStrings, LinearAlgebra\n",
                "\n",
                "# Do not change the nominal values\n",
                "qDes = [pi/8, pi/8, pi/8]\n",
                "pDes = [2.9711527042836154, 3.0086560341311297]\n",
                "torqueNominal = [354.1185915929459, 33.66382251079394, 9.38531117875383]\n",
                "\n",
                "\n",
                "# You should adjust the feedback gain k until you can handle all variations in the load mass, \n",
                "# -5 <= deltaMass <= 5 kg\n",
                "\n",
                "# You can use positive whole numbers between one and 200 for the feedback gain. \n",
                "# No need to get into the weeds by adding decimals.\n",
                "\n",
                "# let the deltaMass for the end effector range between -5 and +5 Kg\n",
                "\n",
                "# Run the cell with these starting values, then adjust them\n",
                "k = 1.0\n",
                "deltaMass = -2.0\n",
                "\n",
                "###\n",
                "### YOUR CODE HERE\n",
                "###\n",
                "\n",
                "# Let's now see how you did\n",
                "#\n",
                "# Solve for new static equilibrium of the manipulator\n",
                "p = [torqueNominal; qDes; deltaMass; k]\n",
                "qStar = threeLinkManipulatorPosition(p)\n",
                "\n",
                "# Plot the results\n",
                "positions = linkPostions(qStar)\n",
                "@show positions\n",
                "p1 = plot(; aspect_ratio=:equal, legend=false, ylims=(0.0, 3.5))\n",
                "plot_points(positions)\n",
                "myError = norm(pDes-positions.p3) # meters\n",
                "myError_cm = 100*myError # cm\n",
                "println(\"For a feedback gain of k = $k and load variation of $deltaMass kg, your positioning error is \n",
                "    $myError meters or $myError_cm centimeters. The goal is +/- 5 cm.\")\n",
                "display(p1)"
            ]
        },
        {
            "cell_type": "code",
            "execution_count": null,
            "id": "xc3d8td5yzr5oi7nszhyi",
            "metadata": {
                "cellIdentifier": "xc3d8td5yzr5oi7nszhyi"
            },
            "outputs": [],
            "source": [
                "#= Friendly Check =#\n",
                "\n",
                "# Do not change the nominal values\n",
                "qDes = [pi/8, pi/8, pi/8]\n",
                "pDes = [2.9711527042836154, 3.0086560341311297]\n",
                "torqueNominal = [354.1185915929459, 33.66382251079394, 9.38531117875383]\n",
                "\n",
                "# Solve for new static equilibrium of the manipulator\n",
                "deltaMass = 3.0\n",
                "p = [torqueNominal; qDes; deltaMass; k]\n",
                "qStar = threeLinkManipulatorPosition(p)\n",
                "positions = linkPostions(qStar)\n",
                "myError_cm_1 = 100*norm(pDes-positions.p3) \n",
                "if (abs(myError_cm_1) <= 5) \n",
                "    println(\"You met the error spec for deltaMass = $deltaMass\\n\")\n",
                "else\n",
                "    println(\"You failed the error spec for deltaMass = $deltaMass\\n\")\n",
                "end   \n",
                "\n",
                "# Solve for new static equilibrium of the manipulator\n",
                "deltaMass = -4\n",
                "p = [torqueNominal; qDes; deltaMass; k]\n",
                "qStar = threeLinkManipulatorPosition(p)\n",
                "positions = linkPostions(qStar)\n",
                "myError_cm_2 = 100*norm(pDes-positions.p3) \n",
                "if (abs(myError_cm_2) <= 5) \n",
                "    println(\"You met the error spec for deltaMass = $deltaMass\\n\")\n",
                "else\n",
                "    println(\"You failed the error spec for deltaMass = $deltaMass\\n\")\n",
                "end \n",
                "\n",
                "kStar = 165\n",
                "if (abs(k-kStar) < 0.2*kStar)\n",
                "    println(\"You are close to the minimum gain required. Good job!\")\n",
                "else\n",
                "    println(\"You are far from the minimum gain required. Please adjust your gain.\")\n",
                "end"
            ]
        },
        {
            "cell_type": "code",
            "execution_count": null,
            "metadata": {},
            "outputs": [],
            "source": [
                "# ====================================================\n",
                "# 🔒 GRADER CELL — Problem 6 (Do Not Edit)\n",
                "# ====================================================\n",
                "# This cell required previous Friendly checks to be run first.\n",
                "# Please run this cell before going to the next problem to avoid variable errors.\n",
                "# SAMPLE SOLUTION for k ==> check kStar value in friendly check\n",
                "\n",
                "deltaMass_1 = 5\n",
                "p_1 = [torqueNominal; qDes; deltaMass_1; k]\n",
                "qStar_1 = threeLinkManipulatorPosition(p_1)\n",
                "positions_1 = linkPostions(qStar_1)\n",
                "myError_cm_1 = 100*norm(pDes-positions_1.p3) \n",
                "\n",
                "deltaMass_2 = -5\n",
                "p_2 = [torqueNominal; qDes; deltaMass_2; k]\n",
                "qStar_2 = threeLinkManipulatorPosition(p_2)\n",
                "positions_2 = linkPostions(qStar_2)\n",
                "myError_cm_2 = 100*norm(pDes-positions_2.p3) \n",
                "\n",
                "point_6A = abs(myError_cm_1) <= 5 && abs(myError_cm_2) <= 5 ? 1 : 0\n",
                "point_6B = (abs(k-kStar) < 0.2*kStar) ? 1 : 0\n",
                "total_score_6 = point_6A + point_6B\n",
                "\n",
                "# Show score\n",
                "println(\"Problem 6 Score: $total_score_6 / 2\")"
            ]
        },
        {
            "cell_type": "markdown",
            "id": "mljz0891xucsdb5iehz36f",
            "metadata": {
                "cellIdentifier": "mljz0891xucsdb5iehz36f"
            },
            "source": [
                "**Related video if you have the interest:** <a href=\"https://youtu.be/yAEveAH2KwI\" target=\"_blank\">What's the curse of the Schwarz lantern?</a> \n",
                "\n",
                "**What's the Point:** There are proofs online that $\\pi = 4$. They are wrong of course. They do not provide upper and lower bounds that converge to the same number, like our proof does. Nevertheless, they can be very believable to even experienced learners. This video discusses how a related phenomenon stumped mathematicians for a long time when they started extending Calculus to multiple variables."
            ]
        },
        {
            "cell_type": "code",
            "execution_count": null,
            "metadata": {},
            "outputs": [],
            "source": [
                "# ======= Final Score Summary ======= #\n",
                "# You have to run all previous grader cells to get the final score summary.\n",
                "total_score = total_score_1 + total_score_2 + total_score_3 + total_score_4 + total_score_5 + total_score_6\n",
                "\n",
                "println(\"🎉🎯 Final Score Summary 🎯🎉\")\n",
                "println(\"────────────────────────────\")\n",
                "println(\"Problem 1: $total_score_1\")\n",
                "println(\"Problem 2: $total_score_2\")\n",
                "println(\"Problem 3: $total_score_3\")\n",
                "println(\"Problem 4: $total_score_4\")\n",
                "println(\"Problem 5: $total_score_5\")\n",
                "println(\"Problem 6: $total_score_6\")\n",
                "println(\"────────────────────────────\")\n",
                "println(\"🏆 Total Score: $total_score / 14\")"
            ]
        },
        {
            "cell_type": "markdown",
            "id": "is1l9dm8y6ghrbe4ag8cih",
            "metadata": {
                "cellIdentifier": "is1l9dm8y6ghrbe4ag8cih"
            },
            "source": [
                "\n",
                "<p align=\"center\" style=\"font-size:48px;\"><strong>The End! </strong></p>\n",
                "\n",
                "\n",
                "\n",
                "\n",
                "\n"
            ]
        }
    ],
    "metadata": {
        "kernel_id": "107936d3-cd22-4406-8460-a4ba10867cdb",
        "kernelspec": {
            "display_name": "Julia 1.10.5",
            "language": "julia",
            "name": "julia-1.10"
        },
        "language_info": {
            "file_extension": ".jl",
            "mimetype": "application/julia",
            "name": "julia",
            "version": "1.10.5"
        }
    },
    "nbformat": 4,
    "nbformat_minor": 2
}
