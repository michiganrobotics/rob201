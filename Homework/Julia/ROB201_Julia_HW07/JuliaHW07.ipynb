{
    "cells": [
        {
            "cell_type": "markdown",
            "metadata": {},
            "source": [
                "University of Michigan - ROB 201 Calculus for the Modern Engineer\n",
                "\n",
                "---\n"
            ]
        },
        {
            "cell_type": "markdown",
            "id": "u8ouqzzxkyle5x4j8khb7s",
            "metadata": {
                "cellIdentifier": "u8ouqzzxkyle5x4j8khb7s",
                "nbgrader": {
                    "grade": false,
                    "locked": false,
                    "solution": false
                }
            },
            "source": [
                "# Julia HW07: Chapters 6.5-7.5 \n",
                "\n",
                "### Topics Covered\n",
                "- Path Planning\n",
                "- Fundamental Theorems of Calculus\n",
                "- Software Tools for Antiderivatives\n",
                "  - SymPy\n",
                "  - LLMs\n",
                "  - Wolfram Alpha Pro\n",
                "\n",
                "<br>\n",
                "\n",
                "<p align=\"center\">\n",
                "  <img src=\"data/HW07KangarooRobotV02.png\", width=\"30%\">\n",
                "</p>\n",
                "\n",
                "> ChatGPT 4o was asked to place the Second Fundamental Theorem of Calculus on the robot kangaroo's chest...oh well!"
            ]
        },
        {
            "cell_type": "markdown",
            "id": "n3k3x2o8tqn8wmr1lbx4g",
            "metadata": {
                "cellIdentifier": "n3k3x2o8tqn8wmr1lbx4g",
                "nbgrader": {
                    "grade": false,
                    "locked": false,
                    "solution": false
                }
            },
            "source": [
                "# What is Path Planning?\n",
                "\n",
                "Path planning is the process of figuring out how a robot can move from one place to another while avoiding obstacles along the way. Whether it’s a robot arm reaching for an object or a self-driving car navigating city streets, path planning plays a key role in making sure the robot moves efficiently, safely, and realistically. This involves more than just drawing a straight line from point A to point B — the robot’s movement has to respect physical constraints (like how it can turn or accelerate) and the layout of its environment. Depending on the application, there are many techniques to handle this, including grid-based methods, sampling-based algorithms like RRT (Rapidly-exploring Random Tree), and search algorithms such as A* and Dijkstra’s. Good path planning is what allows robots to operate on their own in unpredictable environments, whether they’re on a factory floor, navigating a warehouse, or driving on the road.\n",
                "\n",
                "To learn more, check out this article: [arXiv:2108.06699](https://arxiv.org/abs/2108.06699)\n",
                "\n",
                "<table>\n",
                "  <tr>\n",
                "    <td><img src=\"data/HW07map1.png\"  width=\"80%\"></td>\n",
                "    <td><img src=\"data/HW07map3.png\"  width=\"76%\"></td>\n",
                "  </tr>\n",
                "</table>\n",
                "\n",
                "### Optimality Criteria\n",
                "\n",
                "\n",
                "In path planning for robotics, various optimality criteria can be used to determine the best path from a starting point to a destination. These criteria are often application-dependent and can significantly influence the efficiency and effectiveness of the robot’s navigation. Here are some of the common optimality criteria:\n",
                "\n",
                "1. The simplest and most common goal is to minimize the distance traveled. Algorithms like Dijkstra’s and A* are great at finding the shortest route and are widely used in applications where speed matters (e.g. delivery robots or autonomous cars). Here, we illustrate the use of JuMP.\n",
                "\n",
                "2. Sometimes the shortest path isn’t the fastest. If there are speed limits, traffic, or moving obstacles, travel time becomes a more important factor than distance.\n",
                "\n",
                "3. For robots that run on batteries, conserving energy can be more important than taking the shortest or fastest route. Slower paths with easier terrain might actually be better in these cases.\n",
                "\n",
                "4. In risky environments (like disaster zones or construction sites), safety becomes the top priority. This might mean keeping a wide margin from hazards or choosing more stable ground over a shorter or faster route.\n",
                "\n",
                "5. In some applications, especially those involving delicate tasks like surgical robots or robotic arms in manufacturing, the robot’s movement needs to be smooth and precise. Here, we want to minimize sudden turns or jerky motions that could cause damage or error.\n",
                "\n",
                "\n",
                "Path planning is all about getting from Point A to Point B, but how you get there depends on the robot’s priorities. A Mars rover, for instance, might care more about energy efficiency and safety than getting there quickly. A delivery drone might care more about speed.\n",
                "\n",
                "In the work below, we’ll keep it simple: you’ll plan the **shortest path** from Point A to Point B while **avoiding obstacles**. We’ll use optimization tools like JuMP to help find that path.\n",
                "\n",
                "<br>\n",
                "\n",
                "## Example: Design a Path from Point A = [0.0, 0.0] to Point B = [10.0, 10.0], While Avoiding a Circular Obstacle"
            ]
        },
        {
            "cell_type": "code",
            "execution_count": null,
            "id": "wudqlecqzgi6n6excjmzhw",
            "metadata": {
                "cellIdentifier": "wudqlecqzgi6n6excjmzhw",
                "nbgrader": {
                    "grade": false,
                    "locked": false,
                    "solution": false
                }
            },
            "outputs": [],
            "source": [
                "using JuMP, Ipopt, Plots\n",
                "\n",
                "# Define the start and end points, obstacle characteristics\n",
                "start_point = [0.0, 0.0]\n",
                "end_point = [10.0, 10.0]\n",
                "circle_center = [4.0, 4.0]\n",
                "circle_radius = 3.0\n",
                "\n",
                "# Define a JuMP model\n",
                "model = Model(Ipopt.Optimizer)\n",
                "\n",
                "# Number of points defining a path\n",
                "num_points = 50\n",
                "\n",
                "# Decision variables for the x and y coordinates\n",
                "@variable(model, x[1:num_points])\n",
                "@variable(model, y[1:num_points])\n",
                "\n",
                "# A path consists of straightline segments from \n",
                "# (x[i], y[i]) to (x[i+1], y[i+1]), i=1:num_points-1\n",
                "# hence, a piecewise linear function\n",
                "\n",
                "# Initialize start and end points\n",
                "@constraint(model, x[1] == start_point[1])\n",
                "@constraint(model, y[1] == start_point[2])\n",
                "@constraint(model, x[num_points] == end_point[1])\n",
                "@constraint(model, y[num_points] == end_point[2])\n",
                "\n",
                "# Objective: Minimize the total path length\n",
                "@NLobjective(model, Min, sum(((x[i+1] - x[i])^2 + (y[i+1] - y[i])^2 + 1e-8) for i in 1:num_points-1))\n",
                "\n",
                "# Use a circle as an obstacle avoidance constraint for each point in the path\n",
                "for i in 1:num_points\n",
                "    @NLconstraint(model, (x[i] - circle_center[1])^2 + (y[i] - circle_center[2])^2 >= circle_radius^2)\n",
                "end\n",
                "\n",
                "set_optimizer_attribute(model, \"print_level\", 0)\n",
                "\n",
                "# Solve the optimization problem\n",
                "optimize!(model)\n",
                "\n",
                "# Extract the optimized path\n",
                "optimized_x = value.(x)\n",
                "optimized_y = value.(y)\n",
                "\n"
            ]
        },
        {
            "cell_type": "code",
            "execution_count": null,
            "id": "w8cbi4moe8t3s1rxcfj6tg",
            "metadata": {
                "cellIdentifier": "w8cbi4moe8t3s1rxcfj6tg",
                "nbgrader": {
                    "grade": false,
                    "locked": false,
                    "solution": false
                }
            },
            "outputs": [],
            "source": [
                "\n",
                "# Plotting\n",
                "p = plot(aspect_ratio=:equal, legend=:right)\n",
                "\n",
                "# Plot optimized path\n",
                "plot!(optimized_x, optimized_y, label=\"Optimized Path\", line=:solid, marker=:circle)\n",
                "\n",
                "# Plot circle obstacle\n",
                "circle_theta = 0:0.01:2*π\n",
                "plot!(circle_center[1] .+ circle_radius .* cos.(circle_theta), circle_center[2] .+ circle_radius .* sin.(circle_theta), \n",
                "    label=\"Circle Obstacle\", fill=(0, :orange))\n",
                "\n",
                "display(p)\n",
                "### BEGIN HIDDEN TESTS\n",
                "\n",
                "### END HIDDEN TESTS"
            ]
        },
        {
            "cell_type": "markdown",
            "id": "7g6mm9z2jsbrzhogtk1yy",
            "metadata": {
                "cellIdentifier": "7g6mm9z2jsbrzhogtk1yy",
                "nbgrader": {
                    "grade": false,
                    "locked": false,
                    "solution": false
                }
            },
            "source": [
                "### Next, Observe the Iterative Nature of the Convergence Process in Action"
            ]
        },
        {
            "cell_type": "code",
            "execution_count": null,
            "id": "utefp35tzgo4ry5b0o9i2v",
            "metadata": {
                "cellIdentifier": "utefp35tzgo4ry5b0o9i2v",
                "nbgrader": {
                    "grade": false,
                    "locked": false,
                    "solution": false
                }
            },
            "outputs": [],
            "source": [
                "using JuMP, Ipopt, Plots\n",
                "\n",
                "# Define the start and end points, obstacle characteristics\n",
                "start_point = [0.0, 0.0]\n",
                "end_point = [9.0, 10.0]\n",
                "circle_center = [4.0, 4.0]\n",
                "circle_radius = 3.0\n",
                "\n",
                "# Number of points defining the path\n",
                "num_points = 50\n",
                "\n",
                "model = Model(Ipopt.Optimizer)\n",
                "\n",
                "# Decision variables for the x and y coordinates\n",
                "@variable(model, x[1:num_points])\n",
                "@variable(model, y[1:num_points])\n",
                "\n",
                "# Initialize start and end points\n",
                "@constraint(model, x[1] == start_point[1])\n",
                "@constraint(model, y[1] == start_point[2])\n",
                "@constraint(model, x[num_points] == end_point[1])\n",
                "@constraint(model, y[num_points] == end_point[2])\n",
                "\n",
                "# Objective: Minimize the total path length\n",
                "@objective(model, Min, sum(((x[i+1] - x[i])^2 + (y[i+1] - y[i])^2 + 1e-8) for i in 1:num_points-1))\n",
                "\n",
                "\n",
                "# Circle obstacle avoidance constraints for each point\n",
                "for i in 1:num_points\n",
                "    @constraint(model, (x[i] - circle_center[1])^2 + (y[i] - circle_center[2])^2 >= circle_radius^2)\n",
                "end\n",
                "\n",
                "set_optimizer_attribute(model, \"print_level\", 0)\n",
                "\n",
                "# Initialize plot\n",
                "plt = plot(aspect_ratio=:equal, legend=:topright)\n",
                "\n",
                "# Plot the circle obstacle\n",
                "circle_theta = 0:0.01:2π\n",
                "plot!(plt, circle_center[1] .+ circle_radius .* cos.(circle_theta), \n",
                "         circle_center[2] .+ circle_radius .* sin.(circle_theta), \n",
                "         label=\"Circle Obstacle\", fill=(0, :orange))\n",
                "\n",
                "optimized_x =[]; optimized_y=[]\n",
                "\n",
                "# # Loop to simulate the iterative optimization process\n",
                "# for iteration in 1:15\n",
                "    \n",
                "#     # Limit Ipopt to a fixed number of iterations for each \"learning\" iteration\n",
                "#     set_optimizer_attribute(model, \"max_iter\", iteration *15)\n",
                "    \n",
                "#     # Solve the model\n",
                "#     optimize!(model)\n",
                "    \n",
                "#     # Extract and plot the optimized path\n",
                "#     optimized_x = value.(x)\n",
                "#     optimized_y = value.(y)\n",
                "#     plot!(plt, optimized_x, optimized_y, label=\"Iteration $(iteration*15)\")\n",
                "    \n",
                "#     display(plt)\n",
                "# end\n",
                "\n",
                "anim = @animate for i = 1:100\n",
                "    set_optimizer_attribute(model, \"max_iter\", i)\n",
                "    optimize!(model)\n",
                "    optimized_x = value.(x)\n",
                "    optimized_y = value.(y)\n",
                "    plot(plt, optimized_x, optimized_y, legend=false, \n",
                "        title=\"Optimizing the path from $(start_point) to $(end_point)\\nIteration $(i)\")\n",
                "end\n",
                "\n",
                "# Run the next cell to see the gif"
            ]
        },
        {
            "cell_type": "code",
            "execution_count": null,
            "id": "1jmtpzvra5y3x4wnmjql6a",
            "metadata": {
                "cellIdentifier": "1jmtpzvra5y3x4wnmjql6a",
                "nbgrader": {
                    "grade": false,
                    "locked": false,
                    "solution": false
                }
            },
            "outputs": [],
            "source": [
                "plot(plt, optimized_x, optimized_y, legend=false, \n",
                "        title=\"Optimizing the path from $(start_point) to $(end_point)\\nIteration $(1)\")\n",
                "\n",
                "mp4(anim, \"pathplanning_optim_single_Obstacle.mp4\", fps=10)"
            ]
        },
        {
            "cell_type": "markdown",
            "id": "2teupleqj8utdydy64pts",
            "metadata": {
                "cellIdentifier": "2teupleqj8utdydy64pts",
                "nbgrader": {
                    "grade": false,
                    "locked": false,
                    "solution": false
                }
            },
            "source": [
                "## Problem 1: Final Feat of Magic: Path Planning with Multiple Obstacles. \n",
                "\n",
                "You can play around with the start point, end point, and obstacle locations to create different paths!\n",
                "\n",
                "<table>\n",
                "  <tr>\n",
                "    <td><img src=\"data/HW07ConvergnceProcessMultiObstacle.png\",  width=\"60%\"></td>\n",
                "    <td><img src=\"data/HW07ConvergnceProcessMultiObstacleMiddle.png\",  width=\"60%\"></td>\n",
                "      </tr>\n",
                "</table>"
            ]
        },
        {
            "cell_type": "code",
            "execution_count": null,
            "id": "3s9zi6yc94br5smtuh6nx",
            "metadata": {
                "cellIdentifier": "3s9zi6yc94br5smtuh6nx",
                "nbgrader": {
                    "grade": false,
                    "locked": false,
                    "solution": false
                }
            },
            "outputs": [],
            "source": [
                "using JuMP, Ipopt, Plots\n",
                "\n",
                "# Define the start and end points, obstacle characteristics\n",
                "start_point = [0.0, 0.0]\n",
                "end_point = [31.0, 32.0]\n",
                "\n",
                "circle1_center = [4.0, 4.0]\n",
                "circle1_radius = 2.0\n",
                "\n",
                "circle2_center = [10, 10.5]\n",
                "circle2_radius = 1.25\n",
                "\n",
                "circle3_center = [18.5, 18]\n",
                "circle3_radius = 3\n",
                "\n",
                "circle4_center = [24.5, 24.5]\n",
                "circle4_radius = 2.15\n",
                "\n",
                "circle5_center = [30.0, 30.5]\n",
                "circle5_radius = 0.5\n",
                "\n",
                "\n",
                "# Number of points defining the path\n",
                "num_points = 50\n",
                "\n",
                "model = Model(Ipopt.Optimizer)\n",
                "\n",
                "# Decision variables for the x and y coordinates\n",
                "@variable(model, x[1:num_points])\n",
                "@variable(model, y[1:num_points])\n",
                "\n",
                "# Initialize start and end points\n",
                "@constraint(model, x[1] == start_point[1])\n",
                "@constraint(model, y[1] == start_point[2])\n",
                "@constraint(model, x[num_points] == end_point[1])\n",
                "@constraint(model, y[num_points] == end_point[2])\n",
                "\n",
                "# Objective: Minimize the total path length\n",
                "# @objective(model, Min, ...)\n",
                "### BEGIN SOLUTION\n",
                "@objective(model, Min, sum(((x[i+1] - x[i])^2 + (y[i+1] - y[i])^2 + 1e-8) for i in 1:num_points-1))\n",
                "### END SOLUTION\n",
                "\n",
                "# Circle obstacle avoidance constraints for each point\n",
                "extra_margin_for_radius = 1e-4\n",
                "for i in 1:num_points\n",
                "    # @constraint(model, ...)\n",
                "    ### BEGIN SOLUTION\n",
                "    @constraint(model, (x[i] - circle1_center[1])^2 + (y[i] - circle1_center[2])^2 >= (circle1_radius + extra_margin_for_radius)^2)\n",
                "    @constraint(model, (x[i] - circle2_center[1])^2 + (y[i] - circle2_center[2])^2 >= (circle2_radius + extra_margin_for_radius)^2)\n",
                "    @constraint(model, (x[i] - circle3_center[1])^2 + (y[i] - circle3_center[2])^2 >= (circle3_radius + extra_margin_for_radius)^2)\n",
                "    @constraint(model, (x[i] - circle4_center[1])^2 + (y[i] - circle4_center[2])^2 >= (circle4_radius + extra_margin_for_radius)^2)\n",
                "    @constraint(model, (x[i] - circle5_center[1])^2 + (y[i] - circle5_center[2])^2 >= (circle5_radius + extra_margin_for_radius)^2)\n",
                "    ### END SOLUTION\n",
                "end\n",
                "\n",
                "set_optimizer_attribute(model, \"print_level\", 0)\n",
                "\n",
                "# Initialize plot\n",
                "plt = plot(aspect_ratio=:equal, xlims=(0,35), ylims=(0,35))\n",
                "\n",
                "# Plot the circle obstacles\n",
                "circle_theta = 0:0.01:2π\n",
                "plot!(plt, circle1_center[1] .+ circle1_radius .* cos.(circle_theta), \n",
                "         circle1_center[2] .+ circle1_radius .* sin.(circle_theta), \n",
                "         fill=(0, :orange))\n",
                "\n",
                "plot!(plt, circle2_center[1] .+ circle2_radius .* cos.(circle_theta), \n",
                "         circle2_center[2] .+ circle2_radius .* sin.(circle_theta), \n",
                "         fill=(0, :orange))\n",
                "\n",
                "plot!(plt, circle3_center[1] .+ circle3_radius .* cos.(circle_theta), \n",
                "         circle3_center[2] .+ circle3_radius .* sin.(circle_theta), \n",
                "         fill=(0, :orange))\n",
                "\n",
                "plot!(plt, circle4_center[1] .+ circle4_radius .* cos.(circle_theta), \n",
                "         circle4_center[2] .+ circle4_radius .* sin.(circle_theta), \n",
                "         fill=(0, :orange))\n",
                "\n",
                "plot!(plt, circle5_center[1] .+ circle5_radius .* cos.(circle_theta), \n",
                "        circle5_center[2] .+ circle5_radius .* sin.(circle_theta), \n",
                "        fill=(0, :orange))\n",
                "\n",
                "optimized_x =[]; optimized_y=[]\n",
                "\n",
                "\n",
                "anim = @animate for i = 1:2:200\n",
                "    set_optimizer_attribute(model, \"max_iter\", i)\n",
                "    optimize!(model)\n",
                "    optimized_x = value.(x)\n",
                "    optimized_y = value.(y)\n",
                "    plot(plt, optimized_x, optimized_y, legend=false, \n",
                "        title=\"Optimizing the path from $(start_point) to $(end_point)\\nIteration $(i)\")\n",
                "end\n",
                "\n",
                "mp4(anim, \"pathplanning_optim.mp4\", fps=10)\n"
            ]
        },
        {
            "cell_type": "code",
            "execution_count": null,
            "id": "o22zm8e7djshv4f81dow",
            "metadata": {
                "cellIdentifier": "o22zm8e7djshv4f81dow",
                "nbgrader": {
                    "grade": false,
                    "locked": false,
                    "solution": false
                }
            },
            "outputs": [],
            "source": [
                "#= Friendly Check =#\n",
                "using LinearAlgebra\n",
                "set_optimizer_attribute(model, \"max_iter\", 200)\n",
                "optimize!(model)\n",
                "optimized_x = value.(x)\n",
                "optimized_y = value.(y)\n",
                "\n",
                "optimized_x_ans_first_5 = [-1.9158205754706475e-31, 0.8381762502895878, 1.6763525012832179, 2.514528753065119, 3.352705005741577]\n",
                "optimized_x_ans_last_5 = [28.011279770154648, 28.75845982060225, 29.505639873023235, 30.25281993718988, 31.0]\n",
                "optimized_y_ans_first_5 = [4.1468949145610476e-31, 0.38082286193215453, 0.7616457246431918, 1.1424685883632593, 1.523291453567372]\n",
                "optimized_y_ans_last_5 = [29.767178947285714, 30.32538421661505, 30.88358948577485, 31.441794744797914, 32.0]\n",
                "\n",
                "is_it_correct_checkx1 = norm(optimized_x[1:5] - optimized_x_ans_first_5) <= 1e-2 ? \"Yes\" : \"No\"\n",
                "is_it_correct_checkx2 = norm(optimized_x[46:50] - optimized_x_ans_last_5) <= 1e-2 ? \"Yes\" : \"No\"\n",
                "is_it_correct_checky1 = norm(optimized_y[1:5] - optimized_y_ans_first_5) <= 1e-2 ? \"Yes\" : \"No\"\n",
                "is_it_correct_checky2 = norm(optimized_y[46:50] - optimized_y_ans_last_5) <= 1e-2 ? \"Yes\" : \"No\"\n",
                "\n",
                "@show is_it_correct_checkx1;\n",
                "@show is_it_correct_checkx2;\n",
                "@show is_it_correct_checky1;\n",
                "@show is_it_correct_checky2;"
            ]
        },
        {
            "cell_type": "markdown",
            "id": "f4r896oc3pwy9at2z21g6a",
            "metadata": {
                "cellIdentifier": "f4r896oc3pwy9at2z21g6a",
                "nbgrader": {
                    "grade": false,
                    "locked": false,
                    "solution": false
                }
            },
            "source": [
                "# Computing Antiderivatives with SymPy\n",
                "\n",
                "<p align=\"center\">\n",
                "  <img src=\"data/HW07AntiderivativeDefinition.png\", width=\"90%\">\n",
                "</p>\n",
                "<br>\n",
                "\n",
                "Review the following cell carefully, then use what you’ve learned to solve the problems that follow.\n"
            ]
        },
        {
            "cell_type": "code",
            "execution_count": null,
            "id": "r0hejfaxhel48j17ilox6f",
            "metadata": {
                "cellIdentifier": "r0hejfaxhel48j17ilox6f",
                "nbgrader": {
                    "grade": false,
                    "locked": false,
                    "solution": false
                }
            },
            "outputs": [],
            "source": [
                "using SymPy\n",
                "\n",
                "@syms x\n",
                "\n",
                "# Complicated Rational Function\n",
                "f = (x^6 - 2x^4 + 3x^2 - 4) / (x^3 - x)\n",
                "\n",
                "# To display the functions:\n",
                "println(\"Function f: \", f)\n",
                "\n",
                "# Compute the antiderivative\n",
                "F = integrate(f, x)\n",
                "\n",
                "# Display the result\n",
                "println(\"\\nThe antiderivative of \", f, \" is \\n\", F, \"\\n\")\n",
                "\n",
                "# Proof that F1 is an antiderivative of f1\n",
                "@show Check = simplify(f - diff(F, x))"
            ]
        },
        {
            "cell_type": "markdown",
            "id": "fz7iad1ltan3et7q2ua3do",
            "metadata": {
                "cellIdentifier": "fz7iad1ltan3et7q2ua3do",
                "nbgrader": {
                    "grade": false,
                    "locked": false,
                    "solution": false
                }
            },
            "source": [
                "# Problem 2: Compute Velocity and Displacement from Acceleration\n",
                "\n",
                "Given the acceleration function $A(x) = sin(x^2) * cos(x)$, find the velocity and displacement function. (Use SymPy)"
            ]
        },
        {
            "cell_type": "code",
            "execution_count": null,
            "id": "7lb1gimqsht2piqggk6744",
            "metadata": {
                "cellIdentifier": "7lb1gimqsht2piqggk6744",
                "nbgrader": {
                    "grade": false,
                    "locked": false,
                    "solution": false
                }
            },
            "outputs": [],
            "source": [
                "using SymPy\n",
                "\n",
                "@syms x\n",
                "\n",
                "A = sin(x^2) * cos(x)\n",
                "\n",
                "# Uncomment and fill in the answers.\n",
                "# V =\n",
                "# X =\n",
                "\n",
                "### BEGIN SOLUTION \n",
                "V = integrate(A, x)\n",
                "X = integrate(V, x)\n",
                "### END SOLUTION"
            ]
        },
        {
            "cell_type": "code",
            "execution_count": null,
            "id": "3k89whnrdsgkm4ph2c2od",
            "metadata": {
                "cellIdentifier": "3k89whnrdsgkm4ph2c2od",
                "nbgrader": {
                    "grade": false,
                    "locked": false,
                    "solution": false
                }
            },
            "outputs": [],
            "source": [
                "# friendly check\n",
                "# if the value of is_it_correct_checkN is \"Yes\", then your answer is LIKELY correct. \n",
                "# If the value of is_it_correct_checkN is \"No\", then your answer is DEFINITELY wrong\n",
                "\n",
                "is_it_correct_checkV = simplify(A - diff(V, x)) == 0 ? \"Yes\" : \"No\"\n",
                "is_it_correct_checkX = simplify(V - diff(X, x)) == 0 ? \"Yes\" : \"No\"\n",
                "\n",
                "@show is_it_correct_checkV;\n",
                "@show is_it_correct_checkX;"
            ]
        },
        {
            "cell_type": "markdown",
            "id": "ge0y9xsldajisenx6yrve",
            "metadata": {
                "cellIdentifier": "ge0y9xsldajisenx6yrve",
                "nbgrader": {
                    "grade": false,
                    "locked": false,
                    "solution": false
                }
            },
            "source": [
                "# Fundamental Theorems of Calculus\n",
                "\n",
                "<p align=\"center\">\n",
                "  <img src=\"data/HW07FundamentalTheoremsCalculus.png\", width=\"90%\">\n",
                "</p>\n",
                "<br>\n",
                "\n",
                "  - **The First Fundamental Theorem** states that \"*if you integrate a function and then differentiate it (with respect to the upper limit of integration), you get the original function back*\". That is, differentiation undoes (inverses) integration, just as first exponentiating a number and then taking the logarithm gives back the original number. The logarithm undoes (inverses) exponentiation.\n",
                "  \n",
                "  \n",
                "  - **The Second Fundamental Theorem** states that \"*if you differentiate a function and then integrate it, you recover the original function up to an arbitrary constant, typically denoted $C$.*\" The appearance of the arbitray constant is because $f(x)$ and $f(x) + C$ have the same derivative. Hence, modulo this constant of integration, integration undoes (inverses) differentiation. An analogy in the real numbers would be, if you compute the sine function of an arbitray real number and then apply arcsine to it, you will recover the original number modulo $\\pi$. This is because the range of the arcsine function is $[-\\frac{\\pi}{2},  \\frac{\\pi}{2}]$.\n"
            ]
        },
        {
            "cell_type": "code",
            "execution_count": null,
            "id": "wmvgo40vd2aeak6xgfzfo",
            "metadata": {
                "cellIdentifier": "wmvgo40vd2aeak6xgfzfo",
                "nbgrader": {
                    "grade": false,
                    "locked": false,
                    "solution": false
                }
            },
            "outputs": [],
            "source": [
                "# Illustration of the First Fundamental Theorem of Calculus\n",
                "\n",
                "using ForwardDiff\n",
                "\n",
                "# Define the function\n",
                "f(x) = exp(x^2)\n",
                "\n",
                "# Simple trapezoidal rule for integration compatible with ForwardDiff\n",
                "function trapZGPTstyle(f, a, b, n=1000)\n",
                "    h = (b - a) / n\n",
                "    if true # suggested by GPT\n",
                "        integral = 0.5 * (f(a) + f(b))\n",
                "        for i in 1:n-1\n",
                "            x = a + i * h\n",
                "            integral += f(x)\n",
                "        end\n",
                "        return integral * h\n",
                "        else # our standard formulation which is less efficient\n",
                "        integral = 0.0\n",
                "        xi = a\n",
                "         for i in 1:n\n",
                "            xip1 = a + i*h\n",
                "            integral += h*(f(xi) + f(xip1))/2.0\n",
                "            xi = xip1\n",
                "        end\n",
                "        return integral        \n",
                "    end\n",
                "end\n",
                "\n",
                "# Define the antiderivative using the trapezoidal rule\n",
                "function antiderivative(x)\n",
                "    return trapZGPTstyle(f, 0, x)\n",
                "end\n",
                "\n",
                "# Define a function to differentiate the antiderivative\n",
                "g(x) = antiderivative(x)\n",
                "\n",
                "# Differentiate the antiderivative at a specific point using ForwardDiff\n",
                "x0 = 1.0  # Point at which to differentiate\n",
                "df_numerical = ForwardDiff.derivative(g, x0)\n",
                "\n",
                "# Compare with the analytical derivative\n",
                "df_analytical = f(x0)\n",
                "\n",
                "println(\"Numerical derivative at x = $x0: $df_numerical\")\n",
                "println(\"Analytical value of f(x) at x = $x0: $df_analytical\")\n",
                "println(\"Error: \", abs(df_numerical - df_analytical))\n",
                "\n",
                "println(\"\\nThe derivative of an indefinite integral is the INTEGRAND (the function \n",
                "being integrated). This is the message of the First Fundamental Theorem of Calculus.\")"
            ]
        },
        {
            "cell_type": "code",
            "execution_count": null,
            "id": "44dqpkprmlk4fchj2ls9uf",
            "metadata": {
                "cellIdentifier": "44dqpkprmlk4fchj2ls9uf",
                "nbgrader": {
                    "grade": false,
                    "locked": false,
                    "solution": false
                }
            },
            "outputs": [],
            "source": [
                "# Illustration of the Second Fundamental Theorem of Calculus\n",
                "using Plots, LaTeXStrings\n",
                "using ForwardDiff\n",
                "using QuadGK\n",
                "\n",
                "# Define the original function\n",
                "#F(x) = x^2 + 3x + 2\n",
                "F(x) = exp(sin(sqrt(x))) - 2.0\n",
                "\n",
                "# Derivative function using ForwardDiff\n",
                "dF(x) = ForwardDiff.derivative(F, x)\n",
                "\n",
                "# Function to perform the numerical integration of the derivative\n",
                "function integrated_derivative(x)\n",
                "    integral, _ = quadgk(dF, 0, x)  # Integrating from 0 to x\n",
                "    return integral\n",
                "end\n",
                "\n",
                "# Generate data for plotting\n",
                "x_values = 1e-3:0.1:10\n",
                "original_values = F.(x_values)\n",
                "integrated_values = integrated_derivative.(x_values)\n",
                "\n",
                "# Calculate the constant difference. Can you any common point\n",
                "constant = original_values[11] - integrated_values[11]\n",
                "\n",
                "# Plotting the functions\n",
                "p1 = plot(x_values, original_values, label=\"Original Function F(x)\", linewidth=5, color=:lightgray, guidefont=15)\n",
                "plot!(x_values, integrated_values, label=\"Integral of F'(x)\", linestyle=:dashdot, linewidth=2, color=:blue)\n",
                "plot!(x_values, integrated_values .+ constant, label=\"Integral of F'(x) + constant\", linestyle=:dash, \n",
                "    color=:red, linewidth=2)\n",
                "title!(\"Second Fundamental Theorem of Calculus in Action\")\n",
                "xlabel!(L\"x\")\n",
                "ylabel!(L\"F(x)\")\n",
                "\n",
                "println(\"\\nThe integral of the derivative of a function recovers the original function\n",
                "up to a constant. This is the message of the Second Fundamental Theorem of Calculus.\\n \\n\")\n",
                "\n",
                "\n",
                "display(p1)"
            ]
        },
        {
            "cell_type": "markdown",
            "id": "6mbm8zmcrgo5gc03a8ftv9",
            "metadata": {
                "cellIdentifier": "6mbm8zmcrgo5gc03a8ftv9",
                "nbgrader": {
                    "grade": false,
                    "locked": false,
                    "solution": false
                }
            },
            "source": [
                "# LLMs and Calculus\n",
                "\n",
                "<p align=\"center\">\n",
                "  <img src=\"data/HW07ChatGPTSelfPortrait.png\", width=\"40%\">\n",
                "</p>\n",
                "<br>\n",
                "\n",
                "The following questions are based on the Fundamental Theorems of Calculus. Open this cell by clicking on it, and then copy-paste them into your favorite LLM along with a request for detailed answers. Based on the questions and answers, respond to the questions in the next cell.\n",
                "\n",
                "1. Given $f(x) = 5x^4 - 3x + 2$ and define $G(x) = \\int_{0}^{x} f(t) \\, dt$. Use the First Fundamental Theorem of Calculus to find the derivative of $G(x)$.\n",
                "\n",
                "2. Let $\\beta(x) = \\cos(x^2) \\cdot \\ln(1+x)$ and it is known that $\\beta'(x) = \\frac{-2x \\sin(x^2) \\cdot \\ln(1+x) + \\cos(x^2)}{1+x}$. Compute $\\int_{0}^{2} \\beta'(x) \\, dx$.\n",
                "\n",
                "3. Suppose $p(x)$ is a continuous function such that $\\int_{-1}^{x} p(t) \\, dt = 3x^3 + x^2 - x$. Determine $p(x)$.\n",
                "\n",
                "4. Given that $r(t)$ satisfies $\\int_{3}^{t} r(x) \\, dx = 5t - t^2$, calculate $r(t)$.\n"
            ]
        },
        {
            "cell_type": "markdown",
            "id": "h5s122dt8lucehoxza3v",
            "metadata": {
                "cellIdentifier": "h5s122dt8lucehoxza3v",
                "nbgrader": {
                    "grade": false,
                    "locked": false,
                    "solution": false
                }
            },
            "source": [
                "# Problem 3: Fundamental Theorems of Calculus and LLMs\n",
                "\n",
                "Here are four multiple-choice questions relating to the Fundamental Theorem of Calculus, with the last one involving the use of large language models (LLMs) to generate solutions:\n",
                "\n",
                "**Question 3.1a: Let $G(x) = \\int_{1}^{x} \\cos(t^2) dt$. Which of the following is the correct expression for $G'(x)$?**\n",
                "   - A) $\\cos(x^2)$\n",
                "   - B) $\\cos(x^2) \\cdot 2x$\n",
                "   - C) $\\sin(x^2)$\n",
                "   - D) $\\sin(x^2) \\cdot 2x$\n",
                "\n",
                "**Question 3.1b: Which of the following has different value?**\n",
                "   - A) $\\frac{d}{dt} (\\int_{1}^{x} \\cos(t^2) dt)$\n",
                "   - B) $\\frac{d}{dt} (\\int_{1}^{x} \\cos(k^2) dk)$\n",
                "   - C) $\\frac{d}{dt} (\\int_{3}^{x} \\cos(t^2) dt)$\n",
                "   - D) All the above are the same.\n",
                "\n",
                "**Question 3.2: If $\\int_{x}^{c} j(t) \\, dt = x^5 + 3x^2 + 7$, then $j(x)$ equals:**\n",
                "   - A) $5x^4 + 6x$\n",
                "   - B) $x^5 + 3x^2 + 7$\n",
                "   - C) $- 5x^4 - 6x$\n",
                "   - D) $x^5 + 3x^2$\n",
                "\n",
                "\n",
                "**Question 3.3: When using a large language model (LLM) like GPT-4 to support learning calculus, particularly with the Fundamental Theorem of Calculus, which of the following best reflects proper use?**\n",
                "   - A) LLMs can generate exact, step-by-step proofs for all integrals without error.\n",
                "   - B) LLMs replace the need to study since they provide answers instantly.\n",
                "   - C) LLMs are useful tools for exploring reasoning, checking steps, and clarifying methods when used alongside human understanding.\n",
                "   - D) LLMs generate answers using a fixed rulebook of human-written solutions and cannot handle new problems.\n",
                "\n",
                "### Instructions\n",
                "Record your answers in the cell below using uppercase (CAPITAL) letters: A, B, C, or D.\n",
                "\n"
            ]
        },
        {
            "cell_type": "code",
            "execution_count": null,
            "id": "it84ehinjgn5yeyzk9x77b",
            "metadata": {
                "cellIdentifier": "it84ehinjgn5yeyzk9x77b",
                "nbgrader": {
                    "grade": false,
                    "locked": false,
                    "solution": false
                }
            },
            "outputs": [],
            "source": [
                "# Answer1 = \"X\"\n",
                "# Answer2 = \"X\"\n",
                "# Answer3 = \"X\"\n",
                "# Answer4 = \"X\"\n",
                "\n",
                "### BEGIN SOLUTION \n",
                "Answer1 = \"A\"\n",
                "Answer2 = \"D\"\n",
                "Answer3 = \"C\"\n",
                "Answer4 = \"C\"\n",
                "### END SOLUTION \n"
            ]
        },
        {
            "cell_type": "code",
            "execution_count": null,
            "id": "yufqs4628toxzuh4qq79q",
            "metadata": {
                "cellIdentifier": "yufqs4628toxzuh4qq79q",
                "nbgrader": {
                    "grade": false,
                    "locked": false,
                    "solution": false
                }
            },
            "outputs": [],
            "source": [
                "# Friendly Check\n",
                "function evaluate_answers(answer_code)\n",
                "    # This is an obfuscating mechanism using a pseudo-hash function with an additional obfuscation key\n",
                "    function pseudo_hash(c, i, obfuscation_key)\n",
                "        ascii_val = Int(c)  # Convert character to its ASCII integer value\n",
                "        # Apply a more complex hashing function that uses both the position and a key\n",
                "        return (ascii_val % 16 + i * (ascii_val % 3) + obfuscation_key[i] % 7) % 11\n",
                "    end\n",
                "    \n",
                "    # Define a constant obfuscation key (could be randomly generated for each session or exam)\n",
                "    obfuscation_key = [3, 6, 5, 7]\n",
                "\n",
                "    # Compute the pseudo-hash for each student answer based on its position and the obfuscation key\n",
                "    student_hashes = [pseudo_hash(Char(ans), idx, obfuscation_key) for (idx, ans) in enumerate(answer_code)]\n",
                "\n",
                "    # Compare hashes to determine the number of correct answers\n",
                "    # Obfuscated problem hashes, precomputed using the same obfuscation key\n",
                "    problem_hashes = [6, 3, 0, 7] # Example hashes that you would compute beforehand\n",
                "    num_correct = sum([student_hashes[i] == problem_hashes[i] for i in 1:length(answer_code)])\n",
                "    \n",
                "    return num_correct\n",
                "end\n",
                "\n",
                "CheckAnswers = Answer1*Answer2*Answer3*Answer4\n",
                "NumCorrect = evaluate_answers(CheckAnswers)\n",
                "println(\"You currently have $NumCorrect correct answers out of 4. \n",
                "    They are worth 0.5 points each.\")"
            ]
        },
        {
            "cell_type": "markdown",
            "id": "gu6hh7mmwefk0z0ekn0a2",
            "metadata": {
                "cellIdentifier": "gu6hh7mmwefk0z0ekn0a2",
                "nbgrader": {
                    "grade": false,
                    "locked": false,
                    "solution": false
                }
            },
            "source": [
                "<p align=\"center\" style=\"font-size:48px;\"><strong>The End! </strong></p>"
            ]
        }
    ],
    "metadata": {
        "kernel_id": "0a00fcc5-ec5e-4fed-9736-35229af5f8c5",
        "kernelspec": {
            "display_name": "Julia 1.10.5",
            "language": "julia",
            "name": "julia-1.10"
        },
        "language_info": {
            "file_extension": ".jl",
            "mimetype": "application/julia",
            "name": "julia",
            "version": "1.10.5"
        }
    },
    "nbformat": 4,
    "nbformat_minor": 4
}
